{
 "cells": [
  {
   "cell_type": "code",
   "execution_count": 1,
   "id": "afd7c3c5",
   "metadata": {
    "_cell_guid": "b1076dfc-b9ad-4769-8c92-a6c4dae69d19",
    "_uuid": "8f2839f25d086af736a60e9eeb907d3b93b6e0e5",
    "execution": {
     "iopub.execute_input": "2023-12-19T23:09:21.175928Z",
     "iopub.status.busy": "2023-12-19T23:09:21.175583Z",
     "iopub.status.idle": "2023-12-19T23:09:23.775957Z",
     "shell.execute_reply": "2023-12-19T23:09:23.774986Z"
    },
    "papermill": {
     "duration": 2.624252,
     "end_time": "2023-12-19T23:09:23.778405",
     "exception": false,
     "start_time": "2023-12-19T23:09:21.154153",
     "status": "completed"
    },
    "tags": []
   },
   "outputs": [
    {
     "name": "stderr",
     "output_type": "stream",
     "text": [
      "/opt/conda/lib/python3.10/site-packages/scipy/__init__.py:146: UserWarning: A NumPy version >=1.16.5 and <1.23.0 is required for this version of SciPy (detected version 1.24.3\n",
      "  warnings.warn(f\"A NumPy version >={np_minversion} and <{np_maxversion}\"\n"
     ]
    }
   ],
   "source": [
    "import numpy as np \n",
    "import pandas as pd\n",
    "import cv2\n",
    "import PIL\n",
    "import matplotlib.pyplot as plt \n",
    "import plotly.express as px\n",
    "import seaborn as sns\n",
    "import glob\n",
    "import random\n",
    "import os\n",
    "from os import listdir\n",
    "import glob\n"
   ]
  },
  {
   "cell_type": "markdown",
   "id": "3cff9029",
   "metadata": {
    "papermill": {
     "duration": 0.019367,
     "end_time": "2023-12-19T23:09:23.817636",
     "exception": false,
     "start_time": "2023-12-19T23:09:23.798269",
     "status": "completed"
    },
    "tags": []
   },
   "source": [
    ""
   ]
  },
  {
   "cell_type": "code",
   "execution_count": 2,
   "id": "38be44a1",
   "metadata": {
    "execution": {
     "iopub.execute_input": "2023-12-19T23:09:23.861113Z",
     "iopub.status.busy": "2023-12-19T23:09:23.860350Z",
     "iopub.status.idle": "2023-12-19T23:09:24.093627Z",
     "shell.execute_reply": "2023-12-19T23:09:24.092761Z"
    },
    "papermill": {
     "duration": 0.256481,
     "end_time": "2023-12-19T23:09:24.096034",
     "exception": false,
     "start_time": "2023-12-19T23:09:23.839553",
     "status": "completed"
    },
    "tags": []
   },
   "outputs": [],
   "source": [
    "dicom_data = pd.read_csv('/kaggle/input/cbis-ddsm-breast-cancer-image-dataset/csv/dicom_info.csv')\n",
    "image_dir = '/kaggle/input/cbis-ddsm-breast-cancer-image-dataset/jpeg'"
   ]
  },
  {
   "cell_type": "code",
   "execution_count": 3,
   "id": "6e60efda",
   "metadata": {
    "execution": {
     "iopub.execute_input": "2023-12-19T23:09:24.137654Z",
     "iopub.status.busy": "2023-12-19T23:09:24.137115Z",
     "iopub.status.idle": "2023-12-19T23:09:24.143779Z",
     "shell.execute_reply": "2023-12-19T23:09:24.142907Z"
    },
    "papermill": {
     "duration": 0.029529,
     "end_time": "2023-12-19T23:09:24.145684",
     "exception": false,
     "start_time": "2023-12-19T23:09:24.116155",
     "status": "completed"
    },
    "tags": []
   },
   "outputs": [
    {
     "data": {
      "text/plain": [
       "(10237, 38)"
      ]
     },
     "execution_count": 3,
     "metadata": {},
     "output_type": "execute_result"
    }
   ],
   "source": [
    "dicom_data.shape"
   ]
  },
  {
   "cell_type": "code",
   "execution_count": 4,
   "id": "852857cb",
   "metadata": {
    "execution": {
     "iopub.execute_input": "2023-12-19T23:09:24.187619Z",
     "iopub.status.busy": "2023-12-19T23:09:24.187214Z",
     "iopub.status.idle": "2023-12-19T23:09:24.221159Z",
     "shell.execute_reply": "2023-12-19T23:09:24.220059Z"
    },
    "papermill": {
     "duration": 0.058057,
     "end_time": "2023-12-19T23:09:24.223631",
     "exception": false,
     "start_time": "2023-12-19T23:09:24.165574",
     "status": "completed"
    },
    "tags": []
   },
   "outputs": [
    {
     "data": {
      "text/html": [
       "<div>\n",
       "<style scoped>\n",
       "    .dataframe tbody tr th:only-of-type {\n",
       "        vertical-align: middle;\n",
       "    }\n",
       "\n",
       "    .dataframe tbody tr th {\n",
       "        vertical-align: top;\n",
       "    }\n",
       "\n",
       "    .dataframe thead th {\n",
       "        text-align: right;\n",
       "    }\n",
       "</style>\n",
       "<table border=\"1\" class=\"dataframe\">\n",
       "  <thead>\n",
       "    <tr style=\"text-align: right;\">\n",
       "      <th></th>\n",
       "      <th>file_path</th>\n",
       "      <th>image_path</th>\n",
       "      <th>AccessionNumber</th>\n",
       "      <th>BitsAllocated</th>\n",
       "      <th>BitsStored</th>\n",
       "      <th>BodyPartExamined</th>\n",
       "      <th>Columns</th>\n",
       "      <th>ContentDate</th>\n",
       "      <th>ContentTime</th>\n",
       "      <th>ConversionType</th>\n",
       "      <th>...</th>\n",
       "      <th>SecondaryCaptureDeviceManufacturerModelName</th>\n",
       "      <th>SeriesDescription</th>\n",
       "      <th>SeriesInstanceUID</th>\n",
       "      <th>SeriesNumber</th>\n",
       "      <th>SmallestImagePixelValue</th>\n",
       "      <th>SpecificCharacterSet</th>\n",
       "      <th>StudyDate</th>\n",
       "      <th>StudyID</th>\n",
       "      <th>StudyInstanceUID</th>\n",
       "      <th>StudyTime</th>\n",
       "    </tr>\n",
       "  </thead>\n",
       "  <tbody>\n",
       "    <tr>\n",
       "      <th>0</th>\n",
       "      <td>CBIS-DDSM/dicom/1.3.6.1.4.1.9590.100.1.2.12930...</td>\n",
       "      <td>CBIS-DDSM/jpeg/1.3.6.1.4.1.9590.100.1.2.129308...</td>\n",
       "      <td>NaN</td>\n",
       "      <td>16</td>\n",
       "      <td>16</td>\n",
       "      <td>BREAST</td>\n",
       "      <td>351</td>\n",
       "      <td>20160426</td>\n",
       "      <td>131732.685</td>\n",
       "      <td>WSD</td>\n",
       "      <td>...</td>\n",
       "      <td>MATLAB</td>\n",
       "      <td>cropped images</td>\n",
       "      <td>1.3.6.1.4.1.9590.100.1.2.129308726812851964007...</td>\n",
       "      <td>1</td>\n",
       "      <td>23078</td>\n",
       "      <td>ISO_IR 100</td>\n",
       "      <td>20160720.0</td>\n",
       "      <td>DDSM</td>\n",
       "      <td>1.3.6.1.4.1.9590.100.1.2.271867287611061855725...</td>\n",
       "      <td>214951.0</td>\n",
       "    </tr>\n",
       "    <tr>\n",
       "      <th>1</th>\n",
       "      <td>CBIS-DDSM/dicom/1.3.6.1.4.1.9590.100.1.2.24838...</td>\n",
       "      <td>CBIS-DDSM/jpeg/1.3.6.1.4.1.9590.100.1.2.248386...</td>\n",
       "      <td>NaN</td>\n",
       "      <td>16</td>\n",
       "      <td>16</td>\n",
       "      <td>BREAST</td>\n",
       "      <td>3526</td>\n",
       "      <td>20160426</td>\n",
       "      <td>143829.101</td>\n",
       "      <td>WSD</td>\n",
       "      <td>...</td>\n",
       "      <td>MATLAB</td>\n",
       "      <td>full mammogram images</td>\n",
       "      <td>1.3.6.1.4.1.9590.100.1.2.248386742010678582309...</td>\n",
       "      <td>1</td>\n",
       "      <td>0</td>\n",
       "      <td>ISO_IR 100</td>\n",
       "      <td>20160720.0</td>\n",
       "      <td>DDSM</td>\n",
       "      <td>1.3.6.1.4.1.9590.100.1.2.161516517311681906612...</td>\n",
       "      <td>193426.0</td>\n",
       "    </tr>\n",
       "    <tr>\n",
       "      <th>2</th>\n",
       "      <td>CBIS-DDSM/dicom/1.3.6.1.4.1.9590.100.1.2.26721...</td>\n",
       "      <td>CBIS-DDSM/jpeg/1.3.6.1.4.1.9590.100.1.2.267213...</td>\n",
       "      <td>NaN</td>\n",
       "      <td>16</td>\n",
       "      <td>16</td>\n",
       "      <td>BREAST</td>\n",
       "      <td>1546</td>\n",
       "      <td>20160503</td>\n",
       "      <td>111956.298</td>\n",
       "      <td>WSD</td>\n",
       "      <td>...</td>\n",
       "      <td>MATLAB</td>\n",
       "      <td>full mammogram images</td>\n",
       "      <td>1.3.6.1.4.1.9590.100.1.2.267213171011171858918...</td>\n",
       "      <td>1</td>\n",
       "      <td>0</td>\n",
       "      <td>ISO_IR 100</td>\n",
       "      <td>20160807.0</td>\n",
       "      <td>DDSM</td>\n",
       "      <td>1.3.6.1.4.1.9590.100.1.2.291043622711253836701...</td>\n",
       "      <td>161814.0</td>\n",
       "    </tr>\n",
       "    <tr>\n",
       "      <th>3</th>\n",
       "      <td>CBIS-DDSM/dicom/1.3.6.1.4.1.9590.100.1.2.38118...</td>\n",
       "      <td>CBIS-DDSM/jpeg/1.3.6.1.4.1.9590.100.1.2.381187...</td>\n",
       "      <td>NaN</td>\n",
       "      <td>16</td>\n",
       "      <td>16</td>\n",
       "      <td>BREAST</td>\n",
       "      <td>97</td>\n",
       "      <td>20160503</td>\n",
       "      <td>115347.770</td>\n",
       "      <td>WSD</td>\n",
       "      <td>...</td>\n",
       "      <td>MATLAB</td>\n",
       "      <td>cropped images</td>\n",
       "      <td>1.3.6.1.4.1.9590.100.1.2.381187369611524586537...</td>\n",
       "      <td>1</td>\n",
       "      <td>32298</td>\n",
       "      <td>ISO_IR 100</td>\n",
       "      <td>20170829.0</td>\n",
       "      <td>DDSM</td>\n",
       "      <td>1.3.6.1.4.1.9590.100.1.2.335006093711888937440...</td>\n",
       "      <td>180109.0</td>\n",
       "    </tr>\n",
       "    <tr>\n",
       "      <th>4</th>\n",
       "      <td>CBIS-DDSM/dicom/1.3.6.1.4.1.9590.100.1.2.38118...</td>\n",
       "      <td>CBIS-DDSM/jpeg/1.3.6.1.4.1.9590.100.1.2.381187...</td>\n",
       "      <td>NaN</td>\n",
       "      <td>8</td>\n",
       "      <td>8</td>\n",
       "      <td>Left Breast</td>\n",
       "      <td>3104</td>\n",
       "      <td>20160503</td>\n",
       "      <td>115347.770</td>\n",
       "      <td>WSD</td>\n",
       "      <td>...</td>\n",
       "      <td>MATLAB</td>\n",
       "      <td>NaN</td>\n",
       "      <td>1.3.6.1.4.1.9590.100.1.2.381187369611524586537...</td>\n",
       "      <td>1</td>\n",
       "      <td>0</td>\n",
       "      <td>ISO_IR 100</td>\n",
       "      <td>NaN</td>\n",
       "      <td>DDSM</td>\n",
       "      <td>1.3.6.1.4.1.9590.100.1.2.335006093711888937440...</td>\n",
       "      <td>NaN</td>\n",
       "    </tr>\n",
       "  </tbody>\n",
       "</table>\n",
       "<p>5 rows × 38 columns</p>\n",
       "</div>"
      ],
      "text/plain": [
       "                                           file_path  \\\n",
       "0  CBIS-DDSM/dicom/1.3.6.1.4.1.9590.100.1.2.12930...   \n",
       "1  CBIS-DDSM/dicom/1.3.6.1.4.1.9590.100.1.2.24838...   \n",
       "2  CBIS-DDSM/dicom/1.3.6.1.4.1.9590.100.1.2.26721...   \n",
       "3  CBIS-DDSM/dicom/1.3.6.1.4.1.9590.100.1.2.38118...   \n",
       "4  CBIS-DDSM/dicom/1.3.6.1.4.1.9590.100.1.2.38118...   \n",
       "\n",
       "                                          image_path  AccessionNumber  \\\n",
       "0  CBIS-DDSM/jpeg/1.3.6.1.4.1.9590.100.1.2.129308...              NaN   \n",
       "1  CBIS-DDSM/jpeg/1.3.6.1.4.1.9590.100.1.2.248386...              NaN   \n",
       "2  CBIS-DDSM/jpeg/1.3.6.1.4.1.9590.100.1.2.267213...              NaN   \n",
       "3  CBIS-DDSM/jpeg/1.3.6.1.4.1.9590.100.1.2.381187...              NaN   \n",
       "4  CBIS-DDSM/jpeg/1.3.6.1.4.1.9590.100.1.2.381187...              NaN   \n",
       "\n",
       "   BitsAllocated  BitsStored BodyPartExamined  Columns  ContentDate  \\\n",
       "0             16          16           BREAST      351     20160426   \n",
       "1             16          16           BREAST     3526     20160426   \n",
       "2             16          16           BREAST     1546     20160503   \n",
       "3             16          16           BREAST       97     20160503   \n",
       "4              8           8      Left Breast     3104     20160503   \n",
       "\n",
       "   ContentTime ConversionType  ...  \\\n",
       "0   131732.685            WSD  ...   \n",
       "1   143829.101            WSD  ...   \n",
       "2   111956.298            WSD  ...   \n",
       "3   115347.770            WSD  ...   \n",
       "4   115347.770            WSD  ...   \n",
       "\n",
       "   SecondaryCaptureDeviceManufacturerModelName      SeriesDescription  \\\n",
       "0                                       MATLAB         cropped images   \n",
       "1                                       MATLAB  full mammogram images   \n",
       "2                                       MATLAB  full mammogram images   \n",
       "3                                       MATLAB         cropped images   \n",
       "4                                       MATLAB                    NaN   \n",
       "\n",
       "                                   SeriesInstanceUID SeriesNumber  \\\n",
       "0  1.3.6.1.4.1.9590.100.1.2.129308726812851964007...            1   \n",
       "1  1.3.6.1.4.1.9590.100.1.2.248386742010678582309...            1   \n",
       "2  1.3.6.1.4.1.9590.100.1.2.267213171011171858918...            1   \n",
       "3  1.3.6.1.4.1.9590.100.1.2.381187369611524586537...            1   \n",
       "4  1.3.6.1.4.1.9590.100.1.2.381187369611524586537...            1   \n",
       "\n",
       "  SmallestImagePixelValue  SpecificCharacterSet   StudyDate StudyID  \\\n",
       "0                   23078            ISO_IR 100  20160720.0    DDSM   \n",
       "1                       0            ISO_IR 100  20160720.0    DDSM   \n",
       "2                       0            ISO_IR 100  20160807.0    DDSM   \n",
       "3                   32298            ISO_IR 100  20170829.0    DDSM   \n",
       "4                       0            ISO_IR 100         NaN    DDSM   \n",
       "\n",
       "                                    StudyInstanceUID  StudyTime  \n",
       "0  1.3.6.1.4.1.9590.100.1.2.271867287611061855725...   214951.0  \n",
       "1  1.3.6.1.4.1.9590.100.1.2.161516517311681906612...   193426.0  \n",
       "2  1.3.6.1.4.1.9590.100.1.2.291043622711253836701...   161814.0  \n",
       "3  1.3.6.1.4.1.9590.100.1.2.335006093711888937440...   180109.0  \n",
       "4  1.3.6.1.4.1.9590.100.1.2.335006093711888937440...        NaN  \n",
       "\n",
       "[5 rows x 38 columns]"
      ]
     },
     "execution_count": 4,
     "metadata": {},
     "output_type": "execute_result"
    }
   ],
   "source": [
    "dicom_data.head()"
   ]
  },
  {
   "cell_type": "code",
   "execution_count": 5,
   "id": "bb7928fe",
   "metadata": {
    "execution": {
     "iopub.execute_input": "2023-12-19T23:09:24.267413Z",
     "iopub.status.busy": "2023-12-19T23:09:24.266623Z",
     "iopub.status.idle": "2023-12-19T23:09:24.290078Z",
     "shell.execute_reply": "2023-12-19T23:09:24.289150Z"
    },
    "papermill": {
     "duration": 0.048026,
     "end_time": "2023-12-19T23:09:24.292715",
     "exception": false,
     "start_time": "2023-12-19T23:09:24.244689",
     "status": "completed"
    },
    "tags": []
   },
   "outputs": [
    {
     "data": {
      "text/html": [
       "<div>\n",
       "<style scoped>\n",
       "    .dataframe tbody tr th:only-of-type {\n",
       "        vertical-align: middle;\n",
       "    }\n",
       "\n",
       "    .dataframe tbody tr th {\n",
       "        vertical-align: top;\n",
       "    }\n",
       "\n",
       "    .dataframe thead th {\n",
       "        text-align: right;\n",
       "    }\n",
       "</style>\n",
       "<table border=\"1\" class=\"dataframe\">\n",
       "  <thead>\n",
       "    <tr style=\"text-align: right;\">\n",
       "      <th></th>\n",
       "      <th>file_path</th>\n",
       "      <th>image_path</th>\n",
       "      <th>AccessionNumber</th>\n",
       "      <th>BitsAllocated</th>\n",
       "      <th>BitsStored</th>\n",
       "      <th>BodyPartExamined</th>\n",
       "      <th>Columns</th>\n",
       "      <th>ContentDate</th>\n",
       "      <th>ContentTime</th>\n",
       "      <th>ConversionType</th>\n",
       "      <th>...</th>\n",
       "      <th>SecondaryCaptureDeviceManufacturerModelName</th>\n",
       "      <th>SeriesDescription</th>\n",
       "      <th>SeriesInstanceUID</th>\n",
       "      <th>SeriesNumber</th>\n",
       "      <th>SmallestImagePixelValue</th>\n",
       "      <th>SpecificCharacterSet</th>\n",
       "      <th>StudyDate</th>\n",
       "      <th>StudyID</th>\n",
       "      <th>StudyInstanceUID</th>\n",
       "      <th>StudyTime</th>\n",
       "    </tr>\n",
       "  </thead>\n",
       "  <tbody>\n",
       "    <tr>\n",
       "      <th>10232</th>\n",
       "      <td>CBIS-DDSM/dicom/1.3.6.1.4.1.9590.100.1.2.62798...</td>\n",
       "      <td>CBIS-DDSM/jpeg/1.3.6.1.4.1.9590.100.1.2.627982...</td>\n",
       "      <td>NaN</td>\n",
       "      <td>8</td>\n",
       "      <td>8</td>\n",
       "      <td>BREAST</td>\n",
       "      <td>3744</td>\n",
       "      <td>20160503</td>\n",
       "      <td>134238.422</td>\n",
       "      <td>WSD</td>\n",
       "      <td>...</td>\n",
       "      <td>MATLAB</td>\n",
       "      <td>ROI mask images</td>\n",
       "      <td>1.3.6.1.4.1.9590.100.1.2.627982547125586065005...</td>\n",
       "      <td>1</td>\n",
       "      <td>0</td>\n",
       "      <td>ISO_IR 100</td>\n",
       "      <td>20170906.0</td>\n",
       "      <td>DDSM</td>\n",
       "      <td>1.3.6.1.4.1.9590.100.1.2.310901637111684385906...</td>\n",
       "      <td>91038.0</td>\n",
       "    </tr>\n",
       "    <tr>\n",
       "      <th>10233</th>\n",
       "      <td>CBIS-DDSM/dicom/1.3.6.1.4.1.9590.100.1.2.82451...</td>\n",
       "      <td>CBIS-DDSM/jpeg/1.3.6.1.4.1.9590.100.1.2.824512...</td>\n",
       "      <td>NaN</td>\n",
       "      <td>16</td>\n",
       "      <td>16</td>\n",
       "      <td>BREAST</td>\n",
       "      <td>3316</td>\n",
       "      <td>20160426</td>\n",
       "      <td>123905.617</td>\n",
       "      <td>WSD</td>\n",
       "      <td>...</td>\n",
       "      <td>MATLAB</td>\n",
       "      <td>full mammogram images</td>\n",
       "      <td>1.3.6.1.4.1.9590.100.1.2.824512568105677732346...</td>\n",
       "      <td>1</td>\n",
       "      <td>0</td>\n",
       "      <td>ISO_IR 100</td>\n",
       "      <td>20161004.0</td>\n",
       "      <td>DDSM</td>\n",
       "      <td>1.3.6.1.4.1.9590.100.1.2.246896536912401556922...</td>\n",
       "      <td>132704.0</td>\n",
       "    </tr>\n",
       "    <tr>\n",
       "      <th>10234</th>\n",
       "      <td>CBIS-DDSM/dicom/1.3.6.1.4.1.9590.100.1.2.24759...</td>\n",
       "      <td>CBIS-DDSM/jpeg/1.3.6.1.4.1.9590.100.1.2.247594...</td>\n",
       "      <td>NaN</td>\n",
       "      <td>16</td>\n",
       "      <td>16</td>\n",
       "      <td>BREAST</td>\n",
       "      <td>2712</td>\n",
       "      <td>20160426</td>\n",
       "      <td>134551.632</td>\n",
       "      <td>WSD</td>\n",
       "      <td>...</td>\n",
       "      <td>MATLAB</td>\n",
       "      <td>full mammogram images</td>\n",
       "      <td>1.3.6.1.4.1.9590.100.1.2.247594800112988856209...</td>\n",
       "      <td>1</td>\n",
       "      <td>0</td>\n",
       "      <td>ISO_IR 100</td>\n",
       "      <td>20160720.0</td>\n",
       "      <td>DDSM</td>\n",
       "      <td>1.3.6.1.4.1.9590.100.1.2.150339554012064216510...</td>\n",
       "      <td>191922.0</td>\n",
       "    </tr>\n",
       "    <tr>\n",
       "      <th>10235</th>\n",
       "      <td>CBIS-DDSM/dicom/1.3.6.1.4.1.9590.100.1.2.28513...</td>\n",
       "      <td>CBIS-DDSM/jpeg/1.3.6.1.4.1.9590.100.1.2.285138...</td>\n",
       "      <td>NaN</td>\n",
       "      <td>8</td>\n",
       "      <td>8</td>\n",
       "      <td>BREAST</td>\n",
       "      <td>2736</td>\n",
       "      <td>20160426</td>\n",
       "      <td>110906.969</td>\n",
       "      <td>WSD</td>\n",
       "      <td>...</td>\n",
       "      <td>MATLAB</td>\n",
       "      <td>ROI mask images</td>\n",
       "      <td>1.3.6.1.4.1.9590.100.1.2.285138900913160236325...</td>\n",
       "      <td>1</td>\n",
       "      <td>0</td>\n",
       "      <td>ISO_IR 100</td>\n",
       "      <td>20160721.0</td>\n",
       "      <td>DDSM</td>\n",
       "      <td>1.3.6.1.4.1.9590.100.1.2.426769868613284096628...</td>\n",
       "      <td>83526.0</td>\n",
       "    </tr>\n",
       "    <tr>\n",
       "      <th>10236</th>\n",
       "      <td>CBIS-DDSM/dicom/1.3.6.1.4.1.9590.100.1.2.28513...</td>\n",
       "      <td>CBIS-DDSM/jpeg/1.3.6.1.4.1.9590.100.1.2.285138...</td>\n",
       "      <td>NaN</td>\n",
       "      <td>16</td>\n",
       "      <td>16</td>\n",
       "      <td>BREAST</td>\n",
       "      <td>686</td>\n",
       "      <td>20160426</td>\n",
       "      <td>110906.969</td>\n",
       "      <td>WSD</td>\n",
       "      <td>...</td>\n",
       "      <td>MATLAB</td>\n",
       "      <td>cropped images</td>\n",
       "      <td>1.3.6.1.4.1.9590.100.1.2.285138900913160236325...</td>\n",
       "      <td>1</td>\n",
       "      <td>16032</td>\n",
       "      <td>ISO_IR 100</td>\n",
       "      <td>20160720.0</td>\n",
       "      <td>DDSM</td>\n",
       "      <td>1.3.6.1.4.1.9590.100.1.2.426769868613284096628...</td>\n",
       "      <td>214732.0</td>\n",
       "    </tr>\n",
       "  </tbody>\n",
       "</table>\n",
       "<p>5 rows × 38 columns</p>\n",
       "</div>"
      ],
      "text/plain": [
       "                                               file_path  \\\n",
       "10232  CBIS-DDSM/dicom/1.3.6.1.4.1.9590.100.1.2.62798...   \n",
       "10233  CBIS-DDSM/dicom/1.3.6.1.4.1.9590.100.1.2.82451...   \n",
       "10234  CBIS-DDSM/dicom/1.3.6.1.4.1.9590.100.1.2.24759...   \n",
       "10235  CBIS-DDSM/dicom/1.3.6.1.4.1.9590.100.1.2.28513...   \n",
       "10236  CBIS-DDSM/dicom/1.3.6.1.4.1.9590.100.1.2.28513...   \n",
       "\n",
       "                                              image_path  AccessionNumber  \\\n",
       "10232  CBIS-DDSM/jpeg/1.3.6.1.4.1.9590.100.1.2.627982...              NaN   \n",
       "10233  CBIS-DDSM/jpeg/1.3.6.1.4.1.9590.100.1.2.824512...              NaN   \n",
       "10234  CBIS-DDSM/jpeg/1.3.6.1.4.1.9590.100.1.2.247594...              NaN   \n",
       "10235  CBIS-DDSM/jpeg/1.3.6.1.4.1.9590.100.1.2.285138...              NaN   \n",
       "10236  CBIS-DDSM/jpeg/1.3.6.1.4.1.9590.100.1.2.285138...              NaN   \n",
       "\n",
       "       BitsAllocated  BitsStored BodyPartExamined  Columns  ContentDate  \\\n",
       "10232              8           8           BREAST     3744     20160503   \n",
       "10233             16          16           BREAST     3316     20160426   \n",
       "10234             16          16           BREAST     2712     20160426   \n",
       "10235              8           8           BREAST     2736     20160426   \n",
       "10236             16          16           BREAST      686     20160426   \n",
       "\n",
       "       ContentTime ConversionType  ...  \\\n",
       "10232   134238.422            WSD  ...   \n",
       "10233   123905.617            WSD  ...   \n",
       "10234   134551.632            WSD  ...   \n",
       "10235   110906.969            WSD  ...   \n",
       "10236   110906.969            WSD  ...   \n",
       "\n",
       "       SecondaryCaptureDeviceManufacturerModelName      SeriesDescription  \\\n",
       "10232                                       MATLAB        ROI mask images   \n",
       "10233                                       MATLAB  full mammogram images   \n",
       "10234                                       MATLAB  full mammogram images   \n",
       "10235                                       MATLAB        ROI mask images   \n",
       "10236                                       MATLAB         cropped images   \n",
       "\n",
       "                                       SeriesInstanceUID SeriesNumber  \\\n",
       "10232  1.3.6.1.4.1.9590.100.1.2.627982547125586065005...            1   \n",
       "10233  1.3.6.1.4.1.9590.100.1.2.824512568105677732346...            1   \n",
       "10234  1.3.6.1.4.1.9590.100.1.2.247594800112988856209...            1   \n",
       "10235  1.3.6.1.4.1.9590.100.1.2.285138900913160236325...            1   \n",
       "10236  1.3.6.1.4.1.9590.100.1.2.285138900913160236325...            1   \n",
       "\n",
       "      SmallestImagePixelValue  SpecificCharacterSet   StudyDate StudyID  \\\n",
       "10232                       0            ISO_IR 100  20170906.0    DDSM   \n",
       "10233                       0            ISO_IR 100  20161004.0    DDSM   \n",
       "10234                       0            ISO_IR 100  20160720.0    DDSM   \n",
       "10235                       0            ISO_IR 100  20160721.0    DDSM   \n",
       "10236                   16032            ISO_IR 100  20160720.0    DDSM   \n",
       "\n",
       "                                        StudyInstanceUID  StudyTime  \n",
       "10232  1.3.6.1.4.1.9590.100.1.2.310901637111684385906...    91038.0  \n",
       "10233  1.3.6.1.4.1.9590.100.1.2.246896536912401556922...   132704.0  \n",
       "10234  1.3.6.1.4.1.9590.100.1.2.150339554012064216510...   191922.0  \n",
       "10235  1.3.6.1.4.1.9590.100.1.2.426769868613284096628...    83526.0  \n",
       "10236  1.3.6.1.4.1.9590.100.1.2.426769868613284096628...   214732.0  \n",
       "\n",
       "[5 rows x 38 columns]"
      ]
     },
     "execution_count": 5,
     "metadata": {},
     "output_type": "execute_result"
    }
   ],
   "source": [
    "dicom_data.tail()"
   ]
  },
  {
   "cell_type": "code",
   "execution_count": 6,
   "id": "074ad7b0",
   "metadata": {
    "execution": {
     "iopub.execute_input": "2023-12-19T23:09:24.340244Z",
     "iopub.status.busy": "2023-12-19T23:09:24.339382Z",
     "iopub.status.idle": "2023-12-19T23:09:24.366649Z",
     "shell.execute_reply": "2023-12-19T23:09:24.365734Z"
    },
    "papermill": {
     "duration": 0.053067,
     "end_time": "2023-12-19T23:09:24.368969",
     "exception": false,
     "start_time": "2023-12-19T23:09:24.315902",
     "status": "completed"
    },
    "tags": []
   },
   "outputs": [
    {
     "data": {
      "text/html": [
       "<div>\n",
       "<style scoped>\n",
       "    .dataframe tbody tr th:only-of-type {\n",
       "        vertical-align: middle;\n",
       "    }\n",
       "\n",
       "    .dataframe tbody tr th {\n",
       "        vertical-align: top;\n",
       "    }\n",
       "\n",
       "    .dataframe thead th {\n",
       "        text-align: right;\n",
       "    }\n",
       "</style>\n",
       "<table border=\"1\" class=\"dataframe\">\n",
       "  <thead>\n",
       "    <tr style=\"text-align: right;\">\n",
       "      <th></th>\n",
       "      <th>file_path</th>\n",
       "      <th>image_path</th>\n",
       "      <th>AccessionNumber</th>\n",
       "      <th>BitsAllocated</th>\n",
       "      <th>BitsStored</th>\n",
       "      <th>BodyPartExamined</th>\n",
       "      <th>Columns</th>\n",
       "      <th>ContentDate</th>\n",
       "      <th>ContentTime</th>\n",
       "      <th>ConversionType</th>\n",
       "      <th>...</th>\n",
       "      <th>SecondaryCaptureDeviceManufacturerModelName</th>\n",
       "      <th>SeriesDescription</th>\n",
       "      <th>SeriesInstanceUID</th>\n",
       "      <th>SeriesNumber</th>\n",
       "      <th>SmallestImagePixelValue</th>\n",
       "      <th>SpecificCharacterSet</th>\n",
       "      <th>StudyDate</th>\n",
       "      <th>StudyID</th>\n",
       "      <th>StudyInstanceUID</th>\n",
       "      <th>StudyTime</th>\n",
       "    </tr>\n",
       "  </thead>\n",
       "  <tbody>\n",
       "    <tr>\n",
       "      <th>1289</th>\n",
       "      <td>CBIS-DDSM/dicom/1.3.6.1.4.1.9590.100.1.2.37305...</td>\n",
       "      <td>CBIS-DDSM/jpeg/1.3.6.1.4.1.9590.100.1.2.373056...</td>\n",
       "      <td>NaN</td>\n",
       "      <td>16</td>\n",
       "      <td>16</td>\n",
       "      <td>BREAST</td>\n",
       "      <td>641</td>\n",
       "      <td>20160503</td>\n",
       "      <td>134749.198</td>\n",
       "      <td>WSD</td>\n",
       "      <td>...</td>\n",
       "      <td>MATLAB</td>\n",
       "      <td>cropped images</td>\n",
       "      <td>1.3.6.1.4.1.9590.100.1.2.373056562313587683031...</td>\n",
       "      <td>1</td>\n",
       "      <td>0</td>\n",
       "      <td>ISO_IR 100</td>\n",
       "      <td>20170830.0</td>\n",
       "      <td>DDSM</td>\n",
       "      <td>1.3.6.1.4.1.9590.100.1.2.373610122112389698803...</td>\n",
       "      <td>215534.0</td>\n",
       "    </tr>\n",
       "    <tr>\n",
       "      <th>5531</th>\n",
       "      <td>CBIS-DDSM/dicom/1.3.6.1.4.1.9590.100.1.2.53170...</td>\n",
       "      <td>CBIS-DDSM/jpeg/1.3.6.1.4.1.9590.100.1.2.531700...</td>\n",
       "      <td>NaN</td>\n",
       "      <td>16</td>\n",
       "      <td>16</td>\n",
       "      <td>BREAST</td>\n",
       "      <td>432</td>\n",
       "      <td>20160426</td>\n",
       "      <td>134915.342</td>\n",
       "      <td>WSD</td>\n",
       "      <td>...</td>\n",
       "      <td>MATLAB</td>\n",
       "      <td>cropped images</td>\n",
       "      <td>1.3.6.1.4.1.9590.100.1.2.531700571107042063167...</td>\n",
       "      <td>1</td>\n",
       "      <td>34992</td>\n",
       "      <td>ISO_IR 100</td>\n",
       "      <td>20160720.0</td>\n",
       "      <td>DDSM</td>\n",
       "      <td>1.3.6.1.4.1.9590.100.1.2.210501436012661181930...</td>\n",
       "      <td>215021.0</td>\n",
       "    </tr>\n",
       "    <tr>\n",
       "      <th>9768</th>\n",
       "      <td>CBIS-DDSM/dicom/1.3.6.1.4.1.9590.100.1.2.12706...</td>\n",
       "      <td>CBIS-DDSM/jpeg/1.3.6.1.4.1.9590.100.1.2.127062...</td>\n",
       "      <td>NaN</td>\n",
       "      <td>16</td>\n",
       "      <td>16</td>\n",
       "      <td>BREAST</td>\n",
       "      <td>2592</td>\n",
       "      <td>20160503</td>\n",
       "      <td>112522.793</td>\n",
       "      <td>WSD</td>\n",
       "      <td>...</td>\n",
       "      <td>MATLAB</td>\n",
       "      <td>full mammogram images</td>\n",
       "      <td>1.3.6.1.4.1.9590.100.1.2.127062399511053285431...</td>\n",
       "      <td>1</td>\n",
       "      <td>0</td>\n",
       "      <td>ISO_IR 100</td>\n",
       "      <td>20160807.0</td>\n",
       "      <td>DDSM</td>\n",
       "      <td>1.3.6.1.4.1.9590.100.1.2.257914556513241710026...</td>\n",
       "      <td>162107.0</td>\n",
       "    </tr>\n",
       "    <tr>\n",
       "      <th>5976</th>\n",
       "      <td>CBIS-DDSM/dicom/1.3.6.1.4.1.9590.100.1.2.24749...</td>\n",
       "      <td>CBIS-DDSM/jpeg/1.3.6.1.4.1.9590.100.1.2.247496...</td>\n",
       "      <td>NaN</td>\n",
       "      <td>8</td>\n",
       "      <td>8</td>\n",
       "      <td>BREAST</td>\n",
       "      <td>4531</td>\n",
       "      <td>20160503</td>\n",
       "      <td>135128.320</td>\n",
       "      <td>WSD</td>\n",
       "      <td>...</td>\n",
       "      <td>MATLAB</td>\n",
       "      <td>ROI mask images</td>\n",
       "      <td>1.3.6.1.4.1.9590.100.1.2.247496661611894958115...</td>\n",
       "      <td>1</td>\n",
       "      <td>0</td>\n",
       "      <td>ISO_IR 100</td>\n",
       "      <td>20170906.0</td>\n",
       "      <td>DDSM</td>\n",
       "      <td>1.3.6.1.4.1.9590.100.1.2.275544782112903992412...</td>\n",
       "      <td>91258.0</td>\n",
       "    </tr>\n",
       "    <tr>\n",
       "      <th>6334</th>\n",
       "      <td>CBIS-DDSM/dicom/1.3.6.1.4.1.9590.100.1.2.33879...</td>\n",
       "      <td>CBIS-DDSM/jpeg/1.3.6.1.4.1.9590.100.1.2.338795...</td>\n",
       "      <td>NaN</td>\n",
       "      <td>16</td>\n",
       "      <td>16</td>\n",
       "      <td>BREAST</td>\n",
       "      <td>3766</td>\n",
       "      <td>20160426</td>\n",
       "      <td>115847.261</td>\n",
       "      <td>WSD</td>\n",
       "      <td>...</td>\n",
       "      <td>MATLAB</td>\n",
       "      <td>full mammogram images</td>\n",
       "      <td>1.3.6.1.4.1.9590.100.1.2.338795836012549040207...</td>\n",
       "      <td>1</td>\n",
       "      <td>0</td>\n",
       "      <td>ISO_IR 100</td>\n",
       "      <td>20161004.0</td>\n",
       "      <td>DDSM</td>\n",
       "      <td>1.3.6.1.4.1.9590.100.1.2.299756943812133215705...</td>\n",
       "      <td>132430.0</td>\n",
       "    </tr>\n",
       "  </tbody>\n",
       "</table>\n",
       "<p>5 rows × 38 columns</p>\n",
       "</div>"
      ],
      "text/plain": [
       "                                              file_path  \\\n",
       "1289  CBIS-DDSM/dicom/1.3.6.1.4.1.9590.100.1.2.37305...   \n",
       "5531  CBIS-DDSM/dicom/1.3.6.1.4.1.9590.100.1.2.53170...   \n",
       "9768  CBIS-DDSM/dicom/1.3.6.1.4.1.9590.100.1.2.12706...   \n",
       "5976  CBIS-DDSM/dicom/1.3.6.1.4.1.9590.100.1.2.24749...   \n",
       "6334  CBIS-DDSM/dicom/1.3.6.1.4.1.9590.100.1.2.33879...   \n",
       "\n",
       "                                             image_path  AccessionNumber  \\\n",
       "1289  CBIS-DDSM/jpeg/1.3.6.1.4.1.9590.100.1.2.373056...              NaN   \n",
       "5531  CBIS-DDSM/jpeg/1.3.6.1.4.1.9590.100.1.2.531700...              NaN   \n",
       "9768  CBIS-DDSM/jpeg/1.3.6.1.4.1.9590.100.1.2.127062...              NaN   \n",
       "5976  CBIS-DDSM/jpeg/1.3.6.1.4.1.9590.100.1.2.247496...              NaN   \n",
       "6334  CBIS-DDSM/jpeg/1.3.6.1.4.1.9590.100.1.2.338795...              NaN   \n",
       "\n",
       "      BitsAllocated  BitsStored BodyPartExamined  Columns  ContentDate  \\\n",
       "1289             16          16           BREAST      641     20160503   \n",
       "5531             16          16           BREAST      432     20160426   \n",
       "9768             16          16           BREAST     2592     20160503   \n",
       "5976              8           8           BREAST     4531     20160503   \n",
       "6334             16          16           BREAST     3766     20160426   \n",
       "\n",
       "      ContentTime ConversionType  ...  \\\n",
       "1289   134749.198            WSD  ...   \n",
       "5531   134915.342            WSD  ...   \n",
       "9768   112522.793            WSD  ...   \n",
       "5976   135128.320            WSD  ...   \n",
       "6334   115847.261            WSD  ...   \n",
       "\n",
       "      SecondaryCaptureDeviceManufacturerModelName      SeriesDescription  \\\n",
       "1289                                       MATLAB         cropped images   \n",
       "5531                                       MATLAB         cropped images   \n",
       "9768                                       MATLAB  full mammogram images   \n",
       "5976                                       MATLAB        ROI mask images   \n",
       "6334                                       MATLAB  full mammogram images   \n",
       "\n",
       "                                      SeriesInstanceUID SeriesNumber  \\\n",
       "1289  1.3.6.1.4.1.9590.100.1.2.373056562313587683031...            1   \n",
       "5531  1.3.6.1.4.1.9590.100.1.2.531700571107042063167...            1   \n",
       "9768  1.3.6.1.4.1.9590.100.1.2.127062399511053285431...            1   \n",
       "5976  1.3.6.1.4.1.9590.100.1.2.247496661611894958115...            1   \n",
       "6334  1.3.6.1.4.1.9590.100.1.2.338795836012549040207...            1   \n",
       "\n",
       "     SmallestImagePixelValue  SpecificCharacterSet   StudyDate StudyID  \\\n",
       "1289                       0            ISO_IR 100  20170830.0    DDSM   \n",
       "5531                   34992            ISO_IR 100  20160720.0    DDSM   \n",
       "9768                       0            ISO_IR 100  20160807.0    DDSM   \n",
       "5976                       0            ISO_IR 100  20170906.0    DDSM   \n",
       "6334                       0            ISO_IR 100  20161004.0    DDSM   \n",
       "\n",
       "                                       StudyInstanceUID  StudyTime  \n",
       "1289  1.3.6.1.4.1.9590.100.1.2.373610122112389698803...   215534.0  \n",
       "5531  1.3.6.1.4.1.9590.100.1.2.210501436012661181930...   215021.0  \n",
       "9768  1.3.6.1.4.1.9590.100.1.2.257914556513241710026...   162107.0  \n",
       "5976  1.3.6.1.4.1.9590.100.1.2.275544782112903992412...    91258.0  \n",
       "6334  1.3.6.1.4.1.9590.100.1.2.299756943812133215705...   132430.0  \n",
       "\n",
       "[5 rows x 38 columns]"
      ]
     },
     "execution_count": 6,
     "metadata": {},
     "output_type": "execute_result"
    }
   ],
   "source": [
    "dicom_data.sample(5)"
   ]
  },
  {
   "cell_type": "code",
   "execution_count": 7,
   "id": "7e283bb4",
   "metadata": {
    "execution": {
     "iopub.execute_input": "2023-12-19T23:09:24.463666Z",
     "iopub.status.busy": "2023-12-19T23:09:24.462874Z",
     "iopub.status.idle": "2023-12-19T23:09:24.502036Z",
     "shell.execute_reply": "2023-12-19T23:09:24.501104Z"
    },
    "papermill": {
     "duration": 0.114036,
     "end_time": "2023-12-19T23:09:24.504600",
     "exception": false,
     "start_time": "2023-12-19T23:09:24.390564",
     "status": "completed"
    },
    "tags": []
   },
   "outputs": [
    {
     "name": "stdout",
     "output_type": "stream",
     "text": [
      "<class 'pandas.core.frame.DataFrame'>\n",
      "RangeIndex: 10237 entries, 0 to 10236\n",
      "Data columns (total 38 columns):\n",
      " #   Column                                       Non-Null Count  Dtype  \n",
      "---  ------                                       --------------  -----  \n",
      " 0   file_path                                    10237 non-null  object \n",
      " 1   image_path                                   10237 non-null  object \n",
      " 2   AccessionNumber                              0 non-null      float64\n",
      " 3   BitsAllocated                                10237 non-null  int64  \n",
      " 4   BitsStored                                   10237 non-null  int64  \n",
      " 5   BodyPartExamined                             10237 non-null  object \n",
      " 6   Columns                                      10237 non-null  int64  \n",
      " 7   ContentDate                                  10237 non-null  int64  \n",
      " 8   ContentTime                                  10237 non-null  float64\n",
      " 9   ConversionType                               10237 non-null  object \n",
      " 10  HighBit                                      10237 non-null  int64  \n",
      " 11  InstanceNumber                               10237 non-null  int64  \n",
      " 12  LargestImagePixelValue                       10237 non-null  int64  \n",
      " 13  Laterality                                   9671 non-null   object \n",
      " 14  Modality                                     10237 non-null  object \n",
      " 15  PatientBirthDate                             0 non-null      float64\n",
      " 16  PatientID                                    10237 non-null  object \n",
      " 17  PatientName                                  10237 non-null  object \n",
      " 18  PatientOrientation                           10237 non-null  object \n",
      " 19  PatientSex                                   0 non-null      float64\n",
      " 20  PhotometricInterpretation                    10237 non-null  object \n",
      " 21  PixelRepresentation                          10237 non-null  int64  \n",
      " 22  ReferringPhysicianName                       0 non-null      float64\n",
      " 23  Rows                                         10237 non-null  int64  \n",
      " 24  SOPClassUID                                  10237 non-null  object \n",
      " 25  SOPInstanceUID                               10237 non-null  object \n",
      " 26  SamplesPerPixel                              10237 non-null  int64  \n",
      " 27  SecondaryCaptureDeviceManufacturer           10237 non-null  object \n",
      " 28  SecondaryCaptureDeviceManufacturerModelName  10237 non-null  object \n",
      " 29  SeriesDescription                            9671 non-null   object \n",
      " 30  SeriesInstanceUID                            10237 non-null  object \n",
      " 31  SeriesNumber                                 10237 non-null  int64  \n",
      " 32  SmallestImagePixelValue                      10237 non-null  int64  \n",
      " 33  SpecificCharacterSet                         10237 non-null  object \n",
      " 34  StudyDate                                    9671 non-null   float64\n",
      " 35  StudyID                                      10237 non-null  object \n",
      " 36  StudyInstanceUID                             10237 non-null  object \n",
      " 37  StudyTime                                    9671 non-null   float64\n",
      "dtypes: float64(7), int64(12), object(19)\n",
      "memory usage: 3.0+ MB\n"
     ]
    }
   ],
   "source": [
    "dicom_data.info()"
   ]
  },
  {
   "cell_type": "code",
   "execution_count": 8,
   "id": "2c15d35a",
   "metadata": {
    "execution": {
     "iopub.execute_input": "2023-12-19T23:09:24.549565Z",
     "iopub.status.busy": "2023-12-19T23:09:24.548758Z",
     "iopub.status.idle": "2023-12-19T23:09:24.557448Z",
     "shell.execute_reply": "2023-12-19T23:09:24.556641Z"
    },
    "papermill": {
     "duration": 0.033201,
     "end_time": "2023-12-19T23:09:24.559365",
     "exception": false,
     "start_time": "2023-12-19T23:09:24.526164",
     "status": "completed"
    },
    "tags": []
   },
   "outputs": [
    {
     "data": {
      "text/plain": [
       "array(['cropped images', 'full mammogram images', nan, 'ROI mask images'],\n",
       "      dtype=object)"
      ]
     },
     "execution_count": 8,
     "metadata": {},
     "output_type": "execute_result"
    }
   ],
   "source": [
    "dicom_data.SeriesDescription.unique()"
   ]
  },
  {
   "cell_type": "code",
   "execution_count": 9,
   "id": "701b37cf",
   "metadata": {
    "execution": {
     "iopub.execute_input": "2023-12-19T23:09:24.603818Z",
     "iopub.status.busy": "2023-12-19T23:09:24.603444Z",
     "iopub.status.idle": "2023-12-19T23:09:24.912642Z",
     "shell.execute_reply": "2023-12-19T23:09:24.911705Z"
    },
    "papermill": {
     "duration": 0.334161,
     "end_time": "2023-12-19T23:09:24.915236",
     "exception": false,
     "start_time": "2023-12-19T23:09:24.581075",
     "status": "completed"
    },
    "tags": []
   },
   "outputs": [
    {
     "data": {
      "text/plain": [
       "<Axes: xlabel='SeriesDescription', ylabel='count'>"
      ]
     },
     "execution_count": 9,
     "metadata": {},
     "output_type": "execute_result"
    },
    {
     "data": {
      "image/png": "[encoded data removed]",
      "text/plain": [
       "<Figure size 1200x800 with 1 Axes>"
      ]
     },
     "metadata": {},
     "output_type": "display_data"
    }
   ],
   "source": [
    "plt.figure(figsize=(12,8))\n",
    "sns.barplot(x=dicom_data.SeriesDescription.value_counts(dropna=False).index, y=dicom_data.SeriesDescription.value_counts(dropna=False), palette='viridis')\n"
   ]
  },
  {
   "cell_type": "code",
   "execution_count": 10,
   "id": "b3c16537",
   "metadata": {
    "execution": {
     "iopub.execute_input": "2023-12-19T23:09:24.960952Z",
     "iopub.status.busy": "2023-12-19T23:09:24.960618Z",
     "iopub.status.idle": "2023-12-19T23:09:24.972372Z",
     "shell.execute_reply": "2023-12-19T23:09:24.971467Z"
    },
    "papermill": {
     "duration": 0.036948,
     "end_time": "2023-12-19T23:09:24.974657",
     "exception": false,
     "start_time": "2023-12-19T23:09:24.937709",
     "status": "completed"
    },
    "tags": []
   },
   "outputs": [
    {
     "data": {
      "text/plain": [
       "0     CBIS-DDSM/jpeg/1.3.6.1.4.1.9590.100.1.2.129308...\n",
       "3     CBIS-DDSM/jpeg/1.3.6.1.4.1.9590.100.1.2.381187...\n",
       "6     CBIS-DDSM/jpeg/1.3.6.1.4.1.9590.100.1.2.153339...\n",
       "7     CBIS-DDSM/jpeg/1.3.6.1.4.1.9590.100.1.2.178994...\n",
       "10    CBIS-DDSM/jpeg/1.3.6.1.4.1.9590.100.1.2.411833...\n",
       "Name: image_path, dtype: object"
      ]
     },
     "execution_count": 10,
     "metadata": {},
     "output_type": "execute_result"
    }
   ],
   "source": [
    "cropped_images=dicom_data[dicom_data.SeriesDescription == 'cropped images'].image_path\n",
    "cropped_images.head()"
   ]
  },
  {
   "cell_type": "code",
   "execution_count": 11,
   "id": "046470a0",
   "metadata": {
    "execution": {
     "iopub.execute_input": "2023-12-19T23:09:25.022500Z",
     "iopub.status.busy": "2023-12-19T23:09:25.022167Z",
     "iopub.status.idle": "2023-12-19T23:09:25.031915Z",
     "shell.execute_reply": "2023-12-19T23:09:25.031006Z"
    },
    "papermill": {
     "duration": 0.034683,
     "end_time": "2023-12-19T23:09:25.033736",
     "exception": false,
     "start_time": "2023-12-19T23:09:24.999053",
     "status": "completed"
    },
    "tags": []
   },
   "outputs": [
    {
     "data": {
      "text/plain": [
       "0     /kaggle/input/cbis-ddsm-breast-cancer-image-da...\n",
       "3     /kaggle/input/cbis-ddsm-breast-cancer-image-da...\n",
       "6     /kaggle/input/cbis-ddsm-breast-cancer-image-da...\n",
       "7     /kaggle/input/cbis-ddsm-breast-cancer-image-da...\n",
       "10    /kaggle/input/cbis-ddsm-breast-cancer-image-da...\n",
       "Name: image_path, dtype: object"
      ]
     },
     "execution_count": 11,
     "metadata": {},
     "output_type": "execute_result"
    }
   ],
   "source": [
    "cropped_images = cropped_images.apply(lambda x: x.replace('CBIS-DDSM/jpeg', image_dir))\n",
    "cropped_images.head()"
   ]
  },
  {
   "cell_type": "code",
   "execution_count": 12,
   "id": "a8f76beb",
   "metadata": {
    "execution": {
     "iopub.execute_input": "2023-12-19T23:09:25.079644Z",
     "iopub.status.busy": "2023-12-19T23:09:25.079254Z",
     "iopub.status.idle": "2023-12-19T23:09:25.612316Z",
     "shell.execute_reply": "2023-12-19T23:09:25.611389Z"
    },
    "papermill": {
     "duration": 0.558682,
     "end_time": "2023-12-19T23:09:25.614352",
     "exception": false,
     "start_time": "2023-12-19T23:09:25.055670",
     "status": "completed"
    },
    "tags": []
   },
   "outputs": [
    {
     "data": {
      "image/png": "[encoded data removed]",
      "text/plain": [
       "<Figure size 640x480 with 1 Axes>"
      ]
     },
     "metadata": {},
     "output_type": "display_data"
    }
   ],
   "source": [
    "for file  in cropped_images[0:5]:\n",
    "  cropped_images_show = PIL.Image.open(file)\n",
    "  gray_img= cropped_images_show.convert(\"L\")\n",
    "  plt.imshow(gray_img, cmap='gray')"
   ]
  },
  {
   "cell_type": "code",
   "execution_count": 13,
   "id": "6554c52e",
   "metadata": {
    "execution": {
     "iopub.execute_input": "2023-12-19T23:09:25.674158Z",
     "iopub.status.busy": "2023-12-19T23:09:25.673582Z",
     "iopub.status.idle": "2023-12-19T23:09:25.685041Z",
     "shell.execute_reply": "2023-12-19T23:09:25.684211Z"
    },
    "papermill": {
     "duration": 0.044946,
     "end_time": "2023-12-19T23:09:25.686907",
     "exception": false,
     "start_time": "2023-12-19T23:09:25.641961",
     "status": "completed"
    },
    "tags": []
   },
   "outputs": [
    {
     "data": {
      "text/plain": [
       "1     CBIS-DDSM/jpeg/1.3.6.1.4.1.9590.100.1.2.248386...\n",
       "2     CBIS-DDSM/jpeg/1.3.6.1.4.1.9590.100.1.2.267213...\n",
       "11    CBIS-DDSM/jpeg/1.3.6.1.4.1.9590.100.1.2.210396...\n",
       "12    CBIS-DDSM/jpeg/1.3.6.1.4.1.9590.100.1.2.749566...\n",
       "15    CBIS-DDSM/jpeg/1.3.6.1.4.1.9590.100.1.2.987658...\n",
       "Name: image_path, dtype: object"
      ]
     },
     "execution_count": 13,
     "metadata": {},
     "output_type": "execute_result"
    }
   ],
   "source": [
    "full_mammogram_images=dicom_data[dicom_data.SeriesDescription == 'full mammogram images'].image_path\n",
    "full_mammogram_images.head()"
   ]
  },
  {
   "cell_type": "code",
   "execution_count": 14,
   "id": "4ace803f",
   "metadata": {
    "execution": {
     "iopub.execute_input": "2023-12-19T23:09:25.746665Z",
     "iopub.status.busy": "2023-12-19T23:09:25.746286Z",
     "iopub.status.idle": "2023-12-19T23:09:25.758573Z",
     "shell.execute_reply": "2023-12-19T23:09:25.757680Z"
    },
    "papermill": {
     "duration": 0.046199,
     "end_time": "2023-12-19T23:09:25.760588",
     "exception": false,
     "start_time": "2023-12-19T23:09:25.714389",
     "status": "completed"
    },
    "tags": []
   },
   "outputs": [
    {
     "data": {
      "text/plain": [
       "1     /kaggle/input/cbis-ddsm-breast-cancer-image-da...\n",
       "2     /kaggle/input/cbis-ddsm-breast-cancer-image-da...\n",
       "11    /kaggle/input/cbis-ddsm-breast-cancer-image-da...\n",
       "12    /kaggle/input/cbis-ddsm-breast-cancer-image-da...\n",
       "15    /kaggle/input/cbis-ddsm-breast-cancer-image-da...\n",
       "Name: image_path, dtype: object"
      ]
     },
     "execution_count": 14,
     "metadata": {},
     "output_type": "execute_result"
    }
   ],
   "source": [
    "full_mammogram_images = full_mammogram_images.apply(lambda x: x.replace('CBIS-DDSM/jpeg', image_dir))\n",
    "full_mammogram_images.head()"
   ]
  },
  {
   "cell_type": "code",
   "execution_count": 15,
   "id": "bb451d28",
   "metadata": {
    "execution": {
     "iopub.execute_input": "2023-12-19T23:09:25.809423Z",
     "iopub.status.busy": "2023-12-19T23:09:25.809119Z",
     "iopub.status.idle": "2023-12-19T23:09:31.362091Z",
     "shell.execute_reply": "2023-12-19T23:09:31.361103Z"
    },
    "papermill": {
     "duration": 5.581057,
     "end_time": "2023-12-19T23:09:31.364989",
     "exception": false,
     "start_time": "2023-12-19T23:09:25.783932",
     "status": "completed"
    },
    "tags": []
   },
   "outputs": [
    {
     "data": {
      "image/png": "[encoded data removed]",
      "text/plain": [
       "<Figure size 640x480 with 1 Axes>"
      ]
     },
     "metadata": {},
     "output_type": "display_data"
    }
   ],
   "source": [
    "for file  in full_mammogram_images[0:5]:\n",
    "  full_mammogram_images_show = PIL.Image.open(file)\n",
    "  gray_img= full_mammogram_images_show.convert(\"L\")\n",
    "  plt.imshow(gray_img, cmap='gray')"
   ]
  },
  {
   "cell_type": "code",
   "execution_count": 16,
   "id": "919890e3",
   "metadata": {
    "execution": {
     "iopub.execute_input": "2023-12-19T23:09:31.415828Z",
     "iopub.status.busy": "2023-12-19T23:09:31.415449Z",
     "iopub.status.idle": "2023-12-19T23:09:31.427232Z",
     "shell.execute_reply": "2023-12-19T23:09:31.426351Z"
    },
    "papermill": {
     "duration": 0.03945,
     "end_time": "2023-12-19T23:09:31.429269",
     "exception": false,
     "start_time": "2023-12-19T23:09:31.389819",
     "status": "completed"
    },
    "tags": []
   },
   "outputs": [
    {
     "data": {
      "text/plain": [
       "5     CBIS-DDSM/jpeg/1.3.6.1.4.1.9590.100.1.2.153339...\n",
       "8     CBIS-DDSM/jpeg/1.3.6.1.4.1.9590.100.1.2.178994...\n",
       "9     CBIS-DDSM/jpeg/1.3.6.1.4.1.9590.100.1.2.411833...\n",
       "14    CBIS-DDSM/jpeg/1.3.6.1.4.1.9590.100.1.2.236373...\n",
       "20    CBIS-DDSM/jpeg/1.3.6.1.4.1.9590.100.1.2.357008...\n",
       "Name: image_path, dtype: object"
      ]
     },
     "execution_count": 16,
     "metadata": {},
     "output_type": "execute_result"
    }
   ],
   "source": [
    "ROI_mask_images = dicom_data[dicom_data.SeriesDescription == 'ROI mask images'].image_path\n",
    "ROI_mask_images.head()"
   ]
  },
  {
   "cell_type": "code",
   "execution_count": 17,
   "id": "04bf37c2",
   "metadata": {
    "execution": {
     "iopub.execute_input": "2023-12-19T23:09:31.479286Z",
     "iopub.status.busy": "2023-12-19T23:09:31.478635Z",
     "iopub.status.idle": "2023-12-19T23:09:31.487611Z",
     "shell.execute_reply": "2023-12-19T23:09:31.486735Z"
    },
    "papermill": {
     "duration": 0.035696,
     "end_time": "2023-12-19T23:09:31.489449",
     "exception": false,
     "start_time": "2023-12-19T23:09:31.453753",
     "status": "completed"
    },
    "tags": []
   },
   "outputs": [
    {
     "data": {
      "text/plain": [
       "5     /kaggle/input/cbis-ddsm-breast-cancer-image-da...\n",
       "8     /kaggle/input/cbis-ddsm-breast-cancer-image-da...\n",
       "9     /kaggle/input/cbis-ddsm-breast-cancer-image-da...\n",
       "14    /kaggle/input/cbis-ddsm-breast-cancer-image-da...\n",
       "20    /kaggle/input/cbis-ddsm-breast-cancer-image-da...\n",
       "Name: image_path, dtype: object"
      ]
     },
     "execution_count": 17,
     "metadata": {},
     "output_type": "execute_result"
    }
   ],
   "source": [
    "ROI_mask_images = ROI_mask_images.apply(lambda x: x.replace('CBIS-DDSM/jpeg', image_dir))\n",
    "ROI_mask_images.head()"
   ]
  },
  {
   "cell_type": "code",
   "execution_count": 18,
   "id": "41cbf58d",
   "metadata": {
    "execution": {
     "iopub.execute_input": "2023-12-19T23:09:31.540499Z",
     "iopub.status.busy": "2023-12-19T23:09:31.540221Z",
     "iopub.status.idle": "2023-12-19T23:09:42.868720Z",
     "shell.execute_reply": "2023-12-19T23:09:42.867644Z"
    },
    "papermill": {
     "duration": 11.356695,
     "end_time": "2023-12-19T23:09:42.871258",
     "exception": false,
     "start_time": "2023-12-19T23:09:31.514563",
     "status": "completed"
    },
    "tags": []
   },
   "outputs": [
    {
     "data": {
      "image/png": "[encoded data removed]",
      "text/plain": [
       "<Figure size 640x480 with 1 Axes>"
      ]
     },
     "metadata": {},
     "output_type": "display_data"
    }
   ],
   "source": [
    "for file  in ROI_mask_images[0:10]:\n",
    "    ROI_mask_images_show = PIL.Image.open(file)\n",
    "    gray_img= ROI_mask_images_show.convert(\"L\")\n",
    "    plt.imshow(gray_img, cmap='gray')"
   ]
  },
  {
   "cell_type": "code",
   "execution_count": 19,
   "id": "4a95aed5",
   "metadata": {
    "execution": {
     "iopub.execute_input": "2023-12-19T23:09:42.926426Z",
     "iopub.status.busy": "2023-12-19T23:09:42.925760Z",
     "iopub.status.idle": "2023-12-19T23:09:42.963740Z",
     "shell.execute_reply": "2023-12-19T23:09:42.962901Z"
    },
    "papermill": {
     "duration": 0.068375,
     "end_time": "2023-12-19T23:09:42.966094",
     "exception": false,
     "start_time": "2023-12-19T23:09:42.897719",
     "status": "completed"
    },
    "tags": []
   },
   "outputs": [],
   "source": [
    "calc_case_df = pd.read_csv('/kaggle/input/cbis-ddsm-breast-cancer-image-dataset/csv/calc_case_description_train_set.csv')"
   ]
  },
  {
   "cell_type": "code",
   "execution_count": 20,
   "id": "feafc09b",
   "metadata": {
    "execution": {
     "iopub.execute_input": "2023-12-19T23:09:43.020398Z",
     "iopub.status.busy": "2023-12-19T23:09:43.019683Z",
     "iopub.status.idle": "2023-12-19T23:09:43.036012Z",
     "shell.execute_reply": "2023-12-19T23:09:43.035047Z"
    },
    "papermill": {
     "duration": 0.045557,
     "end_time": "2023-12-19T23:09:43.038133",
     "exception": false,
     "start_time": "2023-12-19T23:09:42.992576",
     "status": "completed"
    },
    "tags": []
   },
   "outputs": [
    {
     "data": {
      "text/html": [
       "<div>\n",
       "<style scoped>\n",
       "    .dataframe tbody tr th:only-of-type {\n",
       "        vertical-align: middle;\n",
       "    }\n",
       "\n",
       "    .dataframe tbody tr th {\n",
       "        vertical-align: top;\n",
       "    }\n",
       "\n",
       "    .dataframe thead th {\n",
       "        text-align: right;\n",
       "    }\n",
       "</style>\n",
       "<table border=\"1\" class=\"dataframe\">\n",
       "  <thead>\n",
       "    <tr style=\"text-align: right;\">\n",
       "      <th></th>\n",
       "      <th>patient_id</th>\n",
       "      <th>breast density</th>\n",
       "      <th>left or right breast</th>\n",
       "      <th>image view</th>\n",
       "      <th>abnormality id</th>\n",
       "      <th>abnormality type</th>\n",
       "      <th>calc type</th>\n",
       "      <th>calc distribution</th>\n",
       "      <th>assessment</th>\n",
       "      <th>pathology</th>\n",
       "      <th>subtlety</th>\n",
       "      <th>image file path</th>\n",
       "      <th>cropped image file path</th>\n",
       "      <th>ROI mask file path</th>\n",
       "    </tr>\n",
       "  </thead>\n",
       "  <tbody>\n",
       "    <tr>\n",
       "      <th>0</th>\n",
       "      <td>P_00005</td>\n",
       "      <td>3</td>\n",
       "      <td>RIGHT</td>\n",
       "      <td>CC</td>\n",
       "      <td>1</td>\n",
       "      <td>calcification</td>\n",
       "      <td>AMORPHOUS</td>\n",
       "      <td>CLUSTERED</td>\n",
       "      <td>3</td>\n",
       "      <td>MALIGNANT</td>\n",
       "      <td>3</td>\n",
       "      <td>Calc-Training_P_00005_RIGHT_CC/1.3.6.1.4.1.959...</td>\n",
       "      <td>Calc-Training_P_00005_RIGHT_CC_1/1.3.6.1.4.1.9...</td>\n",
       "      <td>Calc-Training_P_00005_RIGHT_CC_1/1.3.6.1.4.1.9...</td>\n",
       "    </tr>\n",
       "    <tr>\n",
       "      <th>1</th>\n",
       "      <td>P_00005</td>\n",
       "      <td>3</td>\n",
       "      <td>RIGHT</td>\n",
       "      <td>MLO</td>\n",
       "      <td>1</td>\n",
       "      <td>calcification</td>\n",
       "      <td>AMORPHOUS</td>\n",
       "      <td>CLUSTERED</td>\n",
       "      <td>3</td>\n",
       "      <td>MALIGNANT</td>\n",
       "      <td>3</td>\n",
       "      <td>Calc-Training_P_00005_RIGHT_MLO/1.3.6.1.4.1.95...</td>\n",
       "      <td>Calc-Training_P_00005_RIGHT_MLO_1/1.3.6.1.4.1....</td>\n",
       "      <td>Calc-Training_P_00005_RIGHT_MLO_1/1.3.6.1.4.1....</td>\n",
       "    </tr>\n",
       "    <tr>\n",
       "      <th>2</th>\n",
       "      <td>P_00007</td>\n",
       "      <td>4</td>\n",
       "      <td>LEFT</td>\n",
       "      <td>CC</td>\n",
       "      <td>1</td>\n",
       "      <td>calcification</td>\n",
       "      <td>PLEOMORPHIC</td>\n",
       "      <td>LINEAR</td>\n",
       "      <td>4</td>\n",
       "      <td>BENIGN</td>\n",
       "      <td>4</td>\n",
       "      <td>Calc-Training_P_00007_LEFT_CC/1.3.6.1.4.1.9590...</td>\n",
       "      <td>Calc-Training_P_00007_LEFT_CC_1/1.3.6.1.4.1.95...</td>\n",
       "      <td>Calc-Training_P_00007_LEFT_CC_1/1.3.6.1.4.1.95...</td>\n",
       "    </tr>\n",
       "    <tr>\n",
       "      <th>3</th>\n",
       "      <td>P_00007</td>\n",
       "      <td>4</td>\n",
       "      <td>LEFT</td>\n",
       "      <td>MLO</td>\n",
       "      <td>1</td>\n",
       "      <td>calcification</td>\n",
       "      <td>PLEOMORPHIC</td>\n",
       "      <td>LINEAR</td>\n",
       "      <td>4</td>\n",
       "      <td>BENIGN</td>\n",
       "      <td>4</td>\n",
       "      <td>Calc-Training_P_00007_LEFT_MLO/1.3.6.1.4.1.959...</td>\n",
       "      <td>Calc-Training_P_00007_LEFT_MLO_1/1.3.6.1.4.1.9...</td>\n",
       "      <td>Calc-Training_P_00007_LEFT_MLO_1/1.3.6.1.4.1.9...</td>\n",
       "    </tr>\n",
       "    <tr>\n",
       "      <th>4</th>\n",
       "      <td>P_00008</td>\n",
       "      <td>1</td>\n",
       "      <td>LEFT</td>\n",
       "      <td>CC</td>\n",
       "      <td>1</td>\n",
       "      <td>calcification</td>\n",
       "      <td>NaN</td>\n",
       "      <td>REGIONAL</td>\n",
       "      <td>2</td>\n",
       "      <td>BENIGN_WITHOUT_CALLBACK</td>\n",
       "      <td>3</td>\n",
       "      <td>Calc-Training_P_00008_LEFT_CC/1.3.6.1.4.1.9590...</td>\n",
       "      <td>Calc-Training_P_00008_LEFT_CC_1/1.3.6.1.4.1.95...</td>\n",
       "      <td>Calc-Training_P_00008_LEFT_CC_1/1.3.6.1.4.1.95...</td>\n",
       "    </tr>\n",
       "  </tbody>\n",
       "</table>\n",
       "</div>"
      ],
      "text/plain": [
       "  patient_id  breast density left or right breast image view  abnormality id  \\\n",
       "0    P_00005               3                RIGHT         CC               1   \n",
       "1    P_00005               3                RIGHT        MLO               1   \n",
       "2    P_00007               4                 LEFT         CC               1   \n",
       "3    P_00007               4                 LEFT        MLO               1   \n",
       "4    P_00008               1                 LEFT         CC               1   \n",
       "\n",
       "  abnormality type    calc type calc distribution  assessment  \\\n",
       "0    calcification    AMORPHOUS         CLUSTERED           3   \n",
       "1    calcification    AMORPHOUS         CLUSTERED           3   \n",
       "2    calcification  PLEOMORPHIC            LINEAR           4   \n",
       "3    calcification  PLEOMORPHIC            LINEAR           4   \n",
       "4    calcification          NaN          REGIONAL           2   \n",
       "\n",
       "                 pathology  subtlety  \\\n",
       "0                MALIGNANT         3   \n",
       "1                MALIGNANT         3   \n",
       "2                   BENIGN         4   \n",
       "3                   BENIGN         4   \n",
       "4  BENIGN_WITHOUT_CALLBACK         3   \n",
       "\n",
       "                                     image file path  \\\n",
       "0  Calc-Training_P_00005_RIGHT_CC/1.3.6.1.4.1.959...   \n",
       "1  Calc-Training_P_00005_RIGHT_MLO/1.3.6.1.4.1.95...   \n",
       "2  Calc-Training_P_00007_LEFT_CC/1.3.6.1.4.1.9590...   \n",
       "3  Calc-Training_P_00007_LEFT_MLO/1.3.6.1.4.1.959...   \n",
       "4  Calc-Training_P_00008_LEFT_CC/1.3.6.1.4.1.9590...   \n",
       "\n",
       "                             cropped image file path  \\\n",
       "0  Calc-Training_P_00005_RIGHT_CC_1/1.3.6.1.4.1.9...   \n",
       "1  Calc-Training_P_00005_RIGHT_MLO_1/1.3.6.1.4.1....   \n",
       "2  Calc-Training_P_00007_LEFT_CC_1/1.3.6.1.4.1.95...   \n",
       "3  Calc-Training_P_00007_LEFT_MLO_1/1.3.6.1.4.1.9...   \n",
       "4  Calc-Training_P_00008_LEFT_CC_1/1.3.6.1.4.1.95...   \n",
       "\n",
       "                                  ROI mask file path  \n",
       "0  Calc-Training_P_00005_RIGHT_CC_1/1.3.6.1.4.1.9...  \n",
       "1  Calc-Training_P_00005_RIGHT_MLO_1/1.3.6.1.4.1....  \n",
       "2  Calc-Training_P_00007_LEFT_CC_1/1.3.6.1.4.1.95...  \n",
       "3  Calc-Training_P_00007_LEFT_MLO_1/1.3.6.1.4.1.9...  \n",
       "4  Calc-Training_P_00008_LEFT_CC_1/1.3.6.1.4.1.95...  "
      ]
     },
     "execution_count": 20,
     "metadata": {},
     "output_type": "execute_result"
    }
   ],
   "source": [
    "calc_case_df.head(5)"
   ]
  },
  {
   "cell_type": "code",
   "execution_count": 21,
   "id": "eee9e3fd",
   "metadata": {
    "execution": {
     "iopub.execute_input": "2023-12-19T23:09:43.094497Z",
     "iopub.status.busy": "2023-12-19T23:09:43.094130Z",
     "iopub.status.idle": "2023-12-19T23:09:43.107068Z",
     "shell.execute_reply": "2023-12-19T23:09:43.106087Z"
    },
    "papermill": {
     "duration": 0.044012,
     "end_time": "2023-12-19T23:09:43.109867",
     "exception": false,
     "start_time": "2023-12-19T23:09:43.065855",
     "status": "completed"
    },
    "tags": []
   },
   "outputs": [
    {
     "name": "stdout",
     "output_type": "stream",
     "text": [
      "<class 'pandas.core.frame.DataFrame'>\n",
      "RangeIndex: 1546 entries, 0 to 1545\n",
      "Data columns (total 14 columns):\n",
      " #   Column                   Non-Null Count  Dtype \n",
      "---  ------                   --------------  ----- \n",
      " 0   patient_id               1546 non-null   object\n",
      " 1   breast density           1546 non-null   int64 \n",
      " 2   left or right breast     1546 non-null   object\n",
      " 3   image view               1546 non-null   object\n",
      " 4   abnormality id           1546 non-null   int64 \n",
      " 5   abnormality type         1546 non-null   object\n",
      " 6   calc type                1526 non-null   object\n",
      " 7   calc distribution        1170 non-null   object\n",
      " 8   assessment               1546 non-null   int64 \n",
      " 9   pathology                1546 non-null   object\n",
      " 10  subtlety                 1546 non-null   int64 \n",
      " 11  image file path          1546 non-null   object\n",
      " 12  cropped image file path  1546 non-null   object\n",
      " 13  ROI mask file path       1546 non-null   object\n",
      "dtypes: int64(4), object(10)\n",
      "memory usage: 169.2+ KB\n"
     ]
    }
   ],
   "source": [
    "calc_case_df.info()"
   ]
  },
  {
   "cell_type": "code",
   "execution_count": 22,
   "id": "e63b8910",
   "metadata": {
    "execution": {
     "iopub.execute_input": "2023-12-19T23:09:43.163633Z",
     "iopub.status.busy": "2023-12-19T23:09:43.162860Z",
     "iopub.status.idle": "2023-12-19T23:09:43.184771Z",
     "shell.execute_reply": "2023-12-19T23:09:43.183818Z"
    },
    "papermill": {
     "duration": 0.051264,
     "end_time": "2023-12-19T23:09:43.186970",
     "exception": false,
     "start_time": "2023-12-19T23:09:43.135706",
     "status": "completed"
    },
    "tags": []
   },
   "outputs": [
    {
     "data": {
      "text/html": [
       "<div>\n",
       "<style scoped>\n",
       "    .dataframe tbody tr th:only-of-type {\n",
       "        vertical-align: middle;\n",
       "    }\n",
       "\n",
       "    .dataframe tbody tr th {\n",
       "        vertical-align: top;\n",
       "    }\n",
       "\n",
       "    .dataframe thead th {\n",
       "        text-align: right;\n",
       "    }\n",
       "</style>\n",
       "<table border=\"1\" class=\"dataframe\">\n",
       "  <thead>\n",
       "    <tr style=\"text-align: right;\">\n",
       "      <th></th>\n",
       "      <th>breast density</th>\n",
       "      <th>abnormality id</th>\n",
       "      <th>assessment</th>\n",
       "      <th>subtlety</th>\n",
       "    </tr>\n",
       "  </thead>\n",
       "  <tbody>\n",
       "    <tr>\n",
       "      <th>count</th>\n",
       "      <td>1546.000000</td>\n",
       "      <td>1546.000000</td>\n",
       "      <td>1546.000000</td>\n",
       "      <td>1546.000000</td>\n",
       "    </tr>\n",
       "    <tr>\n",
       "      <th>mean</th>\n",
       "      <td>2.663648</td>\n",
       "      <td>1.415265</td>\n",
       "      <td>3.258732</td>\n",
       "      <td>3.411384</td>\n",
       "    </tr>\n",
       "    <tr>\n",
       "      <th>std</th>\n",
       "      <td>0.937219</td>\n",
       "      <td>0.903571</td>\n",
       "      <td>1.229231</td>\n",
       "      <td>1.179754</td>\n",
       "    </tr>\n",
       "    <tr>\n",
       "      <th>min</th>\n",
       "      <td>1.000000</td>\n",
       "      <td>1.000000</td>\n",
       "      <td>0.000000</td>\n",
       "      <td>1.000000</td>\n",
       "    </tr>\n",
       "    <tr>\n",
       "      <th>25%</th>\n",
       "      <td>2.000000</td>\n",
       "      <td>1.000000</td>\n",
       "      <td>2.000000</td>\n",
       "      <td>3.000000</td>\n",
       "    </tr>\n",
       "    <tr>\n",
       "      <th>50%</th>\n",
       "      <td>3.000000</td>\n",
       "      <td>1.000000</td>\n",
       "      <td>4.000000</td>\n",
       "      <td>3.000000</td>\n",
       "    </tr>\n",
       "    <tr>\n",
       "      <th>75%</th>\n",
       "      <td>3.000000</td>\n",
       "      <td>1.000000</td>\n",
       "      <td>4.000000</td>\n",
       "      <td>4.000000</td>\n",
       "    </tr>\n",
       "    <tr>\n",
       "      <th>max</th>\n",
       "      <td>4.000000</td>\n",
       "      <td>7.000000</td>\n",
       "      <td>5.000000</td>\n",
       "      <td>5.000000</td>\n",
       "    </tr>\n",
       "  </tbody>\n",
       "</table>\n",
       "</div>"
      ],
      "text/plain": [
       "       breast density  abnormality id   assessment     subtlety\n",
       "count     1546.000000     1546.000000  1546.000000  1546.000000\n",
       "mean         2.663648        1.415265     3.258732     3.411384\n",
       "std          0.937219        0.903571     1.229231     1.179754\n",
       "min          1.000000        1.000000     0.000000     1.000000\n",
       "25%          2.000000        1.000000     2.000000     3.000000\n",
       "50%          3.000000        1.000000     4.000000     3.000000\n",
       "75%          3.000000        1.000000     4.000000     4.000000\n",
       "max          4.000000        7.000000     5.000000     5.000000"
      ]
     },
     "execution_count": 22,
     "metadata": {},
     "output_type": "execute_result"
    }
   ],
   "source": [
    "calc_case_df.describe()"
   ]
  },
  {
   "cell_type": "code",
   "execution_count": 23,
   "id": "0f1774b8",
   "metadata": {
    "execution": {
     "iopub.execute_input": "2023-12-19T23:09:43.243753Z",
     "iopub.status.busy": "2023-12-19T23:09:43.242825Z",
     "iopub.status.idle": "2023-12-19T23:09:43.273610Z",
     "shell.execute_reply": "2023-12-19T23:09:43.272534Z"
    },
    "papermill": {
     "duration": 0.060888,
     "end_time": "2023-12-19T23:09:43.275993",
     "exception": false,
     "start_time": "2023-12-19T23:09:43.215105",
     "status": "completed"
    },
    "tags": []
   },
   "outputs": [],
   "source": [
    "mass_case_df = pd.read_csv('/kaggle/input/cbis-ddsm-breast-cancer-image-dataset/csv/mass_case_description_train_set.csv')"
   ]
  },
  {
   "cell_type": "code",
   "execution_count": 24,
   "id": "5a823e39",
   "metadata": {
    "execution": {
     "iopub.execute_input": "2023-12-19T23:09:43.331318Z",
     "iopub.status.busy": "2023-12-19T23:09:43.330406Z",
     "iopub.status.idle": "2023-12-19T23:09:43.346423Z",
     "shell.execute_reply": "2023-12-19T23:09:43.345459Z"
    },
    "papermill": {
     "duration": 0.045931,
     "end_time": "2023-12-19T23:09:43.348525",
     "exception": false,
     "start_time": "2023-12-19T23:09:43.302594",
     "status": "completed"
    },
    "tags": []
   },
   "outputs": [
    {
     "data": {
      "text/html": [
       "<div>\n",
       "<style scoped>\n",
       "    .dataframe tbody tr th:only-of-type {\n",
       "        vertical-align: middle;\n",
       "    }\n",
       "\n",
       "    .dataframe tbody tr th {\n",
       "        vertical-align: top;\n",
       "    }\n",
       "\n",
       "    .dataframe thead th {\n",
       "        text-align: right;\n",
       "    }\n",
       "</style>\n",
       "<table border=\"1\" class=\"dataframe\">\n",
       "  <thead>\n",
       "    <tr style=\"text-align: right;\">\n",
       "      <th></th>\n",
       "      <th>patient_id</th>\n",
       "      <th>breast_density</th>\n",
       "      <th>left or right breast</th>\n",
       "      <th>image view</th>\n",
       "      <th>abnormality id</th>\n",
       "      <th>abnormality type</th>\n",
       "      <th>mass shape</th>\n",
       "      <th>mass margins</th>\n",
       "      <th>assessment</th>\n",
       "      <th>pathology</th>\n",
       "      <th>subtlety</th>\n",
       "      <th>image file path</th>\n",
       "      <th>cropped image file path</th>\n",
       "      <th>ROI mask file path</th>\n",
       "    </tr>\n",
       "  </thead>\n",
       "  <tbody>\n",
       "    <tr>\n",
       "      <th>0</th>\n",
       "      <td>P_00001</td>\n",
       "      <td>3</td>\n",
       "      <td>LEFT</td>\n",
       "      <td>CC</td>\n",
       "      <td>1</td>\n",
       "      <td>mass</td>\n",
       "      <td>IRREGULAR-ARCHITECTURAL_DISTORTION</td>\n",
       "      <td>SPICULATED</td>\n",
       "      <td>4</td>\n",
       "      <td>MALIGNANT</td>\n",
       "      <td>4</td>\n",
       "      <td>Mass-Training_P_00001_LEFT_CC/1.3.6.1.4.1.9590...</td>\n",
       "      <td>Mass-Training_P_00001_LEFT_CC_1/1.3.6.1.4.1.95...</td>\n",
       "      <td>Mass-Training_P_00001_LEFT_CC_1/1.3.6.1.4.1.95...</td>\n",
       "    </tr>\n",
       "    <tr>\n",
       "      <th>1</th>\n",
       "      <td>P_00001</td>\n",
       "      <td>3</td>\n",
       "      <td>LEFT</td>\n",
       "      <td>MLO</td>\n",
       "      <td>1</td>\n",
       "      <td>mass</td>\n",
       "      <td>IRREGULAR-ARCHITECTURAL_DISTORTION</td>\n",
       "      <td>SPICULATED</td>\n",
       "      <td>4</td>\n",
       "      <td>MALIGNANT</td>\n",
       "      <td>4</td>\n",
       "      <td>Mass-Training_P_00001_LEFT_MLO/1.3.6.1.4.1.959...</td>\n",
       "      <td>Mass-Training_P_00001_LEFT_MLO_1/1.3.6.1.4.1.9...</td>\n",
       "      <td>Mass-Training_P_00001_LEFT_MLO_1/1.3.6.1.4.1.9...</td>\n",
       "    </tr>\n",
       "    <tr>\n",
       "      <th>2</th>\n",
       "      <td>P_00004</td>\n",
       "      <td>3</td>\n",
       "      <td>LEFT</td>\n",
       "      <td>CC</td>\n",
       "      <td>1</td>\n",
       "      <td>mass</td>\n",
       "      <td>ARCHITECTURAL_DISTORTION</td>\n",
       "      <td>ILL_DEFINED</td>\n",
       "      <td>4</td>\n",
       "      <td>BENIGN</td>\n",
       "      <td>3</td>\n",
       "      <td>Mass-Training_P_00004_LEFT_CC/1.3.6.1.4.1.9590...</td>\n",
       "      <td>Mass-Training_P_00004_LEFT_CC_1/1.3.6.1.4.1.95...</td>\n",
       "      <td>Mass-Training_P_00004_LEFT_CC_1/1.3.6.1.4.1.95...</td>\n",
       "    </tr>\n",
       "    <tr>\n",
       "      <th>3</th>\n",
       "      <td>P_00004</td>\n",
       "      <td>3</td>\n",
       "      <td>LEFT</td>\n",
       "      <td>MLO</td>\n",
       "      <td>1</td>\n",
       "      <td>mass</td>\n",
       "      <td>ARCHITECTURAL_DISTORTION</td>\n",
       "      <td>ILL_DEFINED</td>\n",
       "      <td>4</td>\n",
       "      <td>BENIGN</td>\n",
       "      <td>3</td>\n",
       "      <td>Mass-Training_P_00004_LEFT_MLO/1.3.6.1.4.1.959...</td>\n",
       "      <td>Mass-Training_P_00004_LEFT_MLO_1/1.3.6.1.4.1.9...</td>\n",
       "      <td>Mass-Training_P_00004_LEFT_MLO_1/1.3.6.1.4.1.9...</td>\n",
       "    </tr>\n",
       "    <tr>\n",
       "      <th>4</th>\n",
       "      <td>P_00004</td>\n",
       "      <td>3</td>\n",
       "      <td>RIGHT</td>\n",
       "      <td>MLO</td>\n",
       "      <td>1</td>\n",
       "      <td>mass</td>\n",
       "      <td>OVAL</td>\n",
       "      <td>CIRCUMSCRIBED</td>\n",
       "      <td>4</td>\n",
       "      <td>BENIGN</td>\n",
       "      <td>5</td>\n",
       "      <td>Mass-Training_P_00004_RIGHT_MLO/1.3.6.1.4.1.95...</td>\n",
       "      <td>Mass-Training_P_00004_RIGHT_MLO_1/1.3.6.1.4.1....</td>\n",
       "      <td>Mass-Training_P_00004_RIGHT_MLO_1/1.3.6.1.4.1....</td>\n",
       "    </tr>\n",
       "  </tbody>\n",
       "</table>\n",
       "</div>"
      ],
      "text/plain": [
       "  patient_id  breast_density left or right breast image view  abnormality id  \\\n",
       "0    P_00001               3                 LEFT         CC               1   \n",
       "1    P_00001               3                 LEFT        MLO               1   \n",
       "2    P_00004               3                 LEFT         CC               1   \n",
       "3    P_00004               3                 LEFT        MLO               1   \n",
       "4    P_00004               3                RIGHT        MLO               1   \n",
       "\n",
       "  abnormality type                          mass shape   mass margins  \\\n",
       "0             mass  IRREGULAR-ARCHITECTURAL_DISTORTION     SPICULATED   \n",
       "1             mass  IRREGULAR-ARCHITECTURAL_DISTORTION     SPICULATED   \n",
       "2             mass            ARCHITECTURAL_DISTORTION    ILL_DEFINED   \n",
       "3             mass            ARCHITECTURAL_DISTORTION    ILL_DEFINED   \n",
       "4             mass                                OVAL  CIRCUMSCRIBED   \n",
       "\n",
       "   assessment  pathology  subtlety  \\\n",
       "0           4  MALIGNANT         4   \n",
       "1           4  MALIGNANT         4   \n",
       "2           4     BENIGN         3   \n",
       "3           4     BENIGN         3   \n",
       "4           4     BENIGN         5   \n",
       "\n",
       "                                     image file path  \\\n",
       "0  Mass-Training_P_00001_LEFT_CC/1.3.6.1.4.1.9590...   \n",
       "1  Mass-Training_P_00001_LEFT_MLO/1.3.6.1.4.1.959...   \n",
       "2  Mass-Training_P_00004_LEFT_CC/1.3.6.1.4.1.9590...   \n",
       "3  Mass-Training_P_00004_LEFT_MLO/1.3.6.1.4.1.959...   \n",
       "4  Mass-Training_P_00004_RIGHT_MLO/1.3.6.1.4.1.95...   \n",
       "\n",
       "                             cropped image file path  \\\n",
       "0  Mass-Training_P_00001_LEFT_CC_1/1.3.6.1.4.1.95...   \n",
       "1  Mass-Training_P_00001_LEFT_MLO_1/1.3.6.1.4.1.9...   \n",
       "2  Mass-Training_P_00004_LEFT_CC_1/1.3.6.1.4.1.95...   \n",
       "3  Mass-Training_P_00004_LEFT_MLO_1/1.3.6.1.4.1.9...   \n",
       "4  Mass-Training_P_00004_RIGHT_MLO_1/1.3.6.1.4.1....   \n",
       "\n",
       "                                  ROI mask file path  \n",
       "0  Mass-Training_P_00001_LEFT_CC_1/1.3.6.1.4.1.95...  \n",
       "1  Mass-Training_P_00001_LEFT_MLO_1/1.3.6.1.4.1.9...  \n",
       "2  Mass-Training_P_00004_LEFT_CC_1/1.3.6.1.4.1.95...  \n",
       "3  Mass-Training_P_00004_LEFT_MLO_1/1.3.6.1.4.1.9...  \n",
       "4  Mass-Training_P_00004_RIGHT_MLO_1/1.3.6.1.4.1....  "
      ]
     },
     "execution_count": 24,
     "metadata": {},
     "output_type": "execute_result"
    }
   ],
   "source": [
    "mass_case_df.head(5)"
   ]
  },
  {
   "cell_type": "code",
   "execution_count": 25,
   "id": "e58e3932",
   "metadata": {
    "execution": {
     "iopub.execute_input": "2023-12-19T23:09:43.403905Z",
     "iopub.status.busy": "2023-12-19T23:09:43.403203Z",
     "iopub.status.idle": "2023-12-19T23:09:43.415253Z",
     "shell.execute_reply": "2023-12-19T23:09:43.414070Z"
    },
    "papermill": {
     "duration": 0.041977,
     "end_time": "2023-12-19T23:09:43.417416",
     "exception": false,
     "start_time": "2023-12-19T23:09:43.375439",
     "status": "completed"
    },
    "tags": []
   },
   "outputs": [
    {
     "name": "stdout",
     "output_type": "stream",
     "text": [
      "<class 'pandas.core.frame.DataFrame'>\n",
      "RangeIndex: 1318 entries, 0 to 1317\n",
      "Data columns (total 14 columns):\n",
      " #   Column                   Non-Null Count  Dtype \n",
      "---  ------                   --------------  ----- \n",
      " 0   patient_id               1318 non-null   object\n",
      " 1   breast_density           1318 non-null   int64 \n",
      " 2   left or right breast     1318 non-null   object\n",
      " 3   image view               1318 non-null   object\n",
      " 4   abnormality id           1318 non-null   int64 \n",
      " 5   abnormality type         1318 non-null   object\n",
      " 6   mass shape               1314 non-null   object\n",
      " 7   mass margins             1275 non-null   object\n",
      " 8   assessment               1318 non-null   int64 \n",
      " 9   pathology                1318 non-null   object\n",
      " 10  subtlety                 1318 non-null   int64 \n",
      " 11  image file path          1318 non-null   object\n",
      " 12  cropped image file path  1318 non-null   object\n",
      " 13  ROI mask file path       1318 non-null   object\n",
      "dtypes: int64(4), object(10)\n",
      "memory usage: 144.3+ KB\n"
     ]
    }
   ],
   "source": [
    "mass_case_df.info()"
   ]
  },
  {
   "cell_type": "code",
   "execution_count": 26,
   "id": "4866c3c0",
   "metadata": {
    "execution": {
     "iopub.execute_input": "2023-12-19T23:09:43.473648Z",
     "iopub.status.busy": "2023-12-19T23:09:43.472804Z",
     "iopub.status.idle": "2023-12-19T23:09:43.493865Z",
     "shell.execute_reply": "2023-12-19T23:09:43.492935Z"
    },
    "papermill": {
     "duration": 0.051494,
     "end_time": "2023-12-19T23:09:43.496227",
     "exception": false,
     "start_time": "2023-12-19T23:09:43.444733",
     "status": "completed"
    },
    "tags": []
   },
   "outputs": [
    {
     "data": {
      "text/html": [
       "<div>\n",
       "<style scoped>\n",
       "    .dataframe tbody tr th:only-of-type {\n",
       "        vertical-align: middle;\n",
       "    }\n",
       "\n",
       "    .dataframe tbody tr th {\n",
       "        vertical-align: top;\n",
       "    }\n",
       "\n",
       "    .dataframe thead th {\n",
       "        text-align: right;\n",
       "    }\n",
       "</style>\n",
       "<table border=\"1\" class=\"dataframe\">\n",
       "  <thead>\n",
       "    <tr style=\"text-align: right;\">\n",
       "      <th></th>\n",
       "      <th>breast_density</th>\n",
       "      <th>abnormality id</th>\n",
       "      <th>assessment</th>\n",
       "      <th>subtlety</th>\n",
       "    </tr>\n",
       "  </thead>\n",
       "  <tbody>\n",
       "    <tr>\n",
       "      <th>count</th>\n",
       "      <td>1318.000000</td>\n",
       "      <td>1318.000000</td>\n",
       "      <td>1318.000000</td>\n",
       "      <td>1318.000000</td>\n",
       "    </tr>\n",
       "    <tr>\n",
       "      <th>mean</th>\n",
       "      <td>2.203338</td>\n",
       "      <td>1.116085</td>\n",
       "      <td>3.504552</td>\n",
       "      <td>3.965857</td>\n",
       "    </tr>\n",
       "    <tr>\n",
       "      <th>std</th>\n",
       "      <td>0.873774</td>\n",
       "      <td>0.467013</td>\n",
       "      <td>1.414609</td>\n",
       "      <td>1.102032</td>\n",
       "    </tr>\n",
       "    <tr>\n",
       "      <th>min</th>\n",
       "      <td>1.000000</td>\n",
       "      <td>1.000000</td>\n",
       "      <td>0.000000</td>\n",
       "      <td>0.000000</td>\n",
       "    </tr>\n",
       "    <tr>\n",
       "      <th>25%</th>\n",
       "      <td>2.000000</td>\n",
       "      <td>1.000000</td>\n",
       "      <td>3.000000</td>\n",
       "      <td>3.000000</td>\n",
       "    </tr>\n",
       "    <tr>\n",
       "      <th>50%</th>\n",
       "      <td>2.000000</td>\n",
       "      <td>1.000000</td>\n",
       "      <td>4.000000</td>\n",
       "      <td>4.000000</td>\n",
       "    </tr>\n",
       "    <tr>\n",
       "      <th>75%</th>\n",
       "      <td>3.000000</td>\n",
       "      <td>1.000000</td>\n",
       "      <td>4.000000</td>\n",
       "      <td>5.000000</td>\n",
       "    </tr>\n",
       "    <tr>\n",
       "      <th>max</th>\n",
       "      <td>4.000000</td>\n",
       "      <td>6.000000</td>\n",
       "      <td>5.000000</td>\n",
       "      <td>5.000000</td>\n",
       "    </tr>\n",
       "  </tbody>\n",
       "</table>\n",
       "</div>"
      ],
      "text/plain": [
       "       breast_density  abnormality id   assessment     subtlety\n",
       "count     1318.000000     1318.000000  1318.000000  1318.000000\n",
       "mean         2.203338        1.116085     3.504552     3.965857\n",
       "std          0.873774        0.467013     1.414609     1.102032\n",
       "min          1.000000        1.000000     0.000000     0.000000\n",
       "25%          2.000000        1.000000     3.000000     3.000000\n",
       "50%          2.000000        1.000000     4.000000     4.000000\n",
       "75%          3.000000        1.000000     4.000000     5.000000\n",
       "max          4.000000        6.000000     5.000000     5.000000"
      ]
     },
     "execution_count": 26,
     "metadata": {},
     "output_type": "execute_result"
    }
   ],
   "source": [
    "mass_case_df.describe()"
   ]
  },
  {
   "cell_type": "markdown",
   "id": "fabd5289",
   "metadata": {
    "papermill": {
     "duration": 0.026245,
     "end_time": "2023-12-19T23:09:43.551606",
     "exception": false,
     "start_time": "2023-12-19T23:09:43.525361",
     "status": "completed"
    },
    "tags": []
   },
   "source": [
    "# **Data Cleaning**"
   ]
  },
  {
   "cell_type": "code",
   "execution_count": 27,
   "id": "b8095ec9",
   "metadata": {
    "execution": {
     "iopub.execute_input": "2023-12-19T23:09:43.606827Z",
     "iopub.status.busy": "2023-12-19T23:09:43.606429Z",
     "iopub.status.idle": "2023-12-19T23:09:43.630908Z",
     "shell.execute_reply": "2023-12-19T23:09:43.629893Z"
    },
    "papermill": {
     "duration": 0.054891,
     "end_time": "2023-12-19T23:09:43.633154",
     "exception": false,
     "start_time": "2023-12-19T23:09:43.578263",
     "status": "completed"
    },
    "tags": []
   },
   "outputs": [
    {
     "data": {
      "text/html": [
       "<div>\n",
       "<style scoped>\n",
       "    .dataframe tbody tr th:only-of-type {\n",
       "        vertical-align: middle;\n",
       "    }\n",
       "\n",
       "    .dataframe tbody tr th {\n",
       "        vertical-align: top;\n",
       "    }\n",
       "\n",
       "    .dataframe thead th {\n",
       "        text-align: right;\n",
       "    }\n",
       "</style>\n",
       "<table border=\"1\" class=\"dataframe\">\n",
       "  <thead>\n",
       "    <tr style=\"text-align: right;\">\n",
       "      <th></th>\n",
       "      <th>file_path</th>\n",
       "      <th>image_path</th>\n",
       "      <th>AccessionNumber</th>\n",
       "      <th>BitsAllocated</th>\n",
       "      <th>BitsStored</th>\n",
       "      <th>BodyPartExamined</th>\n",
       "      <th>Columns</th>\n",
       "      <th>ContentDate</th>\n",
       "      <th>ContentTime</th>\n",
       "      <th>ConversionType</th>\n",
       "      <th>...</th>\n",
       "      <th>SecondaryCaptureDeviceManufacturerModelName</th>\n",
       "      <th>SeriesDescription</th>\n",
       "      <th>SeriesInstanceUID</th>\n",
       "      <th>SeriesNumber</th>\n",
       "      <th>SmallestImagePixelValue</th>\n",
       "      <th>SpecificCharacterSet</th>\n",
       "      <th>StudyDate</th>\n",
       "      <th>StudyID</th>\n",
       "      <th>StudyInstanceUID</th>\n",
       "      <th>StudyTime</th>\n",
       "    </tr>\n",
       "  </thead>\n",
       "  <tbody>\n",
       "    <tr>\n",
       "      <th>0</th>\n",
       "      <td>CBIS-DDSM/dicom/1.3.6.1.4.1.9590.100.1.2.12930...</td>\n",
       "      <td>CBIS-DDSM/jpeg/1.3.6.1.4.1.9590.100.1.2.129308...</td>\n",
       "      <td>NaN</td>\n",
       "      <td>16</td>\n",
       "      <td>16</td>\n",
       "      <td>BREAST</td>\n",
       "      <td>351</td>\n",
       "      <td>20160426</td>\n",
       "      <td>131732.685</td>\n",
       "      <td>WSD</td>\n",
       "      <td>...</td>\n",
       "      <td>MATLAB</td>\n",
       "      <td>cropped images</td>\n",
       "      <td>1.3.6.1.4.1.9590.100.1.2.129308726812851964007...</td>\n",
       "      <td>1</td>\n",
       "      <td>23078</td>\n",
       "      <td>ISO_IR 100</td>\n",
       "      <td>20160720.0</td>\n",
       "      <td>DDSM</td>\n",
       "      <td>1.3.6.1.4.1.9590.100.1.2.271867287611061855725...</td>\n",
       "      <td>214951.0</td>\n",
       "    </tr>\n",
       "    <tr>\n",
       "      <th>1</th>\n",
       "      <td>CBIS-DDSM/dicom/1.3.6.1.4.1.9590.100.1.2.24838...</td>\n",
       "      <td>CBIS-DDSM/jpeg/1.3.6.1.4.1.9590.100.1.2.248386...</td>\n",
       "      <td>NaN</td>\n",
       "      <td>16</td>\n",
       "      <td>16</td>\n",
       "      <td>BREAST</td>\n",
       "      <td>3526</td>\n",
       "      <td>20160426</td>\n",
       "      <td>143829.101</td>\n",
       "      <td>WSD</td>\n",
       "      <td>...</td>\n",
       "      <td>MATLAB</td>\n",
       "      <td>full mammogram images</td>\n",
       "      <td>1.3.6.1.4.1.9590.100.1.2.248386742010678582309...</td>\n",
       "      <td>1</td>\n",
       "      <td>0</td>\n",
       "      <td>ISO_IR 100</td>\n",
       "      <td>20160720.0</td>\n",
       "      <td>DDSM</td>\n",
       "      <td>1.3.6.1.4.1.9590.100.1.2.161516517311681906612...</td>\n",
       "      <td>193426.0</td>\n",
       "    </tr>\n",
       "    <tr>\n",
       "      <th>2</th>\n",
       "      <td>CBIS-DDSM/dicom/1.3.6.1.4.1.9590.100.1.2.26721...</td>\n",
       "      <td>CBIS-DDSM/jpeg/1.3.6.1.4.1.9590.100.1.2.267213...</td>\n",
       "      <td>NaN</td>\n",
       "      <td>16</td>\n",
       "      <td>16</td>\n",
       "      <td>BREAST</td>\n",
       "      <td>1546</td>\n",
       "      <td>20160503</td>\n",
       "      <td>111956.298</td>\n",
       "      <td>WSD</td>\n",
       "      <td>...</td>\n",
       "      <td>MATLAB</td>\n",
       "      <td>full mammogram images</td>\n",
       "      <td>1.3.6.1.4.1.9590.100.1.2.267213171011171858918...</td>\n",
       "      <td>1</td>\n",
       "      <td>0</td>\n",
       "      <td>ISO_IR 100</td>\n",
       "      <td>20160807.0</td>\n",
       "      <td>DDSM</td>\n",
       "      <td>1.3.6.1.4.1.9590.100.1.2.291043622711253836701...</td>\n",
       "      <td>161814.0</td>\n",
       "    </tr>\n",
       "    <tr>\n",
       "      <th>3</th>\n",
       "      <td>CBIS-DDSM/dicom/1.3.6.1.4.1.9590.100.1.2.38118...</td>\n",
       "      <td>CBIS-DDSM/jpeg/1.3.6.1.4.1.9590.100.1.2.381187...</td>\n",
       "      <td>NaN</td>\n",
       "      <td>16</td>\n",
       "      <td>16</td>\n",
       "      <td>BREAST</td>\n",
       "      <td>97</td>\n",
       "      <td>20160503</td>\n",
       "      <td>115347.770</td>\n",
       "      <td>WSD</td>\n",
       "      <td>...</td>\n",
       "      <td>MATLAB</td>\n",
       "      <td>cropped images</td>\n",
       "      <td>1.3.6.1.4.1.9590.100.1.2.381187369611524586537...</td>\n",
       "      <td>1</td>\n",
       "      <td>32298</td>\n",
       "      <td>ISO_IR 100</td>\n",
       "      <td>20170829.0</td>\n",
       "      <td>DDSM</td>\n",
       "      <td>1.3.6.1.4.1.9590.100.1.2.335006093711888937440...</td>\n",
       "      <td>180109.0</td>\n",
       "    </tr>\n",
       "    <tr>\n",
       "      <th>4</th>\n",
       "      <td>CBIS-DDSM/dicom/1.3.6.1.4.1.9590.100.1.2.38118...</td>\n",
       "      <td>CBIS-DDSM/jpeg/1.3.6.1.4.1.9590.100.1.2.381187...</td>\n",
       "      <td>NaN</td>\n",
       "      <td>8</td>\n",
       "      <td>8</td>\n",
       "      <td>Left Breast</td>\n",
       "      <td>3104</td>\n",
       "      <td>20160503</td>\n",
       "      <td>115347.770</td>\n",
       "      <td>WSD</td>\n",
       "      <td>...</td>\n",
       "      <td>MATLAB</td>\n",
       "      <td>NaN</td>\n",
       "      <td>1.3.6.1.4.1.9590.100.1.2.381187369611524586537...</td>\n",
       "      <td>1</td>\n",
       "      <td>0</td>\n",
       "      <td>ISO_IR 100</td>\n",
       "      <td>NaN</td>\n",
       "      <td>DDSM</td>\n",
       "      <td>1.3.6.1.4.1.9590.100.1.2.335006093711888937440...</td>\n",
       "      <td>NaN</td>\n",
       "    </tr>\n",
       "  </tbody>\n",
       "</table>\n",
       "<p>5 rows × 38 columns</p>\n",
       "</div>"
      ],
      "text/plain": [
       "                                           file_path  \\\n",
       "0  CBIS-DDSM/dicom/1.3.6.1.4.1.9590.100.1.2.12930...   \n",
       "1  CBIS-DDSM/dicom/1.3.6.1.4.1.9590.100.1.2.24838...   \n",
       "2  CBIS-DDSM/dicom/1.3.6.1.4.1.9590.100.1.2.26721...   \n",
       "3  CBIS-DDSM/dicom/1.3.6.1.4.1.9590.100.1.2.38118...   \n",
       "4  CBIS-DDSM/dicom/1.3.6.1.4.1.9590.100.1.2.38118...   \n",
       "\n",
       "                                          image_path  AccessionNumber  \\\n",
       "0  CBIS-DDSM/jpeg/1.3.6.1.4.1.9590.100.1.2.129308...              NaN   \n",
       "1  CBIS-DDSM/jpeg/1.3.6.1.4.1.9590.100.1.2.248386...              NaN   \n",
       "2  CBIS-DDSM/jpeg/1.3.6.1.4.1.9590.100.1.2.267213...              NaN   \n",
       "3  CBIS-DDSM/jpeg/1.3.6.1.4.1.9590.100.1.2.381187...              NaN   \n",
       "4  CBIS-DDSM/jpeg/1.3.6.1.4.1.9590.100.1.2.381187...              NaN   \n",
       "\n",
       "   BitsAllocated  BitsStored BodyPartExamined  Columns  ContentDate  \\\n",
       "0             16          16           BREAST      351     20160426   \n",
       "1             16          16           BREAST     3526     20160426   \n",
       "2             16          16           BREAST     1546     20160503   \n",
       "3             16          16           BREAST       97     20160503   \n",
       "4              8           8      Left Breast     3104     20160503   \n",
       "\n",
       "   ContentTime ConversionType  ...  \\\n",
       "0   131732.685            WSD  ...   \n",
       "1   143829.101            WSD  ...   \n",
       "2   111956.298            WSD  ...   \n",
       "3   115347.770            WSD  ...   \n",
       "4   115347.770            WSD  ...   \n",
       "\n",
       "   SecondaryCaptureDeviceManufacturerModelName      SeriesDescription  \\\n",
       "0                                       MATLAB         cropped images   \n",
       "1                                       MATLAB  full mammogram images   \n",
       "2                                       MATLAB  full mammogram images   \n",
       "3                                       MATLAB         cropped images   \n",
       "4                                       MATLAB                    NaN   \n",
       "\n",
       "                                   SeriesInstanceUID SeriesNumber  \\\n",
       "0  1.3.6.1.4.1.9590.100.1.2.129308726812851964007...            1   \n",
       "1  1.3.6.1.4.1.9590.100.1.2.248386742010678582309...            1   \n",
       "2  1.3.6.1.4.1.9590.100.1.2.267213171011171858918...            1   \n",
       "3  1.3.6.1.4.1.9590.100.1.2.381187369611524586537...            1   \n",
       "4  1.3.6.1.4.1.9590.100.1.2.381187369611524586537...            1   \n",
       "\n",
       "  SmallestImagePixelValue  SpecificCharacterSet   StudyDate StudyID  \\\n",
       "0                   23078            ISO_IR 100  20160720.0    DDSM   \n",
       "1                       0            ISO_IR 100  20160720.0    DDSM   \n",
       "2                       0            ISO_IR 100  20160807.0    DDSM   \n",
       "3                   32298            ISO_IR 100  20170829.0    DDSM   \n",
       "4                       0            ISO_IR 100         NaN    DDSM   \n",
       "\n",
       "                                    StudyInstanceUID  StudyTime  \n",
       "0  1.3.6.1.4.1.9590.100.1.2.271867287611061855725...   214951.0  \n",
       "1  1.3.6.1.4.1.9590.100.1.2.161516517311681906612...   193426.0  \n",
       "2  1.3.6.1.4.1.9590.100.1.2.291043622711253836701...   161814.0  \n",
       "3  1.3.6.1.4.1.9590.100.1.2.335006093711888937440...   180109.0  \n",
       "4  1.3.6.1.4.1.9590.100.1.2.335006093711888937440...        NaN  \n",
       "\n",
       "[5 rows x 38 columns]"
      ]
     },
     "execution_count": 27,
     "metadata": {},
     "output_type": "execute_result"
    }
   ],
   "source": [
    "dicom_cleaned_data = dicom_data.copy()\n",
    "dicom_cleaned_data.head()"
   ]
  },
  {
   "cell_type": "code",
   "execution_count": 28,
   "id": "aca7744a",
   "metadata": {
    "execution": {
     "iopub.execute_input": "2023-12-19T23:09:43.690029Z",
     "iopub.status.busy": "2023-12-19T23:09:43.689620Z",
     "iopub.status.idle": "2023-12-19T23:09:43.694867Z",
     "shell.execute_reply": "2023-12-19T23:09:43.694006Z"
    },
    "papermill": {
     "duration": 0.036822,
     "end_time": "2023-12-19T23:09:43.697226",
     "exception": false,
     "start_time": "2023-12-19T23:09:43.660404",
     "status": "completed"
    },
    "tags": []
   },
   "outputs": [
    {
     "name": "stdout",
     "output_type": "stream",
     "text": [
      "Index(['file_path', 'image_path', 'AccessionNumber', 'BitsAllocated',\n",
      "       'BitsStored', 'BodyPartExamined', 'Columns', 'ContentDate',\n",
      "       'ContentTime', 'ConversionType', 'HighBit', 'InstanceNumber',\n",
      "       'LargestImagePixelValue', 'Laterality', 'Modality', 'PatientBirthDate',\n",
      "       'PatientID', 'PatientName', 'PatientOrientation', 'PatientSex',\n",
      "       'PhotometricInterpretation', 'PixelRepresentation',\n",
      "       'ReferringPhysicianName', 'Rows', 'SOPClassUID', 'SOPInstanceUID',\n",
      "       'SamplesPerPixel', 'SecondaryCaptureDeviceManufacturer',\n",
      "       'SecondaryCaptureDeviceManufacturerModelName', 'SeriesDescription',\n",
      "       'SeriesInstanceUID', 'SeriesNumber', 'SmallestImagePixelValue',\n",
      "       'SpecificCharacterSet', 'StudyDate', 'StudyID', 'StudyInstanceUID',\n",
      "       'StudyTime'],\n",
      "      dtype='object')\n"
     ]
    }
   ],
   "source": [
    "# 'dicom_cleaned_data' DataFrame'inin sütunlarını yazdırarak mevcut sütunları kontrol ediyoruz\n",
    "print(dicom_cleaned_data.columns)"
   ]
  },
  {
   "cell_type": "code",
   "execution_count": 29,
   "id": "35debc6c",
   "metadata": {
    "execution": {
     "iopub.execute_input": "2023-12-19T23:09:43.808242Z",
     "iopub.status.busy": "2023-12-19T23:09:43.807887Z",
     "iopub.status.idle": "2023-12-19T23:09:43.815127Z",
     "shell.execute_reply": "2023-12-19T23:09:43.814404Z"
    },
    "papermill": {
     "duration": 0.037489,
     "end_time": "2023-12-19T23:09:43.817039",
     "exception": false,
     "start_time": "2023-12-19T23:09:43.779550",
     "status": "completed"
    },
    "tags": []
   },
   "outputs": [],
   "source": [
    "dicom_cleaned_data.drop(['PatientBirthDate','AccessionNumber','Columns','ContentDate','ContentTime',\n",
    "                         'PatientSex','PatientBirthDate','ReferringPhysicianName','Rows','SOPClassUID','SOPInstanceUID',\n",
    "                         'StudyDate','StudyID','StudyInstanceUID','StudyTime','InstanceNumber','SeriesInstanceUID','SeriesNumber'\n",
    "                        ],axis =1, inplace=True) "
   ]
  },
  {
   "cell_type": "code",
   "execution_count": 30,
   "id": "3c24b83e",
   "metadata": {
    "execution": {
     "iopub.execute_input": "2023-12-19T23:09:43.871322Z",
     "iopub.status.busy": "2023-12-19T23:09:43.870996Z",
     "iopub.status.idle": "2023-12-19T23:09:43.894593Z",
     "shell.execute_reply": "2023-12-19T23:09:43.893645Z"
    },
    "papermill": {
     "duration": 0.053538,
     "end_time": "2023-12-19T23:09:43.896946",
     "exception": false,
     "start_time": "2023-12-19T23:09:43.843408",
     "status": "completed"
    },
    "tags": []
   },
   "outputs": [
    {
     "name": "stdout",
     "output_type": "stream",
     "text": [
      "<class 'pandas.core.frame.DataFrame'>\n",
      "RangeIndex: 10237 entries, 0 to 10236\n",
      "Data columns (total 21 columns):\n",
      " #   Column                                       Non-Null Count  Dtype \n",
      "---  ------                                       --------------  ----- \n",
      " 0   file_path                                    10237 non-null  object\n",
      " 1   image_path                                   10237 non-null  object\n",
      " 2   BitsAllocated                                10237 non-null  int64 \n",
      " 3   BitsStored                                   10237 non-null  int64 \n",
      " 4   BodyPartExamined                             10237 non-null  object\n",
      " 5   ConversionType                               10237 non-null  object\n",
      " 6   HighBit                                      10237 non-null  int64 \n",
      " 7   LargestImagePixelValue                       10237 non-null  int64 \n",
      " 8   Laterality                                   9671 non-null   object\n",
      " 9   Modality                                     10237 non-null  object\n",
      " 10  PatientID                                    10237 non-null  object\n",
      " 11  PatientName                                  10237 non-null  object\n",
      " 12  PatientOrientation                           10237 non-null  object\n",
      " 13  PhotometricInterpretation                    10237 non-null  object\n",
      " 14  PixelRepresentation                          10237 non-null  int64 \n",
      " 15  SamplesPerPixel                              10237 non-null  int64 \n",
      " 16  SecondaryCaptureDeviceManufacturer           10237 non-null  object\n",
      " 17  SecondaryCaptureDeviceManufacturerModelName  10237 non-null  object\n",
      " 18  SeriesDescription                            9671 non-null   object\n",
      " 19  SmallestImagePixelValue                      10237 non-null  int64 \n",
      " 20  SpecificCharacterSet                         10237 non-null  object\n",
      "dtypes: int64(7), object(14)\n",
      "memory usage: 1.6+ MB\n"
     ]
    }
   ],
   "source": [
    "dicom_cleaned_data.info()"
   ]
  },
  {
   "cell_type": "code",
   "execution_count": 31,
   "id": "520ff9bc",
   "metadata": {
    "execution": {
     "iopub.execute_input": "2023-12-19T23:09:43.951695Z",
     "iopub.status.busy": "2023-12-19T23:09:43.951375Z",
     "iopub.status.idle": "2023-12-19T23:09:43.971850Z",
     "shell.execute_reply": "2023-12-19T23:09:43.971019Z"
    },
    "papermill": {
     "duration": 0.049943,
     "end_time": "2023-12-19T23:09:43.973707",
     "exception": false,
     "start_time": "2023-12-19T23:09:43.923764",
     "status": "completed"
    },
    "tags": []
   },
   "outputs": [
    {
     "data": {
      "text/plain": [
       "file_path                                        0\n",
       "image_path                                       0\n",
       "BitsAllocated                                    0\n",
       "BitsStored                                       0\n",
       "BodyPartExamined                                 0\n",
       "ConversionType                                   0\n",
       "HighBit                                          0\n",
       "LargestImagePixelValue                           0\n",
       "Laterality                                     566\n",
       "Modality                                         0\n",
       "PatientID                                        0\n",
       "PatientName                                      0\n",
       "PatientOrientation                               0\n",
       "PhotometricInterpretation                        0\n",
       "PixelRepresentation                              0\n",
       "SamplesPerPixel                                  0\n",
       "SecondaryCaptureDeviceManufacturer               0\n",
       "SecondaryCaptureDeviceManufacturerModelName      0\n",
       "SeriesDescription                              566\n",
       "SmallestImagePixelValue                          0\n",
       "SpecificCharacterSet                             0\n",
       "dtype: int64"
      ]
     },
     "execution_count": 31,
     "metadata": {},
     "output_type": "execute_result"
    }
   ],
   "source": [
    "dicom_cleaned_data.isna().sum()"
   ]
  },
  {
   "cell_type": "code",
   "execution_count": 32,
   "id": "322cc69f",
   "metadata": {
    "execution": {
     "iopub.execute_input": "2023-12-19T23:09:44.028684Z",
     "iopub.status.busy": "2023-12-19T23:09:44.028369Z",
     "iopub.status.idle": "2023-12-19T23:09:44.059974Z",
     "shell.execute_reply": "2023-12-19T23:09:44.059058Z"
    },
    "papermill": {
     "duration": 0.061442,
     "end_time": "2023-12-19T23:09:44.062091",
     "exception": false,
     "start_time": "2023-12-19T23:09:44.000649",
     "status": "completed"
    },
    "tags": []
   },
   "outputs": [
    {
     "name": "stderr",
     "output_type": "stream",
     "text": [
      "/tmp/ipykernel_25/2462094405.py:2: FutureWarning: Series.fillna with 'method' is deprecated and will raise in a future version. Use obj.ffill() or obj.bfill() instead.\n",
      "  dicom_cleaned_data['SeriesDescription'].fillna(method = 'bfill', axis = 0, inplace=True)\n",
      "/tmp/ipykernel_25/2462094405.py:3: FutureWarning: Series.fillna with 'method' is deprecated and will raise in a future version. Use obj.ffill() or obj.bfill() instead.\n",
      "  dicom_cleaned_data['Laterality'].fillna(method = 'bfill', axis = 0, inplace=True)\n"
     ]
    },
    {
     "data": {
      "text/plain": [
       "file_path                                      0\n",
       "image_path                                     0\n",
       "BitsAllocated                                  0\n",
       "BitsStored                                     0\n",
       "BodyPartExamined                               0\n",
       "ConversionType                                 0\n",
       "HighBit                                        0\n",
       "LargestImagePixelValue                         0\n",
       "Laterality                                     0\n",
       "Modality                                       0\n",
       "PatientID                                      0\n",
       "PatientName                                    0\n",
       "PatientOrientation                             0\n",
       "PhotometricInterpretation                      0\n",
       "PixelRepresentation                            0\n",
       "SamplesPerPixel                                0\n",
       "SecondaryCaptureDeviceManufacturer             0\n",
       "SecondaryCaptureDeviceManufacturerModelName    0\n",
       "SeriesDescription                              0\n",
       "SmallestImagePixelValue                        0\n",
       "SpecificCharacterSet                           0\n",
       "dtype: int64"
      ]
     },
     "execution_count": 32,
     "metadata": {},
     "output_type": "execute_result"
    }
   ],
   "source": [
    "dicom_cleaned_data['SeriesDescription'].fillna(method = 'bfill', axis = 0, inplace=True)\n",
    "dicom_cleaned_data['Laterality'].fillna(method = 'bfill', axis = 0, inplace=True)\n",
    "dicom_cleaned_data.isna().sum()"
   ]
  },
  {
   "cell_type": "code",
   "execution_count": 33,
   "id": "2e6cf849",
   "metadata": {
    "execution": {
     "iopub.execute_input": "2023-12-19T23:09:44.118853Z",
     "iopub.status.busy": "2023-12-19T23:09:44.118529Z",
     "iopub.status.idle": "2023-12-19T23:09:44.134739Z",
     "shell.execute_reply": "2023-12-19T23:09:44.134028Z"
    },
    "papermill": {
     "duration": 0.046716,
     "end_time": "2023-12-19T23:09:44.136648",
     "exception": false,
     "start_time": "2023-12-19T23:09:44.089932",
     "status": "completed"
    },
    "tags": []
   },
   "outputs": [],
   "source": [
    "Data_cleaning_1 = calc_case_df.copy()\n",
    "# Aşağıdaki satırlarda isim değişikliği yapılmıştır.\n",
    "Data_cleaning_1 = Data_cleaning_1.rename(columns={'calc type':'calc_type'})\n",
    "Data_cleaning_1 = Data_cleaning_1.rename(columns={'calc distribution':'calc_distribution'})\n",
    "Data_cleaning_1 = Data_cleaning_1.rename(columns={'image view':'image_view'}) \n",
    "Data_cleaning_1 = Data_cleaning_1.rename(columns={'left or right breast':'left_or_right_breast'})\n",
    "Data_cleaning_1 = Data_cleaning_1.rename(columns={'breast density':'breast_density'})\n",
    "Data_cleaning_1 = Data_cleaning_1.rename(columns={'abnormality type':'abnormality_type'})\n",
    "\n",
    "# Belirtilen sütunlardaki veri tiplerini kategorik tipe dönüştürür.\n",
    "Data_cleaning_1['pathology'] = Data_cleaning_1['pathology'].astype('category')\n",
    "Data_cleaning_1['calc_type'] = Data_cleaning_1['calc_type'].astype('category')\n",
    "Data_cleaning_1['calc_distribution'] = Data_cleaning_1['calc_distribution'].astype('category')\n",
    "Data_cleaning_1['abnormality_type'] = Data_cleaning_1['abnormality_type'].astype('category')\n",
    "Data_cleaning_1['image_view'] = Data_cleaning_1['image_view'].astype('category')\n",
    "Data_cleaning_1['left_or_right_breast'] = Data_cleaning_1['left_or_right_breast'].astype('category')"
   ]
  },
  {
   "cell_type": "code",
   "execution_count": 34,
   "id": "f55a6bd4",
   "metadata": {
    "execution": {
     "iopub.execute_input": "2023-12-19T23:09:44.193768Z",
     "iopub.status.busy": "2023-12-19T23:09:44.193431Z",
     "iopub.status.idle": "2023-12-19T23:09:44.201695Z",
     "shell.execute_reply": "2023-12-19T23:09:44.200840Z"
    },
    "papermill": {
     "duration": 0.039887,
     "end_time": "2023-12-19T23:09:44.203957",
     "exception": false,
     "start_time": "2023-12-19T23:09:44.164070",
     "status": "completed"
    },
    "tags": []
   },
   "outputs": [
    {
     "data": {
      "text/plain": [
       "patient_id                   0\n",
       "breast_density               0\n",
       "left_or_right_breast         0\n",
       "image_view                   0\n",
       "abnormality id               0\n",
       "abnormality_type             0\n",
       "calc_type                   20\n",
       "calc_distribution          376\n",
       "assessment                   0\n",
       "pathology                    0\n",
       "subtlety                     0\n",
       "image file path              0\n",
       "cropped image file path      0\n",
       "ROI mask file path           0\n",
       "dtype: int64"
      ]
     },
     "execution_count": 34,
     "metadata": {},
     "output_type": "execute_result"
    }
   ],
   "source": [
    "Data_cleaning_1.isna().sum()"
   ]
  },
  {
   "cell_type": "code",
   "execution_count": 35,
   "id": "4ebe6792",
   "metadata": {
    "execution": {
     "iopub.execute_input": "2023-12-19T23:09:44.260658Z",
     "iopub.status.busy": "2023-12-19T23:09:44.260301Z",
     "iopub.status.idle": "2023-12-19T23:09:44.274098Z",
     "shell.execute_reply": "2023-12-19T23:09:44.272983Z"
    },
    "papermill": {
     "duration": 0.04512,
     "end_time": "2023-12-19T23:09:44.277284",
     "exception": false,
     "start_time": "2023-12-19T23:09:44.232164",
     "status": "completed"
    },
    "tags": []
   },
   "outputs": [
    {
     "name": "stderr",
     "output_type": "stream",
     "text": [
      "/tmp/ipykernel_25/1617648140.py:2: FutureWarning: Series.fillna with 'method' is deprecated and will raise in a future version. Use obj.ffill() or obj.bfill() instead.\n",
      "  Data_cleaning_1['calc_type'].fillna(method = 'bfill', axis = 0, inplace=True)\n",
      "/tmp/ipykernel_25/1617648140.py:3: FutureWarning: Series.fillna with 'method' is deprecated and will raise in a future version. Use obj.ffill() or obj.bfill() instead.\n",
      "  Data_cleaning_1['calc_distribution'].fillna(method = 'bfill', axis = 0, inplace=True)\n"
     ]
    },
    {
     "data": {
      "text/plain": [
       "patient_id                 0\n",
       "breast_density             0\n",
       "left_or_right_breast       0\n",
       "image_view                 0\n",
       "abnormality id             0\n",
       "abnormality_type           0\n",
       "calc_type                  0\n",
       "calc_distribution          0\n",
       "assessment                 0\n",
       "pathology                  0\n",
       "subtlety                   0\n",
       "image file path            0\n",
       "cropped image file path    0\n",
       "ROI mask file path         0\n",
       "dtype: int64"
      ]
     },
     "execution_count": 35,
     "metadata": {},
     "output_type": "execute_result"
    }
   ],
   "source": [
    "Data_cleaning_1['calc_type'].fillna(method = 'bfill', axis = 0, inplace=True) \n",
    "Data_cleaning_1['calc_distribution'].fillna(method = 'bfill', axis = 0, inplace=True)\n",
    "Data_cleaning_1.isna().sum()"
   ]
  },
  {
   "cell_type": "code",
   "execution_count": 36,
   "id": "20a3cf04",
   "metadata": {
    "execution": {
     "iopub.execute_input": "2023-12-19T23:09:44.334948Z",
     "iopub.status.busy": "2023-12-19T23:09:44.334288Z",
     "iopub.status.idle": "2023-12-19T23:09:44.351624Z",
     "shell.execute_reply": "2023-12-19T23:09:44.350465Z"
    },
    "papermill": {
     "duration": 0.048078,
     "end_time": "2023-12-19T23:09:44.353888",
     "exception": false,
     "start_time": "2023-12-19T23:09:44.305810",
     "status": "completed"
    },
    "tags": []
   },
   "outputs": [
    {
     "name": "stdout",
     "output_type": "stream",
     "text": [
      "<class 'pandas.core.frame.DataFrame'>\n",
      "RangeIndex: 1546 entries, 0 to 1545\n",
      "Data columns (total 14 columns):\n",
      " #   Column                   Non-Null Count  Dtype   \n",
      "---  ------                   --------------  -----   \n",
      " 0   patient_id               1546 non-null   object  \n",
      " 1   breast_density           1546 non-null   int64   \n",
      " 2   left_or_right_breast     1546 non-null   category\n",
      " 3   image_view               1546 non-null   category\n",
      " 4   abnormality id           1546 non-null   int64   \n",
      " 5   abnormality_type         1546 non-null   category\n",
      " 6   calc_type                1546 non-null   category\n",
      " 7   calc_distribution        1546 non-null   category\n",
      " 8   assessment               1546 non-null   int64   \n",
      " 9   pathology                1546 non-null   category\n",
      " 10  subtlety                 1546 non-null   int64   \n",
      " 11  image file path          1546 non-null   object  \n",
      " 12  cropped image file path  1546 non-null   object  \n",
      " 13  ROI mask file path       1546 non-null   object  \n",
      "dtypes: category(6), int64(4), object(4)\n",
      "memory usage: 108.1+ KB\n"
     ]
    }
   ],
   "source": [
    "Data_cleaning_1.info()"
   ]
  },
  {
   "cell_type": "code",
   "execution_count": 37,
   "id": "aebce67f",
   "metadata": {
    "execution": {
     "iopub.execute_input": "2023-12-19T23:09:44.412197Z",
     "iopub.status.busy": "2023-12-19T23:09:44.411542Z",
     "iopub.status.idle": "2023-12-19T23:09:44.432941Z",
     "shell.execute_reply": "2023-12-19T23:09:44.432058Z"
    },
    "papermill": {
     "duration": 0.051868,
     "end_time": "2023-12-19T23:09:44.435081",
     "exception": false,
     "start_time": "2023-12-19T23:09:44.383213",
     "status": "completed"
    },
    "tags": []
   },
   "outputs": [
    {
     "data": {
      "text/plain": [
       "patient_id                  0\n",
       "breast_density              0\n",
       "left_or_right_breast        0\n",
       "image_view                  0\n",
       "abnormality id              0\n",
       "abnormality_type            0\n",
       "mass_shape                  4\n",
       "mass_margins               43\n",
       "assessment                  0\n",
       "pathology                   0\n",
       "subtlety                    0\n",
       "image file path             0\n",
       "cropped image file path     0\n",
       "ROI mask file path          0\n",
       "dtype: int64"
      ]
     },
     "execution_count": 37,
     "metadata": {},
     "output_type": "execute_result"
    }
   ],
   "source": [
    "Data_cleaning_2 = mass_case_df.copy()\n",
    "Data_cleaning_2 = Data_cleaning_2.rename(columns={'mass shape':'mass_shape'})\n",
    "Data_cleaning_2 = Data_cleaning_2.rename(columns={'left or right breast':'left_or_right_breast'})\n",
    "Data_cleaning_2 = Data_cleaning_2.rename(columns={'mass margins':'mass_margins'})\n",
    "Data_cleaning_2 = Data_cleaning_2.rename(columns={'image view':'image_view'})\n",
    "Data_cleaning_2 = Data_cleaning_2.rename(columns={'abnormality type':'abnormality_type'})\n",
    "\n",
    "\n",
    "Data_cleaning_2['left_or_right_breast'] = Data_cleaning_2['left_or_right_breast'].astype('category')\n",
    "Data_cleaning_2['image_view'] = Data_cleaning_2['image_view'].astype('category')\n",
    "Data_cleaning_2['mass_margins'] = Data_cleaning_2['mass_margins'].astype('category')\n",
    "Data_cleaning_2['mass_shape'] = Data_cleaning_2['mass_shape'].astype('category')\n",
    "Data_cleaning_2['abnormality_type'] = Data_cleaning_2['abnormality_type'].astype('category')\n",
    "Data_cleaning_2['pathology'] = Data_cleaning_2['pathology'].astype('category')\n",
    "\n",
    "Data_cleaning_2.isna().sum()"
   ]
  },
  {
   "cell_type": "code",
   "execution_count": 38,
   "id": "84cce5da",
   "metadata": {
    "execution": {
     "iopub.execute_input": "2023-12-19T23:09:44.492251Z",
     "iopub.status.busy": "2023-12-19T23:09:44.491925Z",
     "iopub.status.idle": "2023-12-19T23:09:44.503894Z",
     "shell.execute_reply": "2023-12-19T23:09:44.502853Z"
    },
    "papermill": {
     "duration": 0.042881,
     "end_time": "2023-12-19T23:09:44.505951",
     "exception": false,
     "start_time": "2023-12-19T23:09:44.463070",
     "status": "completed"
    },
    "tags": []
   },
   "outputs": [
    {
     "name": "stderr",
     "output_type": "stream",
     "text": [
      "/tmp/ipykernel_25/904955154.py:2: FutureWarning: Series.fillna with 'method' is deprecated and will raise in a future version. Use obj.ffill() or obj.bfill() instead.\n",
      "  Data_cleaning_2['mass_shape'].fillna(method = 'bfill', axis = 0, inplace=True)\n",
      "/tmp/ipykernel_25/904955154.py:3: FutureWarning: Series.fillna with 'method' is deprecated and will raise in a future version. Use obj.ffill() or obj.bfill() instead.\n",
      "  Data_cleaning_2['mass_margins'].fillna(method = 'bfill', axis = 0, inplace=True)\n"
     ]
    },
    {
     "data": {
      "text/plain": [
       "patient_id                 0\n",
       "breast_density             0\n",
       "left_or_right_breast       0\n",
       "image_view                 0\n",
       "abnormality id             0\n",
       "abnormality_type           0\n",
       "mass_shape                 0\n",
       "mass_margins               0\n",
       "assessment                 0\n",
       "pathology                  0\n",
       "subtlety                   0\n",
       "image file path            0\n",
       "cropped image file path    0\n",
       "ROI mask file path         0\n",
       "dtype: int64"
      ]
     },
     "execution_count": 38,
     "metadata": {},
     "output_type": "execute_result"
    }
   ],
   "source": [
    "Data_cleaning_2['mass_shape'].fillna(method = 'bfill', axis = 0, inplace=True) \n",
    "Data_cleaning_2['mass_margins'].fillna(method = 'bfill', axis = 0, inplace=True) \n",
    "Data_cleaning_2.isna().sum()"
   ]
  },
  {
   "cell_type": "code",
   "execution_count": 39,
   "id": "e46f0bf3",
   "metadata": {
    "execution": {
     "iopub.execute_input": "2023-12-19T23:09:44.564083Z",
     "iopub.status.busy": "2023-12-19T23:09:44.563738Z",
     "iopub.status.idle": "2023-12-19T23:09:44.579215Z",
     "shell.execute_reply": "2023-12-19T23:09:44.578090Z"
    },
    "papermill": {
     "duration": 0.046352,
     "end_time": "2023-12-19T23:09:44.581400",
     "exception": false,
     "start_time": "2023-12-19T23:09:44.535048",
     "status": "completed"
    },
    "tags": []
   },
   "outputs": [
    {
     "name": "stdout",
     "output_type": "stream",
     "text": [
      "<class 'pandas.core.frame.DataFrame'>\n",
      "RangeIndex: 1318 entries, 0 to 1317\n",
      "Data columns (total 14 columns):\n",
      " #   Column                   Non-Null Count  Dtype   \n",
      "---  ------                   --------------  -----   \n",
      " 0   patient_id               1318 non-null   object  \n",
      " 1   breast_density           1318 non-null   int64   \n",
      " 2   left_or_right_breast     1318 non-null   category\n",
      " 3   image_view               1318 non-null   category\n",
      " 4   abnormality id           1318 non-null   int64   \n",
      " 5   abnormality_type         1318 non-null   category\n",
      " 6   mass_shape               1318 non-null   category\n",
      " 7   mass_margins             1318 non-null   category\n",
      " 8   assessment               1318 non-null   int64   \n",
      " 9   pathology                1318 non-null   category\n",
      " 10  subtlety                 1318 non-null   int64   \n",
      " 11  image file path          1318 non-null   object  \n",
      " 12  cropped image file path  1318 non-null   object  \n",
      " 13  ROI mask file path       1318 non-null   object  \n",
      "dtypes: category(6), int64(4), object(4)\n",
      "memory usage: 92.1+ KB\n"
     ]
    }
   ],
   "source": [
    "Data_cleaning_2.info()"
   ]
  },
  {
   "cell_type": "code",
   "execution_count": 40,
   "id": "c330a56a",
   "metadata": {
    "execution": {
     "iopub.execute_input": "2023-12-19T23:09:44.639144Z",
     "iopub.status.busy": "2023-12-19T23:09:44.638817Z",
     "iopub.status.idle": "2023-12-19T23:09:44.662200Z",
     "shell.execute_reply": "2023-12-19T23:09:44.661173Z"
    },
    "papermill": {
     "duration": 0.054468,
     "end_time": "2023-12-19T23:09:44.664329",
     "exception": false,
     "start_time": "2023-12-19T23:09:44.609861",
     "status": "completed"
    },
    "tags": []
   },
   "outputs": [
    {
     "name": "stdout",
     "output_type": "stream",
     "text": [
      "There are 326 rows and 14 columns\n"
     ]
    }
   ],
   "source": [
    "nRowsRead = 1000 # specify 'None' if want to read whole file\n",
    "# calc_case_description_test_set.csv may have more rows in reality, but we are only loading/previewing the first 1000 rows\n",
    "df1 = pd.read_csv('/kaggle/input/cbis-ddsm-breast-cancer-image-dataset/csv/calc_case_description_test_set.csv', delimiter=',', nrows = nRowsRead)\n",
    "df1.dataframeName = 'calc_case_description_test_set.csv'\n",
    "nRow, nCol = df1.shape\n",
    "print(f'There are {nRow} rows and {nCol} columns')"
   ]
  },
  {
   "cell_type": "code",
   "execution_count": 41,
   "id": "e1464c87",
   "metadata": {
    "execution": {
     "iopub.execute_input": "2023-12-19T23:09:44.727075Z",
     "iopub.status.busy": "2023-12-19T23:09:44.726234Z",
     "iopub.status.idle": "2023-12-19T23:09:46.760466Z",
     "shell.execute_reply": "2023-12-19T23:09:46.759561Z"
    },
    "papermill": {
     "duration": 2.069071,
     "end_time": "2023-12-19T23:09:46.762618",
     "exception": false,
     "start_time": "2023-12-19T23:09:44.693547",
     "status": "completed"
    },
    "tags": []
   },
   "outputs": [
    {
     "data": {
      "image/png": "[encoded data removed]",
      "text/plain": [
       "<Figure size 640x640 with 2 Axes>"
      ]
     },
     "metadata": {},
     "output_type": "display_data"
    },
    {
     "name": "stdout",
     "output_type": "stream",
     "text": [
      "calc_case_description_test_csv\n"
     ]
    },
    {
     "data": {
      "image/png": "[encoded data removed]",
      "text/plain": [
       "<Figure size 2400x1920 with 10 Axes>"
      ]
     },
     "metadata": {},
     "output_type": "display_data"
    }
   ],
   "source": [
    "import matplotlib.pyplot as plt\n",
    "import numpy as np  \n",
    "\n",
    "def plotCorrelationMatrix(df, graphWidth):\n",
    "    filename = df.dataframeName\n",
    "    \n",
    "    numeric_df = df.select_dtypes(include=['float64', 'int64'])\n",
    "    \n",
    "    numeric_df = numeric_df.dropna(axis='columns')\n",
    "    \n",
    "    if numeric_df.shape[1] < 2:\n",
    "        print(f'No correlation plots shown: The number of non-NaN or constant columns ({numeric_df.shape[1]}) is less than 2')\n",
    "        return\n",
    "    \n",
    "    corr = numeric_df.corr()\n",
    "    \n",
    "    plt.figure(num=None, figsize=(graphWidth, graphWidth), dpi=80, facecolor='w', edgecolor='k')\n",
    "    corrMat = plt.matshow(corr, fignum=1)\n",
    "    plt.xticks(range(len(corr.columns)), corr.columns, rotation=90)\n",
    "    plt.yticks(range(len(corr.columns)), corr.columns)\n",
    "    plt.gca().xaxis.tick_bottom()\n",
    "    plt.colorbar(corrMat)\n",
    "    plt.title(f'Correlation Matrix for {filename}', fontsize=15)\n",
    "    plt.show()\n",
    "\n",
    "\n",
    "def plotPerColumnDistribution(df, nGraphShown, nGraphPerRow):\n",
    "    nRow, nCol = df.shape\n",
    "    columnNames = list(df)\n",
    "    nGraphRow = int(np.ceil(nCol / nGraphPerRow))\n",
    "    \n",
    "    plt.figure(num=None, figsize=(6 * nGraphPerRow, 8 * nGraphRow), dpi=80, facecolor='w', edgecolor='k')\n",
    "    plt.tight_layout(pad=1.0, w_pad=1.0, h_pad=1.0)\n",
    "    \n",
    "    for i in range(min(nCol, nGraphShown)):\n",
    "        plt.subplot(nGraphRow, nGraphPerRow, i + 1)\n",
    "        columnDf = df.iloc[:, i]\n",
    "        if not np.issubdtype(type(columnDf.iloc[0]), np.number):\n",
    "            continue  # Sayısal olmayan sütunları atla\n",
    "        columnDf.hist()\n",
    "        plt.title(f'{columnNames[i]} (column {i})')\n",
    "    \n",
    "    plt.show()\n",
    "\n",
    "plotCorrelationMatrix(df1, 8)\n",
    "print(\"calc_case_description_test_csv\")\n",
    "plotPerColumnDistribution(df1, 10, 5)"
   ]
  },
  {
   "cell_type": "code",
   "execution_count": 42,
   "id": "d9a31718",
   "metadata": {
    "execution": {
     "iopub.execute_input": "2023-12-19T23:09:46.823878Z",
     "iopub.status.busy": "2023-12-19T23:09:46.823000Z",
     "iopub.status.idle": "2023-12-19T23:09:48.729096Z",
     "shell.execute_reply": "2023-12-19T23:09:48.728158Z"
    },
    "papermill": {
     "duration": 1.939679,
     "end_time": "2023-12-19T23:09:48.731658",
     "exception": false,
     "start_time": "2023-12-19T23:09:46.791979",
     "status": "completed"
    },
    "tags": []
   },
   "outputs": [
    {
     "name": "stdout",
     "output_type": "stream",
     "text": [
      "There are 1000 rows and 14 columns\n"
     ]
    },
    {
     "data": {
      "image/png": "[encoded data removed]",
      "text/plain": [
       "<Figure size 640x640 with 2 Axes>"
      ]
     },
     "metadata": {},
     "output_type": "display_data"
    },
    {
     "name": "stdout",
     "output_type": "stream",
     "text": [
      "mass_case_description_train_csv\n"
     ]
    },
    {
     "data": {
      "image/png": "[encoded data removed]",
      "text/plain": [
       "<Figure size 2400x1920 with 10 Axes>"
      ]
     },
     "metadata": {},
     "output_type": "display_data"
    }
   ],
   "source": [
    "nRowsRead = 1000 \n",
    "df3 = pd.read_csv('/kaggle/input/cbis-ddsm-breast-cancer-image-dataset/csv/mass_case_description_train_set.csv', delimiter=',', nrows = nRowsRead)\n",
    "df3.dataframeName = 'mass_case_description_train_set.csv'\n",
    "nRow, nCol = df3.shape\n",
    "print(f'There are {nRow} rows and {nCol} columns')\n",
    "plotCorrelationMatrix(df3, 8)\n",
    "print(\"mass_case_description_train_csv\")\n",
    "plotPerColumnDistribution(df3, 10, 5)"
   ]
  },
  {
   "cell_type": "markdown",
   "id": "a6d93d83",
   "metadata": {
    "papermill": {
     "duration": 0.032319,
     "end_time": "2023-12-19T23:09:48.797171",
     "exception": false,
     "start_time": "2023-12-19T23:09:48.764852",
     "status": "completed"
    },
    "tags": []
   },
   "source": [
    "# **Data Visualization**"
   ]
  },
  {
   "cell_type": "code",
   "execution_count": 43,
   "id": "a65b9d09",
   "metadata": {
    "_kg_hide-input": true,
    "execution": {
     "iopub.execute_input": "2023-12-19T23:09:48.860464Z",
     "iopub.status.busy": "2023-12-19T23:09:48.860096Z",
     "iopub.status.idle": "2023-12-19T23:14:21.520901Z",
     "shell.execute_reply": "2023-12-19T23:14:21.519935Z"
    },
    "papermill": {
     "duration": 272.72633,
     "end_time": "2023-12-19T23:14:21.554287",
     "exception": false,
     "start_time": "2023-12-19T23:09:48.827957",
     "status": "completed"
    },
    "tags": []
   },
   "outputs": [
    {
     "name": "stdout",
     "output_type": "stream",
     "text": [
      "../input/breast-histopathology-images/IDC_regular_ps50_idx5/10295/0/10295_idx5_x1351_y1101_class0.png\n",
      "../input/breast-histopathology-images/IDC_regular_ps50_idx5/10295/0/10295_idx5_x1501_y501_class0.png\n",
      "../input/breast-histopathology-images/IDC_regular_ps50_idx5/10295/0/10295_idx5_x1501_y1101_class0.png\n"
     ]
    }
   ],
   "source": [
    "#breast_img = glob.glob('../input/breast-histopathology-images/IDC_regular_ps50_idx5/**/*.png', recursive = True)\n",
    "\n",
    "#for imgname in breast_img[:3]:\n",
    " #   print(imgname)\n",
    "    \n",
    "base_directory = '../input/breast-histopathology-images/IDC_regular_ps50_idx5/'\n",
    "\n",
    "breast_img = []\n",
    "\n",
    "subdirectories = [f.path for f in os.scandir(base_directory) if f.is_dir()]\n",
    "\n",
    "for subdirectory in subdirectories:\n",
    "    for root, dirs, files in os.walk(subdirectory):\n",
    "        for file in files:\n",
    "            if file.endswith(\".png\"):\n",
    "                file_path = os.path.join(root, file)\n",
    "                breast_img.append(file_path)\n",
    "\n",
    "for imgname in breast_img[:3]:\n",
    "    print(imgname)\n"
   ]
  },
  {
   "cell_type": "code",
   "execution_count": 44,
   "id": "2ae22410",
   "metadata": {
    "execution": {
     "iopub.execute_input": "2023-12-19T23:14:21.618561Z",
     "iopub.status.busy": "2023-12-19T23:14:21.617709Z",
     "iopub.status.idle": "2023-12-19T23:14:21.693466Z",
     "shell.execute_reply": "2023-12-19T23:14:21.692353Z"
    },
    "papermill": {
     "duration": 0.111266,
     "end_time": "2023-12-19T23:14:21.696334",
     "exception": false,
     "start_time": "2023-12-19T23:14:21.585068",
     "status": "completed"
    },
    "tags": []
   },
   "outputs": [
    {
     "name": "stdout",
     "output_type": "stream",
     "text": [
      "Number of Images of no cancer: 198738\n",
      "Number of Images of cancer : 78786\n",
      "Total Number of Images : 277524\n"
     ]
    }
   ],
   "source": [
    "non_can_img = [] \n",
    "can_img = []\n",
    "for img in breast_img:\n",
    "    if img[-5] == '0' :\n",
    "        non_can_img.append(img)\n",
    "    \n",
    "    elif img[-5] == '1' :\n",
    "        can_img.append(img)\n",
    "        \n",
    "        \n",
    "non_can_num = len(non_can_img)  # No cancer\n",
    "can_num = len(can_img)   # Cancer \n",
    "        \n",
    "total_img_num = non_can_num + can_num\n",
    "        \n",
    "print('Number of Images of no cancer: {}' .format(non_can_num))   # images of Non cancer\n",
    "print('Number of Images of cancer : {}' .format(can_num))   # images of cancer \n",
    "print('Total Number of Images : {}' .format(total_img_num))"
   ]
  },
  {
   "cell_type": "code",
   "execution_count": 45,
   "id": "8dd95fcd",
   "metadata": {
    "execution": {
     "iopub.execute_input": "2023-12-19T23:14:21.759600Z",
     "iopub.status.busy": "2023-12-19T23:14:21.759225Z",
     "iopub.status.idle": "2023-12-19T23:14:23.381011Z",
     "shell.execute_reply": "2023-12-19T23:14:23.380000Z"
    },
    "papermill": {
     "duration": 1.655616,
     "end_time": "2023-12-19T23:14:23.383184",
     "exception": false,
     "start_time": "2023-12-19T23:14:21.727568",
     "status": "completed"
    },
    "tags": []
   },
   "outputs": [
    {
     "data": {
      "text/html": [
       "        <script type=\"text/javascript\">\n",
       "        window.PlotlyConfig = {MathJaxConfig: 'local'};\n",
       "        if (window.MathJax && window.MathJax.Hub && window.MathJax.Hub.Config) {window.MathJax.Hub.Config({SVG: {font: \"STIX-Web\"}});}\n",
       "        if (typeof require !== 'undefined') {\n",
       "        require.undef(\"plotly\");\n",
       "        requirejs.config({\n",
       "            paths: {\n",
       "                'plotly': ['https://cdn.plot.ly/plotly-2.25.2.min']\n",
       "            }\n",
       "        });\n",
       "        require(['plotly'], function(Plotly) {\n",
       "            window._Plotly = Plotly;\n",
       "        });\n",
       "        }\n",
       "        </script>\n",
       "        "
      ]
     },
     "metadata": {},
     "output_type": "display_data"
    },
    {
     "data": {
      "text/html": [
       "<div>                            <div id=\"eef55953-7a92-4449-ad34-0953f550f1ec\" class=\"plotly-graph-div\" style=\"height:525px; width:100%;\"></div>            <script type=\"text/javascript\">                require([\"plotly\"], function(Plotly) {                    window.PLOTLYENV=window.PLOTLYENV || {};                                    if (document.getElementById(\"eef55953-7a92-4449-ad34-0953f550f1ec\")) {                    Plotly.newPlot(                        \"eef55953-7a92-4449-ad34-0953f550f1ec\",                        [{\"alignmentgroup\":\"True\",\"hovertemplate\":\"state of cancer=%{x}\\u003cbr\\u003eNumbers of Patients=%{y}\\u003cextra\\u003e\\u003c\\u002fextra\\u003e\",\"legendgroup\":\"0\",\"marker\":{\"color\":\"#636efa\",\"pattern\":{\"shape\":\"\"}},\"name\":\"0\",\"offsetgroup\":\"0\",\"orientation\":\"v\",\"showlegend\":true,\"textposition\":\"auto\",\"x\":[\"0\"],\"xaxis\":\"x\",\"y\":[198738],\"yaxis\":\"y\",\"type\":\"bar\"},{\"alignmentgroup\":\"True\",\"hovertemplate\":\"state of cancer=%{x}\\u003cbr\\u003eNumbers of Patients=%{y}\\u003cextra\\u003e\\u003c\\u002fextra\\u003e\",\"legendgroup\":\"1\",\"marker\":{\"color\":\"#EF553B\",\"pattern\":{\"shape\":\"\"}},\"name\":\"1\",\"offsetgroup\":\"1\",\"orientation\":\"v\",\"showlegend\":true,\"textposition\":\"auto\",\"x\":[\"1\"],\"xaxis\":\"x\",\"y\":[78786],\"yaxis\":\"y\",\"type\":\"bar\"}],                        {\"template\":{\"data\":{\"histogram2dcontour\":[{\"type\":\"histogram2dcontour\",\"colorbar\":{\"outlinewidth\":0,\"ticks\":\"\"},\"colorscale\":[[0.0,\"#0d0887\"],[0.1111111111111111,\"#46039f\"],[0.2222222222222222,\"#7201a8\"],[0.3333333333333333,\"#9c179e\"],[0.4444444444444444,\"#bd3786\"],[0.5555555555555556,\"#d8576b\"],[0.6666666666666666,\"#ed7953\"],[0.7777777777777778,\"#fb9f3a\"],[0.8888888888888888,\"#fdca26\"],[1.0,\"#f0f921\"]]}],\"choropleth\":[{\"type\":\"choropleth\",\"colorbar\":{\"outlinewidth\":0,\"ticks\":\"\"}}],\"histogram2d\":[{\"type\":\"histogram2d\",\"colorbar\":{\"outlinewidth\":0,\"ticks\":\"\"},\"colorscale\":[[0.0,\"#0d0887\"],[0.1111111111111111,\"#46039f\"],[0.2222222222222222,\"#7201a8\"],[0.3333333333333333,\"#9c179e\"],[0.4444444444444444,\"#bd3786\"],[0.5555555555555556,\"#d8576b\"],[0.6666666666666666,\"#ed7953\"],[0.7777777777777778,\"#fb9f3a\"],[0.8888888888888888,\"#fdca26\"],[1.0,\"#f0f921\"]]}],\"heatmap\":[{\"type\":\"heatmap\",\"colorbar\":{\"outlinewidth\":0,\"ticks\":\"\"},\"colorscale\":[[0.0,\"#0d0887\"],[0.1111111111111111,\"#46039f\"],[0.2222222222222222,\"#7201a8\"],[0.3333333333333333,\"#9c179e\"],[0.4444444444444444,\"#bd3786\"],[0.5555555555555556,\"#d8576b\"],[0.6666666666666666,\"#ed7953\"],[0.7777777777777778,\"#fb9f3a\"],[0.8888888888888888,\"#fdca26\"],[1.0,\"#f0f921\"]]}],\"heatmapgl\":[{\"type\":\"heatmapgl\",\"colorbar\":{\"outlinewidth\":0,\"ticks\":\"\"},\"colorscale\":[[0.0,\"#0d0887\"],[0.1111111111111111,\"#46039f\"],[0.2222222222222222,\"#7201a8\"],[0.3333333333333333,\"#9c179e\"],[0.4444444444444444,\"#bd3786\"],[0.5555555555555556,\"#d8576b\"],[0.6666666666666666,\"#ed7953\"],[0.7777777777777778,\"#fb9f3a\"],[0.8888888888888888,\"#fdca26\"],[1.0,\"#f0f921\"]]}],\"contourcarpet\":[{\"type\":\"contourcarpet\",\"colorbar\":{\"outlinewidth\":0,\"ticks\":\"\"}}],\"contour\":[{\"type\":\"contour\",\"colorbar\":{\"outlinewidth\":0,\"ticks\":\"\"},\"colorscale\":[[0.0,\"#0d0887\"],[0.1111111111111111,\"#46039f\"],[0.2222222222222222,\"#7201a8\"],[0.3333333333333333,\"#9c179e\"],[0.4444444444444444,\"#bd3786\"],[0.5555555555555556,\"#d8576b\"],[0.6666666666666666,\"#ed7953\"],[0.7777777777777778,\"#fb9f3a\"],[0.8888888888888888,\"#fdca26\"],[1.0,\"#f0f921\"]]}],\"surface\":[{\"type\":\"surface\",\"colorbar\":{\"outlinewidth\":0,\"ticks\":\"\"},\"colorscale\":[[0.0,\"#0d0887\"],[0.1111111111111111,\"#46039f\"],[0.2222222222222222,\"#7201a8\"],[0.3333333333333333,\"#9c179e\"],[0.4444444444444444,\"#bd3786\"],[0.5555555555555556,\"#d8576b\"],[0.6666666666666666,\"#ed7953\"],[0.7777777777777778,\"#fb9f3a\"],[0.8888888888888888,\"#fdca26\"],[1.0,\"#f0f921\"]]}],\"mesh3d\":[{\"type\":\"mesh3d\",\"colorbar\":{\"outlinewidth\":0,\"ticks\":\"\"}}],\"scatter\":[{\"fillpattern\":{\"fillmode\":\"overlay\",\"size\":10,\"solidity\":0.2},\"type\":\"scatter\"}],\"parcoords\":[{\"type\":\"parcoords\",\"line\":{\"colorbar\":{\"outlinewidth\":0,\"ticks\":\"\"}}}],\"scatterpolargl\":[{\"type\":\"scatterpolargl\",\"marker\":{\"colorbar\":{\"outlinewidth\":0,\"ticks\":\"\"}}}],\"bar\":[{\"error_x\":{\"color\":\"#2a3f5f\"},\"error_y\":{\"color\":\"#2a3f5f\"},\"marker\":{\"line\":{\"color\":\"#E5ECF6\",\"width\":0.5},\"pattern\":{\"fillmode\":\"overlay\",\"size\":10,\"solidity\":0.2}},\"type\":\"bar\"}],\"scattergeo\":[{\"type\":\"scattergeo\",\"marker\":{\"colorbar\":{\"outlinewidth\":0,\"ticks\":\"\"}}}],\"scatterpolar\":[{\"type\":\"scatterpolar\",\"marker\":{\"colorbar\":{\"outlinewidth\":0,\"ticks\":\"\"}}}],\"histogram\":[{\"marker\":{\"pattern\":{\"fillmode\":\"overlay\",\"size\":10,\"solidity\":0.2}},\"type\":\"histogram\"}],\"scattergl\":[{\"type\":\"scattergl\",\"marker\":{\"colorbar\":{\"outlinewidth\":0,\"ticks\":\"\"}}}],\"scatter3d\":[{\"type\":\"scatter3d\",\"line\":{\"colorbar\":{\"outlinewidth\":0,\"ticks\":\"\"}},\"marker\":{\"colorbar\":{\"outlinewidth\":0,\"ticks\":\"\"}}}],\"scattermapbox\":[{\"type\":\"scattermapbox\",\"marker\":{\"colorbar\":{\"outlinewidth\":0,\"ticks\":\"\"}}}],\"scatterternary\":[{\"type\":\"scatterternary\",\"marker\":{\"colorbar\":{\"outlinewidth\":0,\"ticks\":\"\"}}}],\"scattercarpet\":[{\"type\":\"scattercarpet\",\"marker\":{\"colorbar\":{\"outlinewidth\":0,\"ticks\":\"\"}}}],\"carpet\":[{\"aaxis\":{\"endlinecolor\":\"#2a3f5f\",\"gridcolor\":\"white\",\"linecolor\":\"white\",\"minorgridcolor\":\"white\",\"startlinecolor\":\"#2a3f5f\"},\"baxis\":{\"endlinecolor\":\"#2a3f5f\",\"gridcolor\":\"white\",\"linecolor\":\"white\",\"minorgridcolor\":\"white\",\"startlinecolor\":\"#2a3f5f\"},\"type\":\"carpet\"}],\"table\":[{\"cells\":{\"fill\":{\"color\":\"#EBF0F8\"},\"line\":{\"color\":\"white\"}},\"header\":{\"fill\":{\"color\":\"#C8D4E3\"},\"line\":{\"color\":\"white\"}},\"type\":\"table\"}],\"barpolar\":[{\"marker\":{\"line\":{\"color\":\"#E5ECF6\",\"width\":0.5},\"pattern\":{\"fillmode\":\"overlay\",\"size\":10,\"solidity\":0.2}},\"type\":\"barpolar\"}],\"pie\":[{\"automargin\":true,\"type\":\"pie\"}]},\"layout\":{\"autotypenumbers\":\"strict\",\"colorway\":[\"#636efa\",\"#EF553B\",\"#00cc96\",\"#ab63fa\",\"#FFA15A\",\"#19d3f3\",\"#FF6692\",\"#B6E880\",\"#FF97FF\",\"#FECB52\"],\"font\":{\"color\":\"#2a3f5f\"},\"hovermode\":\"closest\",\"hoverlabel\":{\"align\":\"left\"},\"paper_bgcolor\":\"white\",\"plot_bgcolor\":\"#E5ECF6\",\"polar\":{\"bgcolor\":\"#E5ECF6\",\"angularaxis\":{\"gridcolor\":\"white\",\"linecolor\":\"white\",\"ticks\":\"\"},\"radialaxis\":{\"gridcolor\":\"white\",\"linecolor\":\"white\",\"ticks\":\"\"}},\"ternary\":{\"bgcolor\":\"#E5ECF6\",\"aaxis\":{\"gridcolor\":\"white\",\"linecolor\":\"white\",\"ticks\":\"\"},\"baxis\":{\"gridcolor\":\"white\",\"linecolor\":\"white\",\"ticks\":\"\"},\"caxis\":{\"gridcolor\":\"white\",\"linecolor\":\"white\",\"ticks\":\"\"}},\"coloraxis\":{\"colorbar\":{\"outlinewidth\":0,\"ticks\":\"\"}},\"colorscale\":{\"sequential\":[[0.0,\"#0d0887\"],[0.1111111111111111,\"#46039f\"],[0.2222222222222222,\"#7201a8\"],[0.3333333333333333,\"#9c179e\"],[0.4444444444444444,\"#bd3786\"],[0.5555555555555556,\"#d8576b\"],[0.6666666666666666,\"#ed7953\"],[0.7777777777777778,\"#fb9f3a\"],[0.8888888888888888,\"#fdca26\"],[1.0,\"#f0f921\"]],\"sequentialminus\":[[0.0,\"#0d0887\"],[0.1111111111111111,\"#46039f\"],[0.2222222222222222,\"#7201a8\"],[0.3333333333333333,\"#9c179e\"],[0.4444444444444444,\"#bd3786\"],[0.5555555555555556,\"#d8576b\"],[0.6666666666666666,\"#ed7953\"],[0.7777777777777778,\"#fb9f3a\"],[0.8888888888888888,\"#fdca26\"],[1.0,\"#f0f921\"]],\"diverging\":[[0,\"#8e0152\"],[0.1,\"#c51b7d\"],[0.2,\"#de77ae\"],[0.3,\"#f1b6da\"],[0.4,\"#fde0ef\"],[0.5,\"#f7f7f7\"],[0.6,\"#e6f5d0\"],[0.7,\"#b8e186\"],[0.8,\"#7fbc41\"],[0.9,\"#4d9221\"],[1,\"#276419\"]]},\"xaxis\":{\"gridcolor\":\"white\",\"linecolor\":\"white\",\"ticks\":\"\",\"title\":{\"standoff\":15},\"zerolinecolor\":\"white\",\"automargin\":true,\"zerolinewidth\":2},\"yaxis\":{\"gridcolor\":\"white\",\"linecolor\":\"white\",\"ticks\":\"\",\"title\":{\"standoff\":15},\"zerolinecolor\":\"white\",\"automargin\":true,\"zerolinewidth\":2},\"scene\":{\"xaxis\":{\"backgroundcolor\":\"#E5ECF6\",\"gridcolor\":\"white\",\"linecolor\":\"white\",\"showbackground\":true,\"ticks\":\"\",\"zerolinecolor\":\"white\",\"gridwidth\":2},\"yaxis\":{\"backgroundcolor\":\"#E5ECF6\",\"gridcolor\":\"white\",\"linecolor\":\"white\",\"showbackground\":true,\"ticks\":\"\",\"zerolinecolor\":\"white\",\"gridwidth\":2},\"zaxis\":{\"backgroundcolor\":\"#E5ECF6\",\"gridcolor\":\"white\",\"linecolor\":\"white\",\"showbackground\":true,\"ticks\":\"\",\"zerolinecolor\":\"white\",\"gridwidth\":2}},\"shapedefaults\":{\"line\":{\"color\":\"#2a3f5f\"}},\"annotationdefaults\":{\"arrowcolor\":\"#2a3f5f\",\"arrowhead\":0,\"arrowwidth\":1},\"geo\":{\"bgcolor\":\"white\",\"landcolor\":\"#E5ECF6\",\"subunitcolor\":\"white\",\"showland\":true,\"showlakes\":true,\"lakecolor\":\"white\"},\"title\":{\"x\":0.05},\"mapbox\":{\"style\":\"light\"}}},\"xaxis\":{\"anchor\":\"y\",\"domain\":[0.0,1.0],\"title\":{\"text\":\"state of cancer\"},\"categoryorder\":\"array\",\"categoryarray\":[\"0\",\"1\"]},\"yaxis\":{\"anchor\":\"x\",\"domain\":[0.0,1.0],\"title\":{\"text\":\"Numbers of Patients\"}},\"legend\":{\"title\":{\"text\":\"state of cancer\"},\"tracegroupgap\":0},\"margin\":{\"t\":60},\"barmode\":\"relative\",\"title\":{\"text\":\"Number of Patients with cancer (1) and patients with no cancer (0)\",\"x\":0.5}},                        {\"responsive\": true}                    ).then(function(){\n",
       "                            \n",
       "var gd = document.getElementById('eef55953-7a92-4449-ad34-0953f550f1ec');\n",
       "var x = new MutationObserver(function (mutations, observer) {{\n",
       "        var display = window.getComputedStyle(gd).display;\n",
       "        if (!display || display === 'none') {{\n",
       "            console.log([gd, 'removed!']);\n",
       "            Plotly.purge(gd);\n",
       "            observer.disconnect();\n",
       "        }}\n",
       "}});\n",
       "\n",
       "// Listen for the removal of the full notebook cells\n",
       "var notebookContainer = gd.closest('#notebook-container');\n",
       "if (notebookContainer) {{\n",
       "    x.observe(notebookContainer, {childList: true});\n",
       "}}\n",
       "\n",
       "// Listen for the clearing of the current output cell\n",
       "var outputEl = gd.closest('.output');\n",
       "if (outputEl) {{\n",
       "    x.observe(outputEl, {childList: true});\n",
       "}}\n",
       "\n",
       "                        })                };                });            </script>        </div>"
      ]
     },
     "metadata": {},
     "output_type": "display_data"
    }
   ],
   "source": [
    "data_insight_1 = pd.DataFrame({'state of cancer' : ['0','1'],'Numbers of Patients' : [198738,78786]})\n",
    "bar = px.bar(data_frame=data_insight_1, x = 'state of cancer', y='Numbers of Patients', color='state of cancer')\n",
    "bar.update_layout(title_text='Number of Patients with cancer (1) and patients with no cancer (0)', title_x=0.5)\n",
    "bar.show()"
   ]
  },
  {
   "cell_type": "code",
   "execution_count": 46,
   "id": "7bd40eb6",
   "metadata": {
    "execution": {
     "iopub.execute_input": "2023-12-19T23:14:23.451113Z",
     "iopub.status.busy": "2023-12-19T23:14:23.450368Z",
     "iopub.status.idle": "2023-12-19T23:14:23.463534Z",
     "shell.execute_reply": "2023-12-19T23:14:23.462465Z"
    },
    "papermill": {
     "duration": 0.049028,
     "end_time": "2023-12-19T23:14:23.465690",
     "exception": false,
     "start_time": "2023-12-19T23:14:23.416662",
     "status": "completed"
    },
    "tags": []
   },
   "outputs": [
    {
     "data": {
      "text/html": [
       "<div>\n",
       "<style scoped>\n",
       "    .dataframe tbody tr th:only-of-type {\n",
       "        vertical-align: middle;\n",
       "    }\n",
       "\n",
       "    .dataframe tbody tr th {\n",
       "        vertical-align: top;\n",
       "    }\n",
       "\n",
       "    .dataframe thead th {\n",
       "        text-align: right;\n",
       "    }\n",
       "</style>\n",
       "<table border=\"1\" class=\"dataframe\">\n",
       "  <thead>\n",
       "    <tr style=\"text-align: right;\">\n",
       "      <th></th>\n",
       "      <th>SeriesDescription_counts</th>\n",
       "      <th>count</th>\n",
       "    </tr>\n",
       "  </thead>\n",
       "  <tbody>\n",
       "    <tr>\n",
       "      <th>0</th>\n",
       "      <td>cropped images</td>\n",
       "      <td>3859</td>\n",
       "    </tr>\n",
       "    <tr>\n",
       "      <th>1</th>\n",
       "      <td>ROI mask images</td>\n",
       "      <td>3340</td>\n",
       "    </tr>\n",
       "    <tr>\n",
       "      <th>2</th>\n",
       "      <td>full mammogram images</td>\n",
       "      <td>3038</td>\n",
       "    </tr>\n",
       "  </tbody>\n",
       "</table>\n",
       "</div>"
      ],
      "text/plain": [
       "  SeriesDescription_counts  count\n",
       "0           cropped images   3859\n",
       "1          ROI mask images   3340\n",
       "2    full mammogram images   3038"
      ]
     },
     "execution_count": 46,
     "metadata": {},
     "output_type": "execute_result"
    }
   ],
   "source": [
    "r= pd.DataFrame(dicom_cleaned_data['SeriesDescription'].value_counts())\n",
    "r= r.reset_index()\n",
    "r = r.rename(columns={'SeriesDescription':'SeriesDescription_counts', 'index':'SeriesDescription'})\n",
    "r"
   ]
  },
  {
   "cell_type": "code",
   "execution_count": 47,
   "id": "67766109",
   "metadata": {
    "execution": {
     "iopub.execute_input": "2023-12-19T23:14:23.535391Z",
     "iopub.status.busy": "2023-12-19T23:14:23.534754Z",
     "iopub.status.idle": "2023-12-19T23:14:23.615371Z",
     "shell.execute_reply": "2023-12-19T23:14:23.614464Z"
    },
    "papermill": {
     "duration": 0.117029,
     "end_time": "2023-12-19T23:14:23.617785",
     "exception": false,
     "start_time": "2023-12-19T23:14:23.500756",
     "status": "completed"
    },
    "tags": []
   },
   "outputs": [
    {
     "data": {
      "text/html": [
       "<div>                            <div id=\"d22edc79-e5be-46c6-b21c-b60992e84616\" class=\"plotly-graph-div\" style=\"height:525px; width:100%;\"></div>            <script type=\"text/javascript\">                require([\"plotly\"], function(Plotly) {                    window.PLOTLYENV=window.PLOTLYENV || {};                                    if (document.getElementById(\"d22edc79-e5be-46c6-b21c-b60992e84616\")) {                    Plotly.newPlot(                        \"d22edc79-e5be-46c6-b21c-b60992e84616\",                        [{\"alignmentgroup\":\"True\",\"hovertemplate\":\"SeriesDescription_counts=%{x}\\u003cbr\\u003ecount=%{y}\\u003cextra\\u003e\\u003c\\u002fextra\\u003e\",\"legendgroup\":\"cropped images\",\"marker\":{\"color\":\"#636efa\",\"pattern\":{\"shape\":\"\"}},\"name\":\"cropped images\",\"offsetgroup\":\"cropped images\",\"orientation\":\"v\",\"showlegend\":true,\"textposition\":\"auto\",\"x\":[\"cropped images\"],\"xaxis\":\"x\",\"y\":[3859],\"yaxis\":\"y\",\"type\":\"bar\"},{\"alignmentgroup\":\"True\",\"hovertemplate\":\"SeriesDescription_counts=%{x}\\u003cbr\\u003ecount=%{y}\\u003cextra\\u003e\\u003c\\u002fextra\\u003e\",\"legendgroup\":\"ROI mask images\",\"marker\":{\"color\":\"#EF553B\",\"pattern\":{\"shape\":\"\"}},\"name\":\"ROI mask images\",\"offsetgroup\":\"ROI mask images\",\"orientation\":\"v\",\"showlegend\":true,\"textposition\":\"auto\",\"x\":[\"ROI mask images\"],\"xaxis\":\"x\",\"y\":[3340],\"yaxis\":\"y\",\"type\":\"bar\"},{\"alignmentgroup\":\"True\",\"hovertemplate\":\"SeriesDescription_counts=%{x}\\u003cbr\\u003ecount=%{y}\\u003cextra\\u003e\\u003c\\u002fextra\\u003e\",\"legendgroup\":\"full mammogram images\",\"marker\":{\"color\":\"#00cc96\",\"pattern\":{\"shape\":\"\"}},\"name\":\"full mammogram images\",\"offsetgroup\":\"full mammogram images\",\"orientation\":\"v\",\"showlegend\":true,\"textposition\":\"auto\",\"x\":[\"full mammogram images\"],\"xaxis\":\"x\",\"y\":[3038],\"yaxis\":\"y\",\"type\":\"bar\"}],                        {\"template\":{\"data\":{\"histogram2dcontour\":[{\"type\":\"histogram2dcontour\",\"colorbar\":{\"outlinewidth\":0,\"ticks\":\"\"},\"colorscale\":[[0.0,\"#0d0887\"],[0.1111111111111111,\"#46039f\"],[0.2222222222222222,\"#7201a8\"],[0.3333333333333333,\"#9c179e\"],[0.4444444444444444,\"#bd3786\"],[0.5555555555555556,\"#d8576b\"],[0.6666666666666666,\"#ed7953\"],[0.7777777777777778,\"#fb9f3a\"],[0.8888888888888888,\"#fdca26\"],[1.0,\"#f0f921\"]]}],\"choropleth\":[{\"type\":\"choropleth\",\"colorbar\":{\"outlinewidth\":0,\"ticks\":\"\"}}],\"histogram2d\":[{\"type\":\"histogram2d\",\"colorbar\":{\"outlinewidth\":0,\"ticks\":\"\"},\"colorscale\":[[0.0,\"#0d0887\"],[0.1111111111111111,\"#46039f\"],[0.2222222222222222,\"#7201a8\"],[0.3333333333333333,\"#9c179e\"],[0.4444444444444444,\"#bd3786\"],[0.5555555555555556,\"#d8576b\"],[0.6666666666666666,\"#ed7953\"],[0.7777777777777778,\"#fb9f3a\"],[0.8888888888888888,\"#fdca26\"],[1.0,\"#f0f921\"]]}],\"heatmap\":[{\"type\":\"heatmap\",\"colorbar\":{\"outlinewidth\":0,\"ticks\":\"\"},\"colorscale\":[[0.0,\"#0d0887\"],[0.1111111111111111,\"#46039f\"],[0.2222222222222222,\"#7201a8\"],[0.3333333333333333,\"#9c179e\"],[0.4444444444444444,\"#bd3786\"],[0.5555555555555556,\"#d8576b\"],[0.6666666666666666,\"#ed7953\"],[0.7777777777777778,\"#fb9f3a\"],[0.8888888888888888,\"#fdca26\"],[1.0,\"#f0f921\"]]}],\"heatmapgl\":[{\"type\":\"heatmapgl\",\"colorbar\":{\"outlinewidth\":0,\"ticks\":\"\"},\"colorscale\":[[0.0,\"#0d0887\"],[0.1111111111111111,\"#46039f\"],[0.2222222222222222,\"#7201a8\"],[0.3333333333333333,\"#9c179e\"],[0.4444444444444444,\"#bd3786\"],[0.5555555555555556,\"#d8576b\"],[0.6666666666666666,\"#ed7953\"],[0.7777777777777778,\"#fb9f3a\"],[0.8888888888888888,\"#fdca26\"],[1.0,\"#f0f921\"]]}],\"contourcarpet\":[{\"type\":\"contourcarpet\",\"colorbar\":{\"outlinewidth\":0,\"ticks\":\"\"}}],\"contour\":[{\"type\":\"contour\",\"colorbar\":{\"outlinewidth\":0,\"ticks\":\"\"},\"colorscale\":[[0.0,\"#0d0887\"],[0.1111111111111111,\"#46039f\"],[0.2222222222222222,\"#7201a8\"],[0.3333333333333333,\"#9c179e\"],[0.4444444444444444,\"#bd3786\"],[0.5555555555555556,\"#d8576b\"],[0.6666666666666666,\"#ed7953\"],[0.7777777777777778,\"#fb9f3a\"],[0.8888888888888888,\"#fdca26\"],[1.0,\"#f0f921\"]]}],\"surface\":[{\"type\":\"surface\",\"colorbar\":{\"outlinewidth\":0,\"ticks\":\"\"},\"colorscale\":[[0.0,\"#0d0887\"],[0.1111111111111111,\"#46039f\"],[0.2222222222222222,\"#7201a8\"],[0.3333333333333333,\"#9c179e\"],[0.4444444444444444,\"#bd3786\"],[0.5555555555555556,\"#d8576b\"],[0.6666666666666666,\"#ed7953\"],[0.7777777777777778,\"#fb9f3a\"],[0.8888888888888888,\"#fdca26\"],[1.0,\"#f0f921\"]]}],\"mesh3d\":[{\"type\":\"mesh3d\",\"colorbar\":{\"outlinewidth\":0,\"ticks\":\"\"}}],\"scatter\":[{\"fillpattern\":{\"fillmode\":\"overlay\",\"size\":10,\"solidity\":0.2},\"type\":\"scatter\"}],\"parcoords\":[{\"type\":\"parcoords\",\"line\":{\"colorbar\":{\"outlinewidth\":0,\"ticks\":\"\"}}}],\"scatterpolargl\":[{\"type\":\"scatterpolargl\",\"marker\":{\"colorbar\":{\"outlinewidth\":0,\"ticks\":\"\"}}}],\"bar\":[{\"error_x\":{\"color\":\"#2a3f5f\"},\"error_y\":{\"color\":\"#2a3f5f\"},\"marker\":{\"line\":{\"color\":\"#E5ECF6\",\"width\":0.5},\"pattern\":{\"fillmode\":\"overlay\",\"size\":10,\"solidity\":0.2}},\"type\":\"bar\"}],\"scattergeo\":[{\"type\":\"scattergeo\",\"marker\":{\"colorbar\":{\"outlinewidth\":0,\"ticks\":\"\"}}}],\"scatterpolar\":[{\"type\":\"scatterpolar\",\"marker\":{\"colorbar\":{\"outlinewidth\":0,\"ticks\":\"\"}}}],\"histogram\":[{\"marker\":{\"pattern\":{\"fillmode\":\"overlay\",\"size\":10,\"solidity\":0.2}},\"type\":\"histogram\"}],\"scattergl\":[{\"type\":\"scattergl\",\"marker\":{\"colorbar\":{\"outlinewidth\":0,\"ticks\":\"\"}}}],\"scatter3d\":[{\"type\":\"scatter3d\",\"line\":{\"colorbar\":{\"outlinewidth\":0,\"ticks\":\"\"}},\"marker\":{\"colorbar\":{\"outlinewidth\":0,\"ticks\":\"\"}}}],\"scattermapbox\":[{\"type\":\"scattermapbox\",\"marker\":{\"colorbar\":{\"outlinewidth\":0,\"ticks\":\"\"}}}],\"scatterternary\":[{\"type\":\"scatterternary\",\"marker\":{\"colorbar\":{\"outlinewidth\":0,\"ticks\":\"\"}}}],\"scattercarpet\":[{\"type\":\"scattercarpet\",\"marker\":{\"colorbar\":{\"outlinewidth\":0,\"ticks\":\"\"}}}],\"carpet\":[{\"aaxis\":{\"endlinecolor\":\"#2a3f5f\",\"gridcolor\":\"white\",\"linecolor\":\"white\",\"minorgridcolor\":\"white\",\"startlinecolor\":\"#2a3f5f\"},\"baxis\":{\"endlinecolor\":\"#2a3f5f\",\"gridcolor\":\"white\",\"linecolor\":\"white\",\"minorgridcolor\":\"white\",\"startlinecolor\":\"#2a3f5f\"},\"type\":\"carpet\"}],\"table\":[{\"cells\":{\"fill\":{\"color\":\"#EBF0F8\"},\"line\":{\"color\":\"white\"}},\"header\":{\"fill\":{\"color\":\"#C8D4E3\"},\"line\":{\"color\":\"white\"}},\"type\":\"table\"}],\"barpolar\":[{\"marker\":{\"line\":{\"color\":\"#E5ECF6\",\"width\":0.5},\"pattern\":{\"fillmode\":\"overlay\",\"size\":10,\"solidity\":0.2}},\"type\":\"barpolar\"}],\"pie\":[{\"automargin\":true,\"type\":\"pie\"}]},\"layout\":{\"autotypenumbers\":\"strict\",\"colorway\":[\"#636efa\",\"#EF553B\",\"#00cc96\",\"#ab63fa\",\"#FFA15A\",\"#19d3f3\",\"#FF6692\",\"#B6E880\",\"#FF97FF\",\"#FECB52\"],\"font\":{\"color\":\"#2a3f5f\"},\"hovermode\":\"closest\",\"hoverlabel\":{\"align\":\"left\"},\"paper_bgcolor\":\"white\",\"plot_bgcolor\":\"#E5ECF6\",\"polar\":{\"bgcolor\":\"#E5ECF6\",\"angularaxis\":{\"gridcolor\":\"white\",\"linecolor\":\"white\",\"ticks\":\"\"},\"radialaxis\":{\"gridcolor\":\"white\",\"linecolor\":\"white\",\"ticks\":\"\"}},\"ternary\":{\"bgcolor\":\"#E5ECF6\",\"aaxis\":{\"gridcolor\":\"white\",\"linecolor\":\"white\",\"ticks\":\"\"},\"baxis\":{\"gridcolor\":\"white\",\"linecolor\":\"white\",\"ticks\":\"\"},\"caxis\":{\"gridcolor\":\"white\",\"linecolor\":\"white\",\"ticks\":\"\"}},\"coloraxis\":{\"colorbar\":{\"outlinewidth\":0,\"ticks\":\"\"}},\"colorscale\":{\"sequential\":[[0.0,\"#0d0887\"],[0.1111111111111111,\"#46039f\"],[0.2222222222222222,\"#7201a8\"],[0.3333333333333333,\"#9c179e\"],[0.4444444444444444,\"#bd3786\"],[0.5555555555555556,\"#d8576b\"],[0.6666666666666666,\"#ed7953\"],[0.7777777777777778,\"#fb9f3a\"],[0.8888888888888888,\"#fdca26\"],[1.0,\"#f0f921\"]],\"sequentialminus\":[[0.0,\"#0d0887\"],[0.1111111111111111,\"#46039f\"],[0.2222222222222222,\"#7201a8\"],[0.3333333333333333,\"#9c179e\"],[0.4444444444444444,\"#bd3786\"],[0.5555555555555556,\"#d8576b\"],[0.6666666666666666,\"#ed7953\"],[0.7777777777777778,\"#fb9f3a\"],[0.8888888888888888,\"#fdca26\"],[1.0,\"#f0f921\"]],\"diverging\":[[0,\"#8e0152\"],[0.1,\"#c51b7d\"],[0.2,\"#de77ae\"],[0.3,\"#f1b6da\"],[0.4,\"#fde0ef\"],[0.5,\"#f7f7f7\"],[0.6,\"#e6f5d0\"],[0.7,\"#b8e186\"],[0.8,\"#7fbc41\"],[0.9,\"#4d9221\"],[1,\"#276419\"]]},\"xaxis\":{\"gridcolor\":\"white\",\"linecolor\":\"white\",\"ticks\":\"\",\"title\":{\"standoff\":15},\"zerolinecolor\":\"white\",\"automargin\":true,\"zerolinewidth\":2},\"yaxis\":{\"gridcolor\":\"white\",\"linecolor\":\"white\",\"ticks\":\"\",\"title\":{\"standoff\":15},\"zerolinecolor\":\"white\",\"automargin\":true,\"zerolinewidth\":2},\"scene\":{\"xaxis\":{\"backgroundcolor\":\"#E5ECF6\",\"gridcolor\":\"white\",\"linecolor\":\"white\",\"showbackground\":true,\"ticks\":\"\",\"zerolinecolor\":\"white\",\"gridwidth\":2},\"yaxis\":{\"backgroundcolor\":\"#E5ECF6\",\"gridcolor\":\"white\",\"linecolor\":\"white\",\"showbackground\":true,\"ticks\":\"\",\"zerolinecolor\":\"white\",\"gridwidth\":2},\"zaxis\":{\"backgroundcolor\":\"#E5ECF6\",\"gridcolor\":\"white\",\"linecolor\":\"white\",\"showbackground\":true,\"ticks\":\"\",\"zerolinecolor\":\"white\",\"gridwidth\":2}},\"shapedefaults\":{\"line\":{\"color\":\"#2a3f5f\"}},\"annotationdefaults\":{\"arrowcolor\":\"#2a3f5f\",\"arrowhead\":0,\"arrowwidth\":1},\"geo\":{\"bgcolor\":\"white\",\"landcolor\":\"#E5ECF6\",\"subunitcolor\":\"white\",\"showland\":true,\"showlakes\":true,\"lakecolor\":\"white\"},\"title\":{\"x\":0.05},\"mapbox\":{\"style\":\"light\"}}},\"xaxis\":{\"anchor\":\"y\",\"domain\":[0.0,1.0],\"title\":{\"text\":\"SeriesDescription_counts\"},\"categoryorder\":\"array\",\"categoryarray\":[\"cropped images\",\"ROI mask images\",\"full mammogram images\"]},\"yaxis\":{\"anchor\":\"x\",\"domain\":[0.0,1.0],\"title\":{\"text\":\"count\"}},\"legend\":{\"title\":{\"text\":\"SeriesDescription_counts\"},\"tracegroupgap\":0},\"margin\":{\"t\":60},\"barmode\":\"relative\",\"title\":{\"text\":\"Types of images used\",\"x\":0.5}},                        {\"responsive\": true}                    ).then(function(){\n",
       "                            \n",
       "var gd = document.getElementById('d22edc79-e5be-46c6-b21c-b60992e84616');\n",
       "var x = new MutationObserver(function (mutations, observer) {{\n",
       "        var display = window.getComputedStyle(gd).display;\n",
       "        if (!display || display === 'none') {{\n",
       "            console.log([gd, 'removed!']);\n",
       "            Plotly.purge(gd);\n",
       "            observer.disconnect();\n",
       "        }}\n",
       "}});\n",
       "\n",
       "// Listen for the removal of the full notebook cells\n",
       "var notebookContainer = gd.closest('#notebook-container');\n",
       "if (notebookContainer) {{\n",
       "    x.observe(notebookContainer, {childList: true});\n",
       "}}\n",
       "\n",
       "// Listen for the clearing of the current output cell\n",
       "var outputEl = gd.closest('.output');\n",
       "if (outputEl) {{\n",
       "    x.observe(outputEl, {childList: true});\n",
       "}}\n",
       "\n",
       "                        })                };                });            </script>        </div>"
      ]
     },
     "metadata": {},
     "output_type": "display_data"
    }
   ],
   "source": [
    "ba_1 = px.bar(data_frame=r, x = 'SeriesDescription_counts', y='count', color='SeriesDescription_counts')\n",
    "ba_1.update_layout(title_text='Types of images used', title_x=0.5)\n",
    "ba_1.show()"
   ]
  },
  {
   "cell_type": "markdown",
   "id": "ce2f3ce1",
   "metadata": {
    "papermill": {
     "duration": 0.032884,
     "end_time": "2023-12-19T23:14:23.683895",
     "exception": false,
     "start_time": "2023-12-19T23:14:23.651011",
     "status": "completed"
    },
    "tags": []
   },
   "source": [
    "Bu grafikten en çok kullanılan cropped images olduğunu görmüş oluyoruz."
   ]
  },
  {
   "cell_type": "code",
   "execution_count": 48,
   "id": "1267af13",
   "metadata": {
    "execution": {
     "iopub.execute_input": "2023-12-19T23:14:23.752320Z",
     "iopub.status.busy": "2023-12-19T23:14:23.751150Z",
     "iopub.status.idle": "2023-12-19T23:14:23.764569Z",
     "shell.execute_reply": "2023-12-19T23:14:23.763666Z"
    },
    "papermill": {
     "duration": 0.048969,
     "end_time": "2023-12-19T23:14:23.766561",
     "exception": false,
     "start_time": "2023-12-19T23:14:23.717592",
     "status": "completed"
    },
    "tags": []
   },
   "outputs": [
    {
     "data": {
      "text/html": [
       "<div>\n",
       "<style scoped>\n",
       "    .dataframe tbody tr th:only-of-type {\n",
       "        vertical-align: middle;\n",
       "    }\n",
       "\n",
       "    .dataframe tbody tr th {\n",
       "        vertical-align: top;\n",
       "    }\n",
       "\n",
       "    .dataframe thead th {\n",
       "        text-align: right;\n",
       "    }\n",
       "</style>\n",
       "<table border=\"1\" class=\"dataframe\">\n",
       "  <thead>\n",
       "    <tr style=\"text-align: right;\">\n",
       "      <th></th>\n",
       "      <th>PatientOrientation_counts</th>\n",
       "      <th>count</th>\n",
       "    </tr>\n",
       "  </thead>\n",
       "  <tbody>\n",
       "    <tr>\n",
       "      <th>0</th>\n",
       "      <td>MLO</td>\n",
       "      <td>5434</td>\n",
       "    </tr>\n",
       "    <tr>\n",
       "      <th>1</th>\n",
       "      <td>CC</td>\n",
       "      <td>4803</td>\n",
       "    </tr>\n",
       "  </tbody>\n",
       "</table>\n",
       "</div>"
      ],
      "text/plain": [
       "  PatientOrientation_counts  count\n",
       "0                       MLO   5434\n",
       "1                        CC   4803"
      ]
     },
     "execution_count": 48,
     "metadata": {},
     "output_type": "execute_result"
    }
   ],
   "source": [
    "q= pd.DataFrame(dicom_cleaned_data['PatientOrientation'].value_counts())\n",
    "q= q.reset_index()\n",
    "q= q.rename(columns={'PatientOrientation':'PatientOrientation_counts', 'index':'PatientOrientation'})\n",
    "q"
   ]
  },
  {
   "cell_type": "code",
   "execution_count": 49,
   "id": "104bb309",
   "metadata": {
    "execution": {
     "iopub.execute_input": "2023-12-19T23:14:23.834031Z",
     "iopub.status.busy": "2023-12-19T23:14:23.833293Z",
     "iopub.status.idle": "2023-12-19T23:14:23.920605Z",
     "shell.execute_reply": "2023-12-19T23:14:23.919655Z"
    },
    "papermill": {
     "duration": 0.123248,
     "end_time": "2023-12-19T23:14:23.922619",
     "exception": false,
     "start_time": "2023-12-19T23:14:23.799371",
     "status": "completed"
    },
    "tags": []
   },
   "outputs": [
    {
     "data": {
      "text/html": [
       "<div>                            <div id=\"e05fa8ab-6e89-4ce2-bd95-5de982459d7d\" class=\"plotly-graph-div\" style=\"height:525px; width:100%;\"></div>            <script type=\"text/javascript\">                require([\"plotly\"], function(Plotly) {                    window.PLOTLYENV=window.PLOTLYENV || {};                                    if (document.getElementById(\"e05fa8ab-6e89-4ce2-bd95-5de982459d7d\")) {                    Plotly.newPlot(                        \"e05fa8ab-6e89-4ce2-bd95-5de982459d7d\",                        [{\"customdata\":[[\"MLO\"],[\"CC\"]],\"domain\":{\"x\":[0.0,1.0],\"y\":[0.0,1.0]},\"hovertemplate\":\"PatientOrientation_counts=%{customdata[0]}\\u003cbr\\u003ecount=%{value}\\u003cextra\\u003e\\u003c\\u002fextra\\u003e\",\"labels\":[\"MLO\",\"CC\"],\"legendgroup\":\"\",\"marker\":{\"colors\":[\"#636efa\",\"#EF553B\"]},\"name\":\"\",\"showlegend\":true,\"values\":[5434,4803],\"type\":\"pie\"}],                        {\"template\":{\"data\":{\"histogram2dcontour\":[{\"type\":\"histogram2dcontour\",\"colorbar\":{\"outlinewidth\":0,\"ticks\":\"\"},\"colorscale\":[[0.0,\"#0d0887\"],[0.1111111111111111,\"#46039f\"],[0.2222222222222222,\"#7201a8\"],[0.3333333333333333,\"#9c179e\"],[0.4444444444444444,\"#bd3786\"],[0.5555555555555556,\"#d8576b\"],[0.6666666666666666,\"#ed7953\"],[0.7777777777777778,\"#fb9f3a\"],[0.8888888888888888,\"#fdca26\"],[1.0,\"#f0f921\"]]}],\"choropleth\":[{\"type\":\"choropleth\",\"colorbar\":{\"outlinewidth\":0,\"ticks\":\"\"}}],\"histogram2d\":[{\"type\":\"histogram2d\",\"colorbar\":{\"outlinewidth\":0,\"ticks\":\"\"},\"colorscale\":[[0.0,\"#0d0887\"],[0.1111111111111111,\"#46039f\"],[0.2222222222222222,\"#7201a8\"],[0.3333333333333333,\"#9c179e\"],[0.4444444444444444,\"#bd3786\"],[0.5555555555555556,\"#d8576b\"],[0.6666666666666666,\"#ed7953\"],[0.7777777777777778,\"#fb9f3a\"],[0.8888888888888888,\"#fdca26\"],[1.0,\"#f0f921\"]]}],\"heatmap\":[{\"type\":\"heatmap\",\"colorbar\":{\"outlinewidth\":0,\"ticks\":\"\"},\"colorscale\":[[0.0,\"#0d0887\"],[0.1111111111111111,\"#46039f\"],[0.2222222222222222,\"#7201a8\"],[0.3333333333333333,\"#9c179e\"],[0.4444444444444444,\"#bd3786\"],[0.5555555555555556,\"#d8576b\"],[0.6666666666666666,\"#ed7953\"],[0.7777777777777778,\"#fb9f3a\"],[0.8888888888888888,\"#fdca26\"],[1.0,\"#f0f921\"]]}],\"heatmapgl\":[{\"type\":\"heatmapgl\",\"colorbar\":{\"outlinewidth\":0,\"ticks\":\"\"},\"colorscale\":[[0.0,\"#0d0887\"],[0.1111111111111111,\"#46039f\"],[0.2222222222222222,\"#7201a8\"],[0.3333333333333333,\"#9c179e\"],[0.4444444444444444,\"#bd3786\"],[0.5555555555555556,\"#d8576b\"],[0.6666666666666666,\"#ed7953\"],[0.7777777777777778,\"#fb9f3a\"],[0.8888888888888888,\"#fdca26\"],[1.0,\"#f0f921\"]]}],\"contourcarpet\":[{\"type\":\"contourcarpet\",\"colorbar\":{\"outlinewidth\":0,\"ticks\":\"\"}}],\"contour\":[{\"type\":\"contour\",\"colorbar\":{\"outlinewidth\":0,\"ticks\":\"\"},\"colorscale\":[[0.0,\"#0d0887\"],[0.1111111111111111,\"#46039f\"],[0.2222222222222222,\"#7201a8\"],[0.3333333333333333,\"#9c179e\"],[0.4444444444444444,\"#bd3786\"],[0.5555555555555556,\"#d8576b\"],[0.6666666666666666,\"#ed7953\"],[0.7777777777777778,\"#fb9f3a\"],[0.8888888888888888,\"#fdca26\"],[1.0,\"#f0f921\"]]}],\"surface\":[{\"type\":\"surface\",\"colorbar\":{\"outlinewidth\":0,\"ticks\":\"\"},\"colorscale\":[[0.0,\"#0d0887\"],[0.1111111111111111,\"#46039f\"],[0.2222222222222222,\"#7201a8\"],[0.3333333333333333,\"#9c179e\"],[0.4444444444444444,\"#bd3786\"],[0.5555555555555556,\"#d8576b\"],[0.6666666666666666,\"#ed7953\"],[0.7777777777777778,\"#fb9f3a\"],[0.8888888888888888,\"#fdca26\"],[1.0,\"#f0f921\"]]}],\"mesh3d\":[{\"type\":\"mesh3d\",\"colorbar\":{\"outlinewidth\":0,\"ticks\":\"\"}}],\"scatter\":[{\"fillpattern\":{\"fillmode\":\"overlay\",\"size\":10,\"solidity\":0.2},\"type\":\"scatter\"}],\"parcoords\":[{\"type\":\"parcoords\",\"line\":{\"colorbar\":{\"outlinewidth\":0,\"ticks\":\"\"}}}],\"scatterpolargl\":[{\"type\":\"scatterpolargl\",\"marker\":{\"colorbar\":{\"outlinewidth\":0,\"ticks\":\"\"}}}],\"bar\":[{\"error_x\":{\"color\":\"#2a3f5f\"},\"error_y\":{\"color\":\"#2a3f5f\"},\"marker\":{\"line\":{\"color\":\"#E5ECF6\",\"width\":0.5},\"pattern\":{\"fillmode\":\"overlay\",\"size\":10,\"solidity\":0.2}},\"type\":\"bar\"}],\"scattergeo\":[{\"type\":\"scattergeo\",\"marker\":{\"colorbar\":{\"outlinewidth\":0,\"ticks\":\"\"}}}],\"scatterpolar\":[{\"type\":\"scatterpolar\",\"marker\":{\"colorbar\":{\"outlinewidth\":0,\"ticks\":\"\"}}}],\"histogram\":[{\"marker\":{\"pattern\":{\"fillmode\":\"overlay\",\"size\":10,\"solidity\":0.2}},\"type\":\"histogram\"}],\"scattergl\":[{\"type\":\"scattergl\",\"marker\":{\"colorbar\":{\"outlinewidth\":0,\"ticks\":\"\"}}}],\"scatter3d\":[{\"type\":\"scatter3d\",\"line\":{\"colorbar\":{\"outlinewidth\":0,\"ticks\":\"\"}},\"marker\":{\"colorbar\":{\"outlinewidth\":0,\"ticks\":\"\"}}}],\"scattermapbox\":[{\"type\":\"scattermapbox\",\"marker\":{\"colorbar\":{\"outlinewidth\":0,\"ticks\":\"\"}}}],\"scatterternary\":[{\"type\":\"scatterternary\",\"marker\":{\"colorbar\":{\"outlinewidth\":0,\"ticks\":\"\"}}}],\"scattercarpet\":[{\"type\":\"scattercarpet\",\"marker\":{\"colorbar\":{\"outlinewidth\":0,\"ticks\":\"\"}}}],\"carpet\":[{\"aaxis\":{\"endlinecolor\":\"#2a3f5f\",\"gridcolor\":\"white\",\"linecolor\":\"white\",\"minorgridcolor\":\"white\",\"startlinecolor\":\"#2a3f5f\"},\"baxis\":{\"endlinecolor\":\"#2a3f5f\",\"gridcolor\":\"white\",\"linecolor\":\"white\",\"minorgridcolor\":\"white\",\"startlinecolor\":\"#2a3f5f\"},\"type\":\"carpet\"}],\"table\":[{\"cells\":{\"fill\":{\"color\":\"#EBF0F8\"},\"line\":{\"color\":\"white\"}},\"header\":{\"fill\":{\"color\":\"#C8D4E3\"},\"line\":{\"color\":\"white\"}},\"type\":\"table\"}],\"barpolar\":[{\"marker\":{\"line\":{\"color\":\"#E5ECF6\",\"width\":0.5},\"pattern\":{\"fillmode\":\"overlay\",\"size\":10,\"solidity\":0.2}},\"type\":\"barpolar\"}],\"pie\":[{\"automargin\":true,\"type\":\"pie\"}]},\"layout\":{\"autotypenumbers\":\"strict\",\"colorway\":[\"#636efa\",\"#EF553B\",\"#00cc96\",\"#ab63fa\",\"#FFA15A\",\"#19d3f3\",\"#FF6692\",\"#B6E880\",\"#FF97FF\",\"#FECB52\"],\"font\":{\"color\":\"#2a3f5f\"},\"hovermode\":\"closest\",\"hoverlabel\":{\"align\":\"left\"},\"paper_bgcolor\":\"white\",\"plot_bgcolor\":\"#E5ECF6\",\"polar\":{\"bgcolor\":\"#E5ECF6\",\"angularaxis\":{\"gridcolor\":\"white\",\"linecolor\":\"white\",\"ticks\":\"\"},\"radialaxis\":{\"gridcolor\":\"white\",\"linecolor\":\"white\",\"ticks\":\"\"}},\"ternary\":{\"bgcolor\":\"#E5ECF6\",\"aaxis\":{\"gridcolor\":\"white\",\"linecolor\":\"white\",\"ticks\":\"\"},\"baxis\":{\"gridcolor\":\"white\",\"linecolor\":\"white\",\"ticks\":\"\"},\"caxis\":{\"gridcolor\":\"white\",\"linecolor\":\"white\",\"ticks\":\"\"}},\"coloraxis\":{\"colorbar\":{\"outlinewidth\":0,\"ticks\":\"\"}},\"colorscale\":{\"sequential\":[[0.0,\"#0d0887\"],[0.1111111111111111,\"#46039f\"],[0.2222222222222222,\"#7201a8\"],[0.3333333333333333,\"#9c179e\"],[0.4444444444444444,\"#bd3786\"],[0.5555555555555556,\"#d8576b\"],[0.6666666666666666,\"#ed7953\"],[0.7777777777777778,\"#fb9f3a\"],[0.8888888888888888,\"#fdca26\"],[1.0,\"#f0f921\"]],\"sequentialminus\":[[0.0,\"#0d0887\"],[0.1111111111111111,\"#46039f\"],[0.2222222222222222,\"#7201a8\"],[0.3333333333333333,\"#9c179e\"],[0.4444444444444444,\"#bd3786\"],[0.5555555555555556,\"#d8576b\"],[0.6666666666666666,\"#ed7953\"],[0.7777777777777778,\"#fb9f3a\"],[0.8888888888888888,\"#fdca26\"],[1.0,\"#f0f921\"]],\"diverging\":[[0,\"#8e0152\"],[0.1,\"#c51b7d\"],[0.2,\"#de77ae\"],[0.3,\"#f1b6da\"],[0.4,\"#fde0ef\"],[0.5,\"#f7f7f7\"],[0.6,\"#e6f5d0\"],[0.7,\"#b8e186\"],[0.8,\"#7fbc41\"],[0.9,\"#4d9221\"],[1,\"#276419\"]]},\"xaxis\":{\"gridcolor\":\"white\",\"linecolor\":\"white\",\"ticks\":\"\",\"title\":{\"standoff\":15},\"zerolinecolor\":\"white\",\"automargin\":true,\"zerolinewidth\":2},\"yaxis\":{\"gridcolor\":\"white\",\"linecolor\":\"white\",\"ticks\":\"\",\"title\":{\"standoff\":15},\"zerolinecolor\":\"white\",\"automargin\":true,\"zerolinewidth\":2},\"scene\":{\"xaxis\":{\"backgroundcolor\":\"#E5ECF6\",\"gridcolor\":\"white\",\"linecolor\":\"white\",\"showbackground\":true,\"ticks\":\"\",\"zerolinecolor\":\"white\",\"gridwidth\":2},\"yaxis\":{\"backgroundcolor\":\"#E5ECF6\",\"gridcolor\":\"white\",\"linecolor\":\"white\",\"showbackground\":true,\"ticks\":\"\",\"zerolinecolor\":\"white\",\"gridwidth\":2},\"zaxis\":{\"backgroundcolor\":\"#E5ECF6\",\"gridcolor\":\"white\",\"linecolor\":\"white\",\"showbackground\":true,\"ticks\":\"\",\"zerolinecolor\":\"white\",\"gridwidth\":2}},\"shapedefaults\":{\"line\":{\"color\":\"#2a3f5f\"}},\"annotationdefaults\":{\"arrowcolor\":\"#2a3f5f\",\"arrowhead\":0,\"arrowwidth\":1},\"geo\":{\"bgcolor\":\"white\",\"landcolor\":\"#E5ECF6\",\"subunitcolor\":\"white\",\"showland\":true,\"showlakes\":true,\"lakecolor\":\"white\"},\"title\":{\"x\":0.05},\"mapbox\":{\"style\":\"light\"}}},\"legend\":{\"tracegroupgap\":0},\"margin\":{\"t\":60},\"title\":{\"text\":\"The percenyages of PatientOrientation \",\"x\":0.5}},                        {\"responsive\": true}                    ).then(function(){\n",
       "                            \n",
       "var gd = document.getElementById('e05fa8ab-6e89-4ce2-bd95-5de982459d7d');\n",
       "var x = new MutationObserver(function (mutations, observer) {{\n",
       "        var display = window.getComputedStyle(gd).display;\n",
       "        if (!display || display === 'none') {{\n",
       "            console.log([gd, 'removed!']);\n",
       "            Plotly.purge(gd);\n",
       "            observer.disconnect();\n",
       "        }}\n",
       "}});\n",
       "\n",
       "// Listen for the removal of the full notebook cells\n",
       "var notebookContainer = gd.closest('#notebook-container');\n",
       "if (notebookContainer) {{\n",
       "    x.observe(notebookContainer, {childList: true});\n",
       "}}\n",
       "\n",
       "// Listen for the clearing of the current output cell\n",
       "var outputEl = gd.closest('.output');\n",
       "if (outputEl) {{\n",
       "    x.observe(outputEl, {childList: true});\n",
       "}}\n",
       "\n",
       "                        })                };                });            </script>        </div>"
      ]
     },
     "metadata": {},
     "output_type": "display_data"
    }
   ],
   "source": [
    "qfig =px.pie(data_frame=q, names= 'PatientOrientation_counts', values='count', color = 'PatientOrientation_counts')\n",
    "qfig.update_layout(title_text='The percenyages of PatientOrientation ', title_x=0.5)\n",
    "qfig.show()"
   ]
  },
  {
   "cell_type": "code",
   "execution_count": 50,
   "id": "e0884396",
   "metadata": {
    "execution": {
     "iopub.execute_input": "2023-12-19T23:14:24.056621Z",
     "iopub.status.busy": "2023-12-19T23:14:24.055976Z",
     "iopub.status.idle": "2023-12-19T23:14:24.071852Z",
     "shell.execute_reply": "2023-12-19T23:14:24.070881Z"
    },
    "papermill": {
     "duration": 0.052504,
     "end_time": "2023-12-19T23:14:24.074069",
     "exception": false,
     "start_time": "2023-12-19T23:14:24.021565",
     "status": "completed"
    },
    "tags": []
   },
   "outputs": [
    {
     "data": {
      "text/html": [
       "<div>\n",
       "<style scoped>\n",
       "    .dataframe tbody tr th:only-of-type {\n",
       "        vertical-align: middle;\n",
       "    }\n",
       "\n",
       "    .dataframe tbody tr th {\n",
       "        vertical-align: top;\n",
       "    }\n",
       "\n",
       "    .dataframe thead th {\n",
       "        text-align: right;\n",
       "    }\n",
       "</style>\n",
       "<table border=\"1\" class=\"dataframe\">\n",
       "  <thead>\n",
       "    <tr style=\"text-align: right;\">\n",
       "      <th></th>\n",
       "      <th>calc_type_counts</th>\n",
       "      <th>count</th>\n",
       "    </tr>\n",
       "  </thead>\n",
       "  <tbody>\n",
       "    <tr>\n",
       "      <th>0</th>\n",
       "      <td>PLEOMORPHIC</td>\n",
       "      <td>664</td>\n",
       "    </tr>\n",
       "    <tr>\n",
       "      <th>1</th>\n",
       "      <td>AMORPHOUS</td>\n",
       "      <td>139</td>\n",
       "    </tr>\n",
       "    <tr>\n",
       "      <th>2</th>\n",
       "      <td>PUNCTATE</td>\n",
       "      <td>106</td>\n",
       "    </tr>\n",
       "    <tr>\n",
       "      <th>3</th>\n",
       "      <td>LUCENT_CENTER</td>\n",
       "      <td>93</td>\n",
       "    </tr>\n",
       "    <tr>\n",
       "      <th>4</th>\n",
       "      <td>VASCULAR</td>\n",
       "      <td>82</td>\n",
       "    </tr>\n",
       "    <tr>\n",
       "      <th>5</th>\n",
       "      <td>FINE_LINEAR_BRANCHING</td>\n",
       "      <td>77</td>\n",
       "    </tr>\n",
       "    <tr>\n",
       "      <th>6</th>\n",
       "      <td>COARSE</td>\n",
       "      <td>35</td>\n",
       "    </tr>\n",
       "    <tr>\n",
       "      <th>7</th>\n",
       "      <td>ROUND_AND_REGULAR-LUCENT_CENTER</td>\n",
       "      <td>33</td>\n",
       "    </tr>\n",
       "    <tr>\n",
       "      <th>8</th>\n",
       "      <td>PLEOMORPHIC-FINE_LINEAR_BRANCHING</td>\n",
       "      <td>28</td>\n",
       "    </tr>\n",
       "    <tr>\n",
       "      <th>9</th>\n",
       "      <td>ROUND_AND_REGULAR-LUCENT_CENTER-PUNCTATE</td>\n",
       "      <td>24</td>\n",
       "    </tr>\n",
       "    <tr>\n",
       "      <th>10</th>\n",
       "      <td>ROUND_AND_REGULAR-EGGSHELL</td>\n",
       "      <td>23</td>\n",
       "    </tr>\n",
       "    <tr>\n",
       "      <th>11</th>\n",
       "      <td>PUNCTATE-PLEOMORPHIC</td>\n",
       "      <td>21</td>\n",
       "    </tr>\n",
       "    <tr>\n",
       "      <th>12</th>\n",
       "      <td>DYSTROPHIC</td>\n",
       "      <td>20</td>\n",
       "    </tr>\n",
       "    <tr>\n",
       "      <th>13</th>\n",
       "      <td>LUCENT_CENTERED</td>\n",
       "      <td>19</td>\n",
       "    </tr>\n",
       "    <tr>\n",
       "      <th>14</th>\n",
       "      <td>ROUND_AND_REGULAR-LUCENT_CENTER-DYSTROPHIC</td>\n",
       "      <td>18</td>\n",
       "    </tr>\n",
       "    <tr>\n",
       "      <th>15</th>\n",
       "      <td>ROUND_AND_REGULAR</td>\n",
       "      <td>17</td>\n",
       "    </tr>\n",
       "    <tr>\n",
       "      <th>16</th>\n",
       "      <td>ROUND_AND_REGULAR-LUCENT_CENTERED</td>\n",
       "      <td>14</td>\n",
       "    </tr>\n",
       "    <tr>\n",
       "      <th>17</th>\n",
       "      <td>AMORPHOUS-PLEOMORPHIC</td>\n",
       "      <td>12</td>\n",
       "    </tr>\n",
       "    <tr>\n",
       "      <th>18</th>\n",
       "      <td>LARGE_RODLIKE-ROUND_AND_REGULAR</td>\n",
       "      <td>11</td>\n",
       "    </tr>\n",
       "    <tr>\n",
       "      <th>19</th>\n",
       "      <td>PUNCTATE-AMORPHOUS</td>\n",
       "      <td>10</td>\n",
       "    </tr>\n",
       "    <tr>\n",
       "      <th>20</th>\n",
       "      <td>COARSE-ROUND_AND_REGULAR-LUCENT_CENTER</td>\n",
       "      <td>10</td>\n",
       "    </tr>\n",
       "    <tr>\n",
       "      <th>21</th>\n",
       "      <td>VASCULAR-COARSE-LUCENT_CENTERED</td>\n",
       "      <td>8</td>\n",
       "    </tr>\n",
       "    <tr>\n",
       "      <th>22</th>\n",
       "      <td>LUCENT_CENTER-PUNCTATE</td>\n",
       "      <td>8</td>\n",
       "    </tr>\n",
       "    <tr>\n",
       "      <th>23</th>\n",
       "      <td>ROUND_AND_REGULAR-PLEOMORPHIC</td>\n",
       "      <td>7</td>\n",
       "    </tr>\n",
       "    <tr>\n",
       "      <th>24</th>\n",
       "      <td>EGGSHELL</td>\n",
       "      <td>7</td>\n",
       "    </tr>\n",
       "    <tr>\n",
       "      <th>25</th>\n",
       "      <td>PUNCTATE-FINE_LINEAR_BRANCHING</td>\n",
       "      <td>6</td>\n",
       "    </tr>\n",
       "    <tr>\n",
       "      <th>26</th>\n",
       "      <td>VASCULAR-COARSE</td>\n",
       "      <td>6</td>\n",
       "    </tr>\n",
       "    <tr>\n",
       "      <th>27</th>\n",
       "      <td>ROUND_AND_REGULAR-PUNCTATE</td>\n",
       "      <td>5</td>\n",
       "    </tr>\n",
       "    <tr>\n",
       "      <th>28</th>\n",
       "      <td>SKIN-PUNCTATE-ROUND_AND_REGULAR</td>\n",
       "      <td>4</td>\n",
       "    </tr>\n",
       "    <tr>\n",
       "      <th>29</th>\n",
       "      <td>SKIN-PUNCTATE</td>\n",
       "      <td>4</td>\n",
       "    </tr>\n",
       "    <tr>\n",
       "      <th>30</th>\n",
       "      <td>COARSE-ROUND_AND_REGULAR-LUCENT_CENTERED</td>\n",
       "      <td>4</td>\n",
       "    </tr>\n",
       "    <tr>\n",
       "      <th>31</th>\n",
       "      <td>PUNCTATE-ROUND_AND_REGULAR</td>\n",
       "      <td>4</td>\n",
       "    </tr>\n",
       "    <tr>\n",
       "      <th>32</th>\n",
       "      <td>LARGE_RODLIKE</td>\n",
       "      <td>4</td>\n",
       "    </tr>\n",
       "    <tr>\n",
       "      <th>33</th>\n",
       "      <td>AMORPHOUS-ROUND_AND_REGULAR</td>\n",
       "      <td>3</td>\n",
       "    </tr>\n",
       "    <tr>\n",
       "      <th>34</th>\n",
       "      <td>PUNCTATE-LUCENT_CENTER</td>\n",
       "      <td>3</td>\n",
       "    </tr>\n",
       "    <tr>\n",
       "      <th>35</th>\n",
       "      <td>SKIN</td>\n",
       "      <td>2</td>\n",
       "    </tr>\n",
       "    <tr>\n",
       "      <th>36</th>\n",
       "      <td>VASCULAR-COARSE-LUCENT_CENTER-ROUND_AND_REGULA...</td>\n",
       "      <td>2</td>\n",
       "    </tr>\n",
       "    <tr>\n",
       "      <th>37</th>\n",
       "      <td>COARSE-PLEOMORPHIC</td>\n",
       "      <td>2</td>\n",
       "    </tr>\n",
       "    <tr>\n",
       "      <th>38</th>\n",
       "      <td>ROUND_AND_REGULAR-PUNCTATE-AMORPHOUS</td>\n",
       "      <td>2</td>\n",
       "    </tr>\n",
       "    <tr>\n",
       "      <th>39</th>\n",
       "      <td>COARSE-LUCENT_CENTER</td>\n",
       "      <td>2</td>\n",
       "    </tr>\n",
       "    <tr>\n",
       "      <th>40</th>\n",
       "      <td>MILK_OF_CALCIUM</td>\n",
       "      <td>2</td>\n",
       "    </tr>\n",
       "    <tr>\n",
       "      <th>41</th>\n",
       "      <td>COARSE-ROUND_AND_REGULAR</td>\n",
       "      <td>2</td>\n",
       "    </tr>\n",
       "    <tr>\n",
       "      <th>42</th>\n",
       "      <td>SKIN-COARSE-ROUND_AND_REGULAR</td>\n",
       "      <td>1</td>\n",
       "    </tr>\n",
       "    <tr>\n",
       "      <th>43</th>\n",
       "      <td>ROUND_AND_REGULAR-AMORPHOUS</td>\n",
       "      <td>1</td>\n",
       "    </tr>\n",
       "    <tr>\n",
       "      <th>44</th>\n",
       "      <td>PLEOMORPHIC-PLEOMORPHIC</td>\n",
       "      <td>1</td>\n",
       "    </tr>\n",
       "  </tbody>\n",
       "</table>\n",
       "</div>"
      ],
      "text/plain": [
       "                                     calc_type_counts  count\n",
       "0                                         PLEOMORPHIC    664\n",
       "1                                           AMORPHOUS    139\n",
       "2                                            PUNCTATE    106\n",
       "3                                       LUCENT_CENTER     93\n",
       "4                                            VASCULAR     82\n",
       "5                               FINE_LINEAR_BRANCHING     77\n",
       "6                                              COARSE     35\n",
       "7                     ROUND_AND_REGULAR-LUCENT_CENTER     33\n",
       "8                   PLEOMORPHIC-FINE_LINEAR_BRANCHING     28\n",
       "9            ROUND_AND_REGULAR-LUCENT_CENTER-PUNCTATE     24\n",
       "10                         ROUND_AND_REGULAR-EGGSHELL     23\n",
       "11                               PUNCTATE-PLEOMORPHIC     21\n",
       "12                                         DYSTROPHIC     20\n",
       "13                                    LUCENT_CENTERED     19\n",
       "14         ROUND_AND_REGULAR-LUCENT_CENTER-DYSTROPHIC     18\n",
       "15                                  ROUND_AND_REGULAR     17\n",
       "16                  ROUND_AND_REGULAR-LUCENT_CENTERED     14\n",
       "17                              AMORPHOUS-PLEOMORPHIC     12\n",
       "18                    LARGE_RODLIKE-ROUND_AND_REGULAR     11\n",
       "19                                 PUNCTATE-AMORPHOUS     10\n",
       "20             COARSE-ROUND_AND_REGULAR-LUCENT_CENTER     10\n",
       "21                    VASCULAR-COARSE-LUCENT_CENTERED      8\n",
       "22                             LUCENT_CENTER-PUNCTATE      8\n",
       "23                      ROUND_AND_REGULAR-PLEOMORPHIC      7\n",
       "24                                           EGGSHELL      7\n",
       "25                     PUNCTATE-FINE_LINEAR_BRANCHING      6\n",
       "26                                    VASCULAR-COARSE      6\n",
       "27                         ROUND_AND_REGULAR-PUNCTATE      5\n",
       "28                    SKIN-PUNCTATE-ROUND_AND_REGULAR      4\n",
       "29                                      SKIN-PUNCTATE      4\n",
       "30           COARSE-ROUND_AND_REGULAR-LUCENT_CENTERED      4\n",
       "31                         PUNCTATE-ROUND_AND_REGULAR      4\n",
       "32                                      LARGE_RODLIKE      4\n",
       "33                        AMORPHOUS-ROUND_AND_REGULAR      3\n",
       "34                             PUNCTATE-LUCENT_CENTER      3\n",
       "35                                               SKIN      2\n",
       "36  VASCULAR-COARSE-LUCENT_CENTER-ROUND_AND_REGULA...      2\n",
       "37                                 COARSE-PLEOMORPHIC      2\n",
       "38               ROUND_AND_REGULAR-PUNCTATE-AMORPHOUS      2\n",
       "39                               COARSE-LUCENT_CENTER      2\n",
       "40                                    MILK_OF_CALCIUM      2\n",
       "41                           COARSE-ROUND_AND_REGULAR      2\n",
       "42                      SKIN-COARSE-ROUND_AND_REGULAR      1\n",
       "43                        ROUND_AND_REGULAR-AMORPHOUS      1\n",
       "44                            PLEOMORPHIC-PLEOMORPHIC      1"
      ]
     },
     "execution_count": 50,
     "metadata": {},
     "output_type": "execute_result"
    }
   ],
   "source": [
    "z = pd.DataFrame(Data_cleaning_1['calc_type'].value_counts())\n",
    "z = z.reset_index()\n",
    "z= z.rename(columns={'calc_type':'calc_type_counts'})\n",
    "z"
   ]
  },
  {
   "cell_type": "code",
   "execution_count": 51,
   "id": "0ea29881",
   "metadata": {
    "execution": {
     "iopub.execute_input": "2023-12-19T23:14:24.144779Z",
     "iopub.status.busy": "2023-12-19T23:14:24.144246Z",
     "iopub.status.idle": "2023-12-19T23:14:24.387525Z",
     "shell.execute_reply": "2023-12-19T23:14:24.386670Z"
    },
    "papermill": {
     "duration": 0.279743,
     "end_time": "2023-12-19T23:14:24.389473",
     "exception": false,
     "start_time": "2023-12-19T23:14:24.109730",
     "status": "completed"
    },
    "tags": []
   },
   "outputs": [
    {
     "name": "stderr",
     "output_type": "stream",
     "text": [
      "/opt/conda/lib/python3.10/site-packages/plotly/express/_core.py:2044: FutureWarning:\n",
      "\n",
      "The default of observed=False is deprecated and will be changed to True in a future version of pandas. Pass observed=False to retain current behavior or observed=True to adopt the future default and silence this warning.\n",
      "\n"
     ]
    },
    {
     "data": {
      "text/html": [
       "<div>                            <div id=\"d3a80960-8860-41bb-b97f-4a187a7bb59b\" class=\"plotly-graph-div\" style=\"height:525px; width:100%;\"></div>            <script type=\"text/javascript\">                require([\"plotly\"], function(Plotly) {                    window.PLOTLYENV=window.PLOTLYENV || {};                                    if (document.getElementById(\"d3a80960-8860-41bb-b97f-4a187a7bb59b\")) {                    Plotly.newPlot(                        \"d3a80960-8860-41bb-b97f-4a187a7bb59b\",                        [{\"alignmentgroup\":\"True\",\"hovertemplate\":\"Count=%{x}\\u003cbr\\u003ecount=%{y}\\u003cextra\\u003e\\u003c\\u002fextra\\u003e\",\"legendgroup\":\"PLEOMORPHIC\",\"marker\":{\"color\":\"#636efa\",\"pattern\":{\"shape\":\"\"}},\"name\":\"PLEOMORPHIC\",\"offsetgroup\":\"PLEOMORPHIC\",\"orientation\":\"v\",\"showlegend\":true,\"textposition\":\"auto\",\"x\":[\"PLEOMORPHIC\"],\"xaxis\":\"x\",\"y\":[664],\"yaxis\":\"y\",\"type\":\"bar\"},{\"alignmentgroup\":\"True\",\"hovertemplate\":\"Count=%{x}\\u003cbr\\u003ecount=%{y}\\u003cextra\\u003e\\u003c\\u002fextra\\u003e\",\"legendgroup\":\"AMORPHOUS\",\"marker\":{\"color\":\"#EF553B\",\"pattern\":{\"shape\":\"\"}},\"name\":\"AMORPHOUS\",\"offsetgroup\":\"AMORPHOUS\",\"orientation\":\"v\",\"showlegend\":true,\"textposition\":\"auto\",\"x\":[\"AMORPHOUS\"],\"xaxis\":\"x\",\"y\":[139],\"yaxis\":\"y\",\"type\":\"bar\"},{\"alignmentgroup\":\"True\",\"hovertemplate\":\"Count=%{x}\\u003cbr\\u003ecount=%{y}\\u003cextra\\u003e\\u003c\\u002fextra\\u003e\",\"legendgroup\":\"PUNCTATE\",\"marker\":{\"color\":\"#00cc96\",\"pattern\":{\"shape\":\"\"}},\"name\":\"PUNCTATE\",\"offsetgroup\":\"PUNCTATE\",\"orientation\":\"v\",\"showlegend\":true,\"textposition\":\"auto\",\"x\":[\"PUNCTATE\"],\"xaxis\":\"x\",\"y\":[106],\"yaxis\":\"y\",\"type\":\"bar\"},{\"alignmentgroup\":\"True\",\"hovertemplate\":\"Count=%{x}\\u003cbr\\u003ecount=%{y}\\u003cextra\\u003e\\u003c\\u002fextra\\u003e\",\"legendgroup\":\"LUCENT_CENTER\",\"marker\":{\"color\":\"#ab63fa\",\"pattern\":{\"shape\":\"\"}},\"name\":\"LUCENT_CENTER\",\"offsetgroup\":\"LUCENT_CENTER\",\"orientation\":\"v\",\"showlegend\":true,\"textposition\":\"auto\",\"x\":[\"LUCENT_CENTER\"],\"xaxis\":\"x\",\"y\":[93],\"yaxis\":\"y\",\"type\":\"bar\"},{\"alignmentgroup\":\"True\",\"hovertemplate\":\"Count=%{x}\\u003cbr\\u003ecount=%{y}\\u003cextra\\u003e\\u003c\\u002fextra\\u003e\",\"legendgroup\":\"VASCULAR\",\"marker\":{\"color\":\"#FFA15A\",\"pattern\":{\"shape\":\"\"}},\"name\":\"VASCULAR\",\"offsetgroup\":\"VASCULAR\",\"orientation\":\"v\",\"showlegend\":true,\"textposition\":\"auto\",\"x\":[\"VASCULAR\"],\"xaxis\":\"x\",\"y\":[82],\"yaxis\":\"y\",\"type\":\"bar\"},{\"alignmentgroup\":\"True\",\"hovertemplate\":\"Count=%{x}\\u003cbr\\u003ecount=%{y}\\u003cextra\\u003e\\u003c\\u002fextra\\u003e\",\"legendgroup\":\"FINE_LINEAR_BRANCHING\",\"marker\":{\"color\":\"#19d3f3\",\"pattern\":{\"shape\":\"\"}},\"name\":\"FINE_LINEAR_BRANCHING\",\"offsetgroup\":\"FINE_LINEAR_BRANCHING\",\"orientation\":\"v\",\"showlegend\":true,\"textposition\":\"auto\",\"x\":[\"FINE_LINEAR_BRANCHING\"],\"xaxis\":\"x\",\"y\":[77],\"yaxis\":\"y\",\"type\":\"bar\"},{\"alignmentgroup\":\"True\",\"hovertemplate\":\"Count=%{x}\\u003cbr\\u003ecount=%{y}\\u003cextra\\u003e\\u003c\\u002fextra\\u003e\",\"legendgroup\":\"COARSE\",\"marker\":{\"color\":\"#FF6692\",\"pattern\":{\"shape\":\"\"}},\"name\":\"COARSE\",\"offsetgroup\":\"COARSE\",\"orientation\":\"v\",\"showlegend\":true,\"textposition\":\"auto\",\"x\":[\"COARSE\"],\"xaxis\":\"x\",\"y\":[35],\"yaxis\":\"y\",\"type\":\"bar\"},{\"alignmentgroup\":\"True\",\"hovertemplate\":\"Count=%{x}\\u003cbr\\u003ecount=%{y}\\u003cextra\\u003e\\u003c\\u002fextra\\u003e\",\"legendgroup\":\"ROUND_AND_REGULAR-LUCENT_CENTER\",\"marker\":{\"color\":\"#B6E880\",\"pattern\":{\"shape\":\"\"}},\"name\":\"ROUND_AND_REGULAR-LUCENT_CENTER\",\"offsetgroup\":\"ROUND_AND_REGULAR-LUCENT_CENTER\",\"orientation\":\"v\",\"showlegend\":true,\"textposition\":\"auto\",\"x\":[\"ROUND_AND_REGULAR-LUCENT_CENTER\"],\"xaxis\":\"x\",\"y\":[33],\"yaxis\":\"y\",\"type\":\"bar\"},{\"alignmentgroup\":\"True\",\"hovertemplate\":\"Count=%{x}\\u003cbr\\u003ecount=%{y}\\u003cextra\\u003e\\u003c\\u002fextra\\u003e\",\"legendgroup\":\"PLEOMORPHIC-FINE_LINEAR_BRANCHING\",\"marker\":{\"color\":\"#FF97FF\",\"pattern\":{\"shape\":\"\"}},\"name\":\"PLEOMORPHIC-FINE_LINEAR_BRANCHING\",\"offsetgroup\":\"PLEOMORPHIC-FINE_LINEAR_BRANCHING\",\"orientation\":\"v\",\"showlegend\":true,\"textposition\":\"auto\",\"x\":[\"PLEOMORPHIC-FINE_LINEAR_BRANCHING\"],\"xaxis\":\"x\",\"y\":[28],\"yaxis\":\"y\",\"type\":\"bar\"},{\"alignmentgroup\":\"True\",\"hovertemplate\":\"Count=%{x}\\u003cbr\\u003ecount=%{y}\\u003cextra\\u003e\\u003c\\u002fextra\\u003e\",\"legendgroup\":\"ROUND_AND_REGULAR-LUCENT_CENTER-PUNCTATE\",\"marker\":{\"color\":\"#FECB52\",\"pattern\":{\"shape\":\"\"}},\"name\":\"ROUND_AND_REGULAR-LUCENT_CENTER-PUNCTATE\",\"offsetgroup\":\"ROUND_AND_REGULAR-LUCENT_CENTER-PUNCTATE\",\"orientation\":\"v\",\"showlegend\":true,\"textposition\":\"auto\",\"x\":[\"ROUND_AND_REGULAR-LUCENT_CENTER-PUNCTATE\"],\"xaxis\":\"x\",\"y\":[24],\"yaxis\":\"y\",\"type\":\"bar\"},{\"alignmentgroup\":\"True\",\"hovertemplate\":\"Count=%{x}\\u003cbr\\u003ecount=%{y}\\u003cextra\\u003e\\u003c\\u002fextra\\u003e\",\"legendgroup\":\"ROUND_AND_REGULAR-EGGSHELL\",\"marker\":{\"color\":\"#636efa\",\"pattern\":{\"shape\":\"\"}},\"name\":\"ROUND_AND_REGULAR-EGGSHELL\",\"offsetgroup\":\"ROUND_AND_REGULAR-EGGSHELL\",\"orientation\":\"v\",\"showlegend\":true,\"textposition\":\"auto\",\"x\":[\"ROUND_AND_REGULAR-EGGSHELL\"],\"xaxis\":\"x\",\"y\":[23],\"yaxis\":\"y\",\"type\":\"bar\"},{\"alignmentgroup\":\"True\",\"hovertemplate\":\"Count=%{x}\\u003cbr\\u003ecount=%{y}\\u003cextra\\u003e\\u003c\\u002fextra\\u003e\",\"legendgroup\":\"PUNCTATE-PLEOMORPHIC\",\"marker\":{\"color\":\"#EF553B\",\"pattern\":{\"shape\":\"\"}},\"name\":\"PUNCTATE-PLEOMORPHIC\",\"offsetgroup\":\"PUNCTATE-PLEOMORPHIC\",\"orientation\":\"v\",\"showlegend\":true,\"textposition\":\"auto\",\"x\":[\"PUNCTATE-PLEOMORPHIC\"],\"xaxis\":\"x\",\"y\":[21],\"yaxis\":\"y\",\"type\":\"bar\"},{\"alignmentgroup\":\"True\",\"hovertemplate\":\"Count=%{x}\\u003cbr\\u003ecount=%{y}\\u003cextra\\u003e\\u003c\\u002fextra\\u003e\",\"legendgroup\":\"DYSTROPHIC\",\"marker\":{\"color\":\"#00cc96\",\"pattern\":{\"shape\":\"\"}},\"name\":\"DYSTROPHIC\",\"offsetgroup\":\"DYSTROPHIC\",\"orientation\":\"v\",\"showlegend\":true,\"textposition\":\"auto\",\"x\":[\"DYSTROPHIC\"],\"xaxis\":\"x\",\"y\":[20],\"yaxis\":\"y\",\"type\":\"bar\"},{\"alignmentgroup\":\"True\",\"hovertemplate\":\"Count=%{x}\\u003cbr\\u003ecount=%{y}\\u003cextra\\u003e\\u003c\\u002fextra\\u003e\",\"legendgroup\":\"LUCENT_CENTERED\",\"marker\":{\"color\":\"#ab63fa\",\"pattern\":{\"shape\":\"\"}},\"name\":\"LUCENT_CENTERED\",\"offsetgroup\":\"LUCENT_CENTERED\",\"orientation\":\"v\",\"showlegend\":true,\"textposition\":\"auto\",\"x\":[\"LUCENT_CENTERED\"],\"xaxis\":\"x\",\"y\":[19],\"yaxis\":\"y\",\"type\":\"bar\"},{\"alignmentgroup\":\"True\",\"hovertemplate\":\"Count=%{x}\\u003cbr\\u003ecount=%{y}\\u003cextra\\u003e\\u003c\\u002fextra\\u003e\",\"legendgroup\":\"ROUND_AND_REGULAR-LUCENT_CENTER-DYSTROPHIC\",\"marker\":{\"color\":\"#FFA15A\",\"pattern\":{\"shape\":\"\"}},\"name\":\"ROUND_AND_REGULAR-LUCENT_CENTER-DYSTROPHIC\",\"offsetgroup\":\"ROUND_AND_REGULAR-LUCENT_CENTER-DYSTROPHIC\",\"orientation\":\"v\",\"showlegend\":true,\"textposition\":\"auto\",\"x\":[\"ROUND_AND_REGULAR-LUCENT_CENTER-DYSTROPHIC\"],\"xaxis\":\"x\",\"y\":[18],\"yaxis\":\"y\",\"type\":\"bar\"},{\"alignmentgroup\":\"True\",\"hovertemplate\":\"Count=%{x}\\u003cbr\\u003ecount=%{y}\\u003cextra\\u003e\\u003c\\u002fextra\\u003e\",\"legendgroup\":\"ROUND_AND_REGULAR\",\"marker\":{\"color\":\"#19d3f3\",\"pattern\":{\"shape\":\"\"}},\"name\":\"ROUND_AND_REGULAR\",\"offsetgroup\":\"ROUND_AND_REGULAR\",\"orientation\":\"v\",\"showlegend\":true,\"textposition\":\"auto\",\"x\":[\"ROUND_AND_REGULAR\"],\"xaxis\":\"x\",\"y\":[17],\"yaxis\":\"y\",\"type\":\"bar\"},{\"alignmentgroup\":\"True\",\"hovertemplate\":\"Count=%{x}\\u003cbr\\u003ecount=%{y}\\u003cextra\\u003e\\u003c\\u002fextra\\u003e\",\"legendgroup\":\"ROUND_AND_REGULAR-LUCENT_CENTERED\",\"marker\":{\"color\":\"#FF6692\",\"pattern\":{\"shape\":\"\"}},\"name\":\"ROUND_AND_REGULAR-LUCENT_CENTERED\",\"offsetgroup\":\"ROUND_AND_REGULAR-LUCENT_CENTERED\",\"orientation\":\"v\",\"showlegend\":true,\"textposition\":\"auto\",\"x\":[\"ROUND_AND_REGULAR-LUCENT_CENTERED\"],\"xaxis\":\"x\",\"y\":[14],\"yaxis\":\"y\",\"type\":\"bar\"},{\"alignmentgroup\":\"True\",\"hovertemplate\":\"Count=%{x}\\u003cbr\\u003ecount=%{y}\\u003cextra\\u003e\\u003c\\u002fextra\\u003e\",\"legendgroup\":\"AMORPHOUS-PLEOMORPHIC\",\"marker\":{\"color\":\"#B6E880\",\"pattern\":{\"shape\":\"\"}},\"name\":\"AMORPHOUS-PLEOMORPHIC\",\"offsetgroup\":\"AMORPHOUS-PLEOMORPHIC\",\"orientation\":\"v\",\"showlegend\":true,\"textposition\":\"auto\",\"x\":[\"AMORPHOUS-PLEOMORPHIC\"],\"xaxis\":\"x\",\"y\":[12],\"yaxis\":\"y\",\"type\":\"bar\"},{\"alignmentgroup\":\"True\",\"hovertemplate\":\"Count=%{x}\\u003cbr\\u003ecount=%{y}\\u003cextra\\u003e\\u003c\\u002fextra\\u003e\",\"legendgroup\":\"LARGE_RODLIKE-ROUND_AND_REGULAR\",\"marker\":{\"color\":\"#FF97FF\",\"pattern\":{\"shape\":\"\"}},\"name\":\"LARGE_RODLIKE-ROUND_AND_REGULAR\",\"offsetgroup\":\"LARGE_RODLIKE-ROUND_AND_REGULAR\",\"orientation\":\"v\",\"showlegend\":true,\"textposition\":\"auto\",\"x\":[\"LARGE_RODLIKE-ROUND_AND_REGULAR\"],\"xaxis\":\"x\",\"y\":[11],\"yaxis\":\"y\",\"type\":\"bar\"},{\"alignmentgroup\":\"True\",\"hovertemplate\":\"Count=%{x}\\u003cbr\\u003ecount=%{y}\\u003cextra\\u003e\\u003c\\u002fextra\\u003e\",\"legendgroup\":\"PUNCTATE-AMORPHOUS\",\"marker\":{\"color\":\"#FECB52\",\"pattern\":{\"shape\":\"\"}},\"name\":\"PUNCTATE-AMORPHOUS\",\"offsetgroup\":\"PUNCTATE-AMORPHOUS\",\"orientation\":\"v\",\"showlegend\":true,\"textposition\":\"auto\",\"x\":[\"PUNCTATE-AMORPHOUS\"],\"xaxis\":\"x\",\"y\":[10],\"yaxis\":\"y\",\"type\":\"bar\"},{\"alignmentgroup\":\"True\",\"hovertemplate\":\"Count=%{x}\\u003cbr\\u003ecount=%{y}\\u003cextra\\u003e\\u003c\\u002fextra\\u003e\",\"legendgroup\":\"COARSE-ROUND_AND_REGULAR-LUCENT_CENTER\",\"marker\":{\"color\":\"#636efa\",\"pattern\":{\"shape\":\"\"}},\"name\":\"COARSE-ROUND_AND_REGULAR-LUCENT_CENTER\",\"offsetgroup\":\"COARSE-ROUND_AND_REGULAR-LUCENT_CENTER\",\"orientation\":\"v\",\"showlegend\":true,\"textposition\":\"auto\",\"x\":[\"COARSE-ROUND_AND_REGULAR-LUCENT_CENTER\"],\"xaxis\":\"x\",\"y\":[10],\"yaxis\":\"y\",\"type\":\"bar\"},{\"alignmentgroup\":\"True\",\"hovertemplate\":\"Count=%{x}\\u003cbr\\u003ecount=%{y}\\u003cextra\\u003e\\u003c\\u002fextra\\u003e\",\"legendgroup\":\"VASCULAR-COARSE-LUCENT_CENTERED\",\"marker\":{\"color\":\"#EF553B\",\"pattern\":{\"shape\":\"\"}},\"name\":\"VASCULAR-COARSE-LUCENT_CENTERED\",\"offsetgroup\":\"VASCULAR-COARSE-LUCENT_CENTERED\",\"orientation\":\"v\",\"showlegend\":true,\"textposition\":\"auto\",\"x\":[\"VASCULAR-COARSE-LUCENT_CENTERED\"],\"xaxis\":\"x\",\"y\":[8],\"yaxis\":\"y\",\"type\":\"bar\"},{\"alignmentgroup\":\"True\",\"hovertemplate\":\"Count=%{x}\\u003cbr\\u003ecount=%{y}\\u003cextra\\u003e\\u003c\\u002fextra\\u003e\",\"legendgroup\":\"LUCENT_CENTER-PUNCTATE\",\"marker\":{\"color\":\"#00cc96\",\"pattern\":{\"shape\":\"\"}},\"name\":\"LUCENT_CENTER-PUNCTATE\",\"offsetgroup\":\"LUCENT_CENTER-PUNCTATE\",\"orientation\":\"v\",\"showlegend\":true,\"textposition\":\"auto\",\"x\":[\"LUCENT_CENTER-PUNCTATE\"],\"xaxis\":\"x\",\"y\":[8],\"yaxis\":\"y\",\"type\":\"bar\"},{\"alignmentgroup\":\"True\",\"hovertemplate\":\"Count=%{x}\\u003cbr\\u003ecount=%{y}\\u003cextra\\u003e\\u003c\\u002fextra\\u003e\",\"legendgroup\":\"ROUND_AND_REGULAR-PLEOMORPHIC\",\"marker\":{\"color\":\"#ab63fa\",\"pattern\":{\"shape\":\"\"}},\"name\":\"ROUND_AND_REGULAR-PLEOMORPHIC\",\"offsetgroup\":\"ROUND_AND_REGULAR-PLEOMORPHIC\",\"orientation\":\"v\",\"showlegend\":true,\"textposition\":\"auto\",\"x\":[\"ROUND_AND_REGULAR-PLEOMORPHIC\"],\"xaxis\":\"x\",\"y\":[7],\"yaxis\":\"y\",\"type\":\"bar\"},{\"alignmentgroup\":\"True\",\"hovertemplate\":\"Count=%{x}\\u003cbr\\u003ecount=%{y}\\u003cextra\\u003e\\u003c\\u002fextra\\u003e\",\"legendgroup\":\"EGGSHELL\",\"marker\":{\"color\":\"#FFA15A\",\"pattern\":{\"shape\":\"\"}},\"name\":\"EGGSHELL\",\"offsetgroup\":\"EGGSHELL\",\"orientation\":\"v\",\"showlegend\":true,\"textposition\":\"auto\",\"x\":[\"EGGSHELL\"],\"xaxis\":\"x\",\"y\":[7],\"yaxis\":\"y\",\"type\":\"bar\"},{\"alignmentgroup\":\"True\",\"hovertemplate\":\"Count=%{x}\\u003cbr\\u003ecount=%{y}\\u003cextra\\u003e\\u003c\\u002fextra\\u003e\",\"legendgroup\":\"PUNCTATE-FINE_LINEAR_BRANCHING\",\"marker\":{\"color\":\"#19d3f3\",\"pattern\":{\"shape\":\"\"}},\"name\":\"PUNCTATE-FINE_LINEAR_BRANCHING\",\"offsetgroup\":\"PUNCTATE-FINE_LINEAR_BRANCHING\",\"orientation\":\"v\",\"showlegend\":true,\"textposition\":\"auto\",\"x\":[\"PUNCTATE-FINE_LINEAR_BRANCHING\"],\"xaxis\":\"x\",\"y\":[6],\"yaxis\":\"y\",\"type\":\"bar\"},{\"alignmentgroup\":\"True\",\"hovertemplate\":\"Count=%{x}\\u003cbr\\u003ecount=%{y}\\u003cextra\\u003e\\u003c\\u002fextra\\u003e\",\"legendgroup\":\"VASCULAR-COARSE\",\"marker\":{\"color\":\"#FF6692\",\"pattern\":{\"shape\":\"\"}},\"name\":\"VASCULAR-COARSE\",\"offsetgroup\":\"VASCULAR-COARSE\",\"orientation\":\"v\",\"showlegend\":true,\"textposition\":\"auto\",\"x\":[\"VASCULAR-COARSE\"],\"xaxis\":\"x\",\"y\":[6],\"yaxis\":\"y\",\"type\":\"bar\"},{\"alignmentgroup\":\"True\",\"hovertemplate\":\"Count=%{x}\\u003cbr\\u003ecount=%{y}\\u003cextra\\u003e\\u003c\\u002fextra\\u003e\",\"legendgroup\":\"ROUND_AND_REGULAR-PUNCTATE\",\"marker\":{\"color\":\"#B6E880\",\"pattern\":{\"shape\":\"\"}},\"name\":\"ROUND_AND_REGULAR-PUNCTATE\",\"offsetgroup\":\"ROUND_AND_REGULAR-PUNCTATE\",\"orientation\":\"v\",\"showlegend\":true,\"textposition\":\"auto\",\"x\":[\"ROUND_AND_REGULAR-PUNCTATE\"],\"xaxis\":\"x\",\"y\":[5],\"yaxis\":\"y\",\"type\":\"bar\"},{\"alignmentgroup\":\"True\",\"hovertemplate\":\"Count=%{x}\\u003cbr\\u003ecount=%{y}\\u003cextra\\u003e\\u003c\\u002fextra\\u003e\",\"legendgroup\":\"SKIN-PUNCTATE-ROUND_AND_REGULAR\",\"marker\":{\"color\":\"#FF97FF\",\"pattern\":{\"shape\":\"\"}},\"name\":\"SKIN-PUNCTATE-ROUND_AND_REGULAR\",\"offsetgroup\":\"SKIN-PUNCTATE-ROUND_AND_REGULAR\",\"orientation\":\"v\",\"showlegend\":true,\"textposition\":\"auto\",\"x\":[\"SKIN-PUNCTATE-ROUND_AND_REGULAR\"],\"xaxis\":\"x\",\"y\":[4],\"yaxis\":\"y\",\"type\":\"bar\"},{\"alignmentgroup\":\"True\",\"hovertemplate\":\"Count=%{x}\\u003cbr\\u003ecount=%{y}\\u003cextra\\u003e\\u003c\\u002fextra\\u003e\",\"legendgroup\":\"SKIN-PUNCTATE\",\"marker\":{\"color\":\"#FECB52\",\"pattern\":{\"shape\":\"\"}},\"name\":\"SKIN-PUNCTATE\",\"offsetgroup\":\"SKIN-PUNCTATE\",\"orientation\":\"v\",\"showlegend\":true,\"textposition\":\"auto\",\"x\":[\"SKIN-PUNCTATE\"],\"xaxis\":\"x\",\"y\":[4],\"yaxis\":\"y\",\"type\":\"bar\"},{\"alignmentgroup\":\"True\",\"hovertemplate\":\"Count=%{x}\\u003cbr\\u003ecount=%{y}\\u003cextra\\u003e\\u003c\\u002fextra\\u003e\",\"legendgroup\":\"COARSE-ROUND_AND_REGULAR-LUCENT_CENTERED\",\"marker\":{\"color\":\"#636efa\",\"pattern\":{\"shape\":\"\"}},\"name\":\"COARSE-ROUND_AND_REGULAR-LUCENT_CENTERED\",\"offsetgroup\":\"COARSE-ROUND_AND_REGULAR-LUCENT_CENTERED\",\"orientation\":\"v\",\"showlegend\":true,\"textposition\":\"auto\",\"x\":[\"COARSE-ROUND_AND_REGULAR-LUCENT_CENTERED\"],\"xaxis\":\"x\",\"y\":[4],\"yaxis\":\"y\",\"type\":\"bar\"},{\"alignmentgroup\":\"True\",\"hovertemplate\":\"Count=%{x}\\u003cbr\\u003ecount=%{y}\\u003cextra\\u003e\\u003c\\u002fextra\\u003e\",\"legendgroup\":\"PUNCTATE-ROUND_AND_REGULAR\",\"marker\":{\"color\":\"#EF553B\",\"pattern\":{\"shape\":\"\"}},\"name\":\"PUNCTATE-ROUND_AND_REGULAR\",\"offsetgroup\":\"PUNCTATE-ROUND_AND_REGULAR\",\"orientation\":\"v\",\"showlegend\":true,\"textposition\":\"auto\",\"x\":[\"PUNCTATE-ROUND_AND_REGULAR\"],\"xaxis\":\"x\",\"y\":[4],\"yaxis\":\"y\",\"type\":\"bar\"},{\"alignmentgroup\":\"True\",\"hovertemplate\":\"Count=%{x}\\u003cbr\\u003ecount=%{y}\\u003cextra\\u003e\\u003c\\u002fextra\\u003e\",\"legendgroup\":\"LARGE_RODLIKE\",\"marker\":{\"color\":\"#00cc96\",\"pattern\":{\"shape\":\"\"}},\"name\":\"LARGE_RODLIKE\",\"offsetgroup\":\"LARGE_RODLIKE\",\"orientation\":\"v\",\"showlegend\":true,\"textposition\":\"auto\",\"x\":[\"LARGE_RODLIKE\"],\"xaxis\":\"x\",\"y\":[4],\"yaxis\":\"y\",\"type\":\"bar\"},{\"alignmentgroup\":\"True\",\"hovertemplate\":\"Count=%{x}\\u003cbr\\u003ecount=%{y}\\u003cextra\\u003e\\u003c\\u002fextra\\u003e\",\"legendgroup\":\"AMORPHOUS-ROUND_AND_REGULAR\",\"marker\":{\"color\":\"#ab63fa\",\"pattern\":{\"shape\":\"\"}},\"name\":\"AMORPHOUS-ROUND_AND_REGULAR\",\"offsetgroup\":\"AMORPHOUS-ROUND_AND_REGULAR\",\"orientation\":\"v\",\"showlegend\":true,\"textposition\":\"auto\",\"x\":[\"AMORPHOUS-ROUND_AND_REGULAR\"],\"xaxis\":\"x\",\"y\":[3],\"yaxis\":\"y\",\"type\":\"bar\"},{\"alignmentgroup\":\"True\",\"hovertemplate\":\"Count=%{x}\\u003cbr\\u003ecount=%{y}\\u003cextra\\u003e\\u003c\\u002fextra\\u003e\",\"legendgroup\":\"PUNCTATE-LUCENT_CENTER\",\"marker\":{\"color\":\"#FFA15A\",\"pattern\":{\"shape\":\"\"}},\"name\":\"PUNCTATE-LUCENT_CENTER\",\"offsetgroup\":\"PUNCTATE-LUCENT_CENTER\",\"orientation\":\"v\",\"showlegend\":true,\"textposition\":\"auto\",\"x\":[\"PUNCTATE-LUCENT_CENTER\"],\"xaxis\":\"x\",\"y\":[3],\"yaxis\":\"y\",\"type\":\"bar\"},{\"alignmentgroup\":\"True\",\"hovertemplate\":\"Count=%{x}\\u003cbr\\u003ecount=%{y}\\u003cextra\\u003e\\u003c\\u002fextra\\u003e\",\"legendgroup\":\"SKIN\",\"marker\":{\"color\":\"#19d3f3\",\"pattern\":{\"shape\":\"\"}},\"name\":\"SKIN\",\"offsetgroup\":\"SKIN\",\"orientation\":\"v\",\"showlegend\":true,\"textposition\":\"auto\",\"x\":[\"SKIN\"],\"xaxis\":\"x\",\"y\":[2],\"yaxis\":\"y\",\"type\":\"bar\"},{\"alignmentgroup\":\"True\",\"hovertemplate\":\"Count=%{x}\\u003cbr\\u003ecount=%{y}\\u003cextra\\u003e\\u003c\\u002fextra\\u003e\",\"legendgroup\":\"VASCULAR-COARSE-LUCENT_CENTER-ROUND_AND_REGULAR-PUNCTATE\",\"marker\":{\"color\":\"#FF6692\",\"pattern\":{\"shape\":\"\"}},\"name\":\"VASCULAR-COARSE-LUCENT_CENTER-ROUND_AND_REGULAR-PUNCTATE\",\"offsetgroup\":\"VASCULAR-COARSE-LUCENT_CENTER-ROUND_AND_REGULAR-PUNCTATE\",\"orientation\":\"v\",\"showlegend\":true,\"textposition\":\"auto\",\"x\":[\"VASCULAR-COARSE-LUCENT_CENTER-ROUND_AND_REGULAR-PUNCTATE\"],\"xaxis\":\"x\",\"y\":[2],\"yaxis\":\"y\",\"type\":\"bar\"},{\"alignmentgroup\":\"True\",\"hovertemplate\":\"Count=%{x}\\u003cbr\\u003ecount=%{y}\\u003cextra\\u003e\\u003c\\u002fextra\\u003e\",\"legendgroup\":\"COARSE-PLEOMORPHIC\",\"marker\":{\"color\":\"#B6E880\",\"pattern\":{\"shape\":\"\"}},\"name\":\"COARSE-PLEOMORPHIC\",\"offsetgroup\":\"COARSE-PLEOMORPHIC\",\"orientation\":\"v\",\"showlegend\":true,\"textposition\":\"auto\",\"x\":[\"COARSE-PLEOMORPHIC\"],\"xaxis\":\"x\",\"y\":[2],\"yaxis\":\"y\",\"type\":\"bar\"},{\"alignmentgroup\":\"True\",\"hovertemplate\":\"Count=%{x}\\u003cbr\\u003ecount=%{y}\\u003cextra\\u003e\\u003c\\u002fextra\\u003e\",\"legendgroup\":\"ROUND_AND_REGULAR-PUNCTATE-AMORPHOUS\",\"marker\":{\"color\":\"#FF97FF\",\"pattern\":{\"shape\":\"\"}},\"name\":\"ROUND_AND_REGULAR-PUNCTATE-AMORPHOUS\",\"offsetgroup\":\"ROUND_AND_REGULAR-PUNCTATE-AMORPHOUS\",\"orientation\":\"v\",\"showlegend\":true,\"textposition\":\"auto\",\"x\":[\"ROUND_AND_REGULAR-PUNCTATE-AMORPHOUS\"],\"xaxis\":\"x\",\"y\":[2],\"yaxis\":\"y\",\"type\":\"bar\"},{\"alignmentgroup\":\"True\",\"hovertemplate\":\"Count=%{x}\\u003cbr\\u003ecount=%{y}\\u003cextra\\u003e\\u003c\\u002fextra\\u003e\",\"legendgroup\":\"COARSE-LUCENT_CENTER\",\"marker\":{\"color\":\"#FECB52\",\"pattern\":{\"shape\":\"\"}},\"name\":\"COARSE-LUCENT_CENTER\",\"offsetgroup\":\"COARSE-LUCENT_CENTER\",\"orientation\":\"v\",\"showlegend\":true,\"textposition\":\"auto\",\"x\":[\"COARSE-LUCENT_CENTER\"],\"xaxis\":\"x\",\"y\":[2],\"yaxis\":\"y\",\"type\":\"bar\"},{\"alignmentgroup\":\"True\",\"hovertemplate\":\"Count=%{x}\\u003cbr\\u003ecount=%{y}\\u003cextra\\u003e\\u003c\\u002fextra\\u003e\",\"legendgroup\":\"MILK_OF_CALCIUM\",\"marker\":{\"color\":\"#636efa\",\"pattern\":{\"shape\":\"\"}},\"name\":\"MILK_OF_CALCIUM\",\"offsetgroup\":\"MILK_OF_CALCIUM\",\"orientation\":\"v\",\"showlegend\":true,\"textposition\":\"auto\",\"x\":[\"MILK_OF_CALCIUM\"],\"xaxis\":\"x\",\"y\":[2],\"yaxis\":\"y\",\"type\":\"bar\"},{\"alignmentgroup\":\"True\",\"hovertemplate\":\"Count=%{x}\\u003cbr\\u003ecount=%{y}\\u003cextra\\u003e\\u003c\\u002fextra\\u003e\",\"legendgroup\":\"COARSE-ROUND_AND_REGULAR\",\"marker\":{\"color\":\"#EF553B\",\"pattern\":{\"shape\":\"\"}},\"name\":\"COARSE-ROUND_AND_REGULAR\",\"offsetgroup\":\"COARSE-ROUND_AND_REGULAR\",\"orientation\":\"v\",\"showlegend\":true,\"textposition\":\"auto\",\"x\":[\"COARSE-ROUND_AND_REGULAR\"],\"xaxis\":\"x\",\"y\":[2],\"yaxis\":\"y\",\"type\":\"bar\"},{\"alignmentgroup\":\"True\",\"hovertemplate\":\"Count=%{x}\\u003cbr\\u003ecount=%{y}\\u003cextra\\u003e\\u003c\\u002fextra\\u003e\",\"legendgroup\":\"SKIN-COARSE-ROUND_AND_REGULAR\",\"marker\":{\"color\":\"#00cc96\",\"pattern\":{\"shape\":\"\"}},\"name\":\"SKIN-COARSE-ROUND_AND_REGULAR\",\"offsetgroup\":\"SKIN-COARSE-ROUND_AND_REGULAR\",\"orientation\":\"v\",\"showlegend\":true,\"textposition\":\"auto\",\"x\":[\"SKIN-COARSE-ROUND_AND_REGULAR\"],\"xaxis\":\"x\",\"y\":[1],\"yaxis\":\"y\",\"type\":\"bar\"},{\"alignmentgroup\":\"True\",\"hovertemplate\":\"Count=%{x}\\u003cbr\\u003ecount=%{y}\\u003cextra\\u003e\\u003c\\u002fextra\\u003e\",\"legendgroup\":\"ROUND_AND_REGULAR-AMORPHOUS\",\"marker\":{\"color\":\"#ab63fa\",\"pattern\":{\"shape\":\"\"}},\"name\":\"ROUND_AND_REGULAR-AMORPHOUS\",\"offsetgroup\":\"ROUND_AND_REGULAR-AMORPHOUS\",\"orientation\":\"v\",\"showlegend\":true,\"textposition\":\"auto\",\"x\":[\"ROUND_AND_REGULAR-AMORPHOUS\"],\"xaxis\":\"x\",\"y\":[1],\"yaxis\":\"y\",\"type\":\"bar\"},{\"alignmentgroup\":\"True\",\"hovertemplate\":\"Count=%{x}\\u003cbr\\u003ecount=%{y}\\u003cextra\\u003e\\u003c\\u002fextra\\u003e\",\"legendgroup\":\"PLEOMORPHIC-PLEOMORPHIC\",\"marker\":{\"color\":\"#FFA15A\",\"pattern\":{\"shape\":\"\"}},\"name\":\"PLEOMORPHIC-PLEOMORPHIC\",\"offsetgroup\":\"PLEOMORPHIC-PLEOMORPHIC\",\"orientation\":\"v\",\"showlegend\":true,\"textposition\":\"auto\",\"x\":[\"PLEOMORPHIC-PLEOMORPHIC\"],\"xaxis\":\"x\",\"y\":[1],\"yaxis\":\"y\",\"type\":\"bar\"}],                        {\"template\":{\"data\":{\"histogram2dcontour\":[{\"type\":\"histogram2dcontour\",\"colorbar\":{\"outlinewidth\":0,\"ticks\":\"\"},\"colorscale\":[[0.0,\"#0d0887\"],[0.1111111111111111,\"#46039f\"],[0.2222222222222222,\"#7201a8\"],[0.3333333333333333,\"#9c179e\"],[0.4444444444444444,\"#bd3786\"],[0.5555555555555556,\"#d8576b\"],[0.6666666666666666,\"#ed7953\"],[0.7777777777777778,\"#fb9f3a\"],[0.8888888888888888,\"#fdca26\"],[1.0,\"#f0f921\"]]}],\"choropleth\":[{\"type\":\"choropleth\",\"colorbar\":{\"outlinewidth\":0,\"ticks\":\"\"}}],\"histogram2d\":[{\"type\":\"histogram2d\",\"colorbar\":{\"outlinewidth\":0,\"ticks\":\"\"},\"colorscale\":[[0.0,\"#0d0887\"],[0.1111111111111111,\"#46039f\"],[0.2222222222222222,\"#7201a8\"],[0.3333333333333333,\"#9c179e\"],[0.4444444444444444,\"#bd3786\"],[0.5555555555555556,\"#d8576b\"],[0.6666666666666666,\"#ed7953\"],[0.7777777777777778,\"#fb9f3a\"],[0.8888888888888888,\"#fdca26\"],[1.0,\"#f0f921\"]]}],\"heatmap\":[{\"type\":\"heatmap\",\"colorbar\":{\"outlinewidth\":0,\"ticks\":\"\"},\"colorscale\":[[0.0,\"#0d0887\"],[0.1111111111111111,\"#46039f\"],[0.2222222222222222,\"#7201a8\"],[0.3333333333333333,\"#9c179e\"],[0.4444444444444444,\"#bd3786\"],[0.5555555555555556,\"#d8576b\"],[0.6666666666666666,\"#ed7953\"],[0.7777777777777778,\"#fb9f3a\"],[0.8888888888888888,\"#fdca26\"],[1.0,\"#f0f921\"]]}],\"heatmapgl\":[{\"type\":\"heatmapgl\",\"colorbar\":{\"outlinewidth\":0,\"ticks\":\"\"},\"colorscale\":[[0.0,\"#0d0887\"],[0.1111111111111111,\"#46039f\"],[0.2222222222222222,\"#7201a8\"],[0.3333333333333333,\"#9c179e\"],[0.4444444444444444,\"#bd3786\"],[0.5555555555555556,\"#d8576b\"],[0.6666666666666666,\"#ed7953\"],[0.7777777777777778,\"#fb9f3a\"],[0.8888888888888888,\"#fdca26\"],[1.0,\"#f0f921\"]]}],\"contourcarpet\":[{\"type\":\"contourcarpet\",\"colorbar\":{\"outlinewidth\":0,\"ticks\":\"\"}}],\"contour\":[{\"type\":\"contour\",\"colorbar\":{\"outlinewidth\":0,\"ticks\":\"\"},\"colorscale\":[[0.0,\"#0d0887\"],[0.1111111111111111,\"#46039f\"],[0.2222222222222222,\"#7201a8\"],[0.3333333333333333,\"#9c179e\"],[0.4444444444444444,\"#bd3786\"],[0.5555555555555556,\"#d8576b\"],[0.6666666666666666,\"#ed7953\"],[0.7777777777777778,\"#fb9f3a\"],[0.8888888888888888,\"#fdca26\"],[1.0,\"#f0f921\"]]}],\"surface\":[{\"type\":\"surface\",\"colorbar\":{\"outlinewidth\":0,\"ticks\":\"\"},\"colorscale\":[[0.0,\"#0d0887\"],[0.1111111111111111,\"#46039f\"],[0.2222222222222222,\"#7201a8\"],[0.3333333333333333,\"#9c179e\"],[0.4444444444444444,\"#bd3786\"],[0.5555555555555556,\"#d8576b\"],[0.6666666666666666,\"#ed7953\"],[0.7777777777777778,\"#fb9f3a\"],[0.8888888888888888,\"#fdca26\"],[1.0,\"#f0f921\"]]}],\"mesh3d\":[{\"type\":\"mesh3d\",\"colorbar\":{\"outlinewidth\":0,\"ticks\":\"\"}}],\"scatter\":[{\"fillpattern\":{\"fillmode\":\"overlay\",\"size\":10,\"solidity\":0.2},\"type\":\"scatter\"}],\"parcoords\":[{\"type\":\"parcoords\",\"line\":{\"colorbar\":{\"outlinewidth\":0,\"ticks\":\"\"}}}],\"scatterpolargl\":[{\"type\":\"scatterpolargl\",\"marker\":{\"colorbar\":{\"outlinewidth\":0,\"ticks\":\"\"}}}],\"bar\":[{\"error_x\":{\"color\":\"#2a3f5f\"},\"error_y\":{\"color\":\"#2a3f5f\"},\"marker\":{\"line\":{\"color\":\"#E5ECF6\",\"width\":0.5},\"pattern\":{\"fillmode\":\"overlay\",\"size\":10,\"solidity\":0.2}},\"type\":\"bar\"}],\"scattergeo\":[{\"type\":\"scattergeo\",\"marker\":{\"colorbar\":{\"outlinewidth\":0,\"ticks\":\"\"}}}],\"scatterpolar\":[{\"type\":\"scatterpolar\",\"marker\":{\"colorbar\":{\"outlinewidth\":0,\"ticks\":\"\"}}}],\"histogram\":[{\"marker\":{\"pattern\":{\"fillmode\":\"overlay\",\"size\":10,\"solidity\":0.2}},\"type\":\"histogram\"}],\"scattergl\":[{\"type\":\"scattergl\",\"marker\":{\"colorbar\":{\"outlinewidth\":0,\"ticks\":\"\"}}}],\"scatter3d\":[{\"type\":\"scatter3d\",\"line\":{\"colorbar\":{\"outlinewidth\":0,\"ticks\":\"\"}},\"marker\":{\"colorbar\":{\"outlinewidth\":0,\"ticks\":\"\"}}}],\"scattermapbox\":[{\"type\":\"scattermapbox\",\"marker\":{\"colorbar\":{\"outlinewidth\":0,\"ticks\":\"\"}}}],\"scatterternary\":[{\"type\":\"scatterternary\",\"marker\":{\"colorbar\":{\"outlinewidth\":0,\"ticks\":\"\"}}}],\"scattercarpet\":[{\"type\":\"scattercarpet\",\"marker\":{\"colorbar\":{\"outlinewidth\":0,\"ticks\":\"\"}}}],\"carpet\":[{\"aaxis\":{\"endlinecolor\":\"#2a3f5f\",\"gridcolor\":\"white\",\"linecolor\":\"white\",\"minorgridcolor\":\"white\",\"startlinecolor\":\"#2a3f5f\"},\"baxis\":{\"endlinecolor\":\"#2a3f5f\",\"gridcolor\":\"white\",\"linecolor\":\"white\",\"minorgridcolor\":\"white\",\"startlinecolor\":\"#2a3f5f\"},\"type\":\"carpet\"}],\"table\":[{\"cells\":{\"fill\":{\"color\":\"#EBF0F8\"},\"line\":{\"color\":\"white\"}},\"header\":{\"fill\":{\"color\":\"#C8D4E3\"},\"line\":{\"color\":\"white\"}},\"type\":\"table\"}],\"barpolar\":[{\"marker\":{\"line\":{\"color\":\"#E5ECF6\",\"width\":0.5},\"pattern\":{\"fillmode\":\"overlay\",\"size\":10,\"solidity\":0.2}},\"type\":\"barpolar\"}],\"pie\":[{\"automargin\":true,\"type\":\"pie\"}]},\"layout\":{\"autotypenumbers\":\"strict\",\"colorway\":[\"#636efa\",\"#EF553B\",\"#00cc96\",\"#ab63fa\",\"#FFA15A\",\"#19d3f3\",\"#FF6692\",\"#B6E880\",\"#FF97FF\",\"#FECB52\"],\"font\":{\"color\":\"#2a3f5f\"},\"hovermode\":\"closest\",\"hoverlabel\":{\"align\":\"left\"},\"paper_bgcolor\":\"white\",\"plot_bgcolor\":\"#E5ECF6\",\"polar\":{\"bgcolor\":\"#E5ECF6\",\"angularaxis\":{\"gridcolor\":\"white\",\"linecolor\":\"white\",\"ticks\":\"\"},\"radialaxis\":{\"gridcolor\":\"white\",\"linecolor\":\"white\",\"ticks\":\"\"}},\"ternary\":{\"bgcolor\":\"#E5ECF6\",\"aaxis\":{\"gridcolor\":\"white\",\"linecolor\":\"white\",\"ticks\":\"\"},\"baxis\":{\"gridcolor\":\"white\",\"linecolor\":\"white\",\"ticks\":\"\"},\"caxis\":{\"gridcolor\":\"white\",\"linecolor\":\"white\",\"ticks\":\"\"}},\"coloraxis\":{\"colorbar\":{\"outlinewidth\":0,\"ticks\":\"\"}},\"colorscale\":{\"sequential\":[[0.0,\"#0d0887\"],[0.1111111111111111,\"#46039f\"],[0.2222222222222222,\"#7201a8\"],[0.3333333333333333,\"#9c179e\"],[0.4444444444444444,\"#bd3786\"],[0.5555555555555556,\"#d8576b\"],[0.6666666666666666,\"#ed7953\"],[0.7777777777777778,\"#fb9f3a\"],[0.8888888888888888,\"#fdca26\"],[1.0,\"#f0f921\"]],\"sequentialminus\":[[0.0,\"#0d0887\"],[0.1111111111111111,\"#46039f\"],[0.2222222222222222,\"#7201a8\"],[0.3333333333333333,\"#9c179e\"],[0.4444444444444444,\"#bd3786\"],[0.5555555555555556,\"#d8576b\"],[0.6666666666666666,\"#ed7953\"],[0.7777777777777778,\"#fb9f3a\"],[0.8888888888888888,\"#fdca26\"],[1.0,\"#f0f921\"]],\"diverging\":[[0,\"#8e0152\"],[0.1,\"#c51b7d\"],[0.2,\"#de77ae\"],[0.3,\"#f1b6da\"],[0.4,\"#fde0ef\"],[0.5,\"#f7f7f7\"],[0.6,\"#e6f5d0\"],[0.7,\"#b8e186\"],[0.8,\"#7fbc41\"],[0.9,\"#4d9221\"],[1,\"#276419\"]]},\"xaxis\":{\"gridcolor\":\"white\",\"linecolor\":\"white\",\"ticks\":\"\",\"title\":{\"standoff\":15},\"zerolinecolor\":\"white\",\"automargin\":true,\"zerolinewidth\":2},\"yaxis\":{\"gridcolor\":\"white\",\"linecolor\":\"white\",\"ticks\":\"\",\"title\":{\"standoff\":15},\"zerolinecolor\":\"white\",\"automargin\":true,\"zerolinewidth\":2},\"scene\":{\"xaxis\":{\"backgroundcolor\":\"#E5ECF6\",\"gridcolor\":\"white\",\"linecolor\":\"white\",\"showbackground\":true,\"ticks\":\"\",\"zerolinecolor\":\"white\",\"gridwidth\":2},\"yaxis\":{\"backgroundcolor\":\"#E5ECF6\",\"gridcolor\":\"white\",\"linecolor\":\"white\",\"showbackground\":true,\"ticks\":\"\",\"zerolinecolor\":\"white\",\"gridwidth\":2},\"zaxis\":{\"backgroundcolor\":\"#E5ECF6\",\"gridcolor\":\"white\",\"linecolor\":\"white\",\"showbackground\":true,\"ticks\":\"\",\"zerolinecolor\":\"white\",\"gridwidth\":2}},\"shapedefaults\":{\"line\":{\"color\":\"#2a3f5f\"}},\"annotationdefaults\":{\"arrowcolor\":\"#2a3f5f\",\"arrowhead\":0,\"arrowwidth\":1},\"geo\":{\"bgcolor\":\"white\",\"landcolor\":\"#E5ECF6\",\"subunitcolor\":\"white\",\"showland\":true,\"showlakes\":true,\"lakecolor\":\"white\"},\"title\":{\"x\":0.05},\"mapbox\":{\"style\":\"light\"}}},\"xaxis\":{\"anchor\":\"y\",\"domain\":[0.0,1.0],\"title\":{\"text\":\"Count\"},\"categoryorder\":\"array\",\"categoryarray\":[\"PLEOMORPHIC\",\"AMORPHOUS\",\"PUNCTATE\",\"LUCENT_CENTER\",\"VASCULAR\",\"FINE_LINEAR_BRANCHING\",\"COARSE\",\"ROUND_AND_REGULAR-LUCENT_CENTER\",\"PLEOMORPHIC-FINE_LINEAR_BRANCHING\",\"ROUND_AND_REGULAR-LUCENT_CENTER-PUNCTATE\",\"ROUND_AND_REGULAR-EGGSHELL\",\"PUNCTATE-PLEOMORPHIC\",\"DYSTROPHIC\",\"LUCENT_CENTERED\",\"ROUND_AND_REGULAR-LUCENT_CENTER-DYSTROPHIC\",\"ROUND_AND_REGULAR\",\"ROUND_AND_REGULAR-LUCENT_CENTERED\",\"AMORPHOUS-PLEOMORPHIC\",\"LARGE_RODLIKE-ROUND_AND_REGULAR\",\"PUNCTATE-AMORPHOUS\",\"COARSE-ROUND_AND_REGULAR-LUCENT_CENTER\",\"VASCULAR-COARSE-LUCENT_CENTERED\",\"LUCENT_CENTER-PUNCTATE\",\"ROUND_AND_REGULAR-PLEOMORPHIC\",\"EGGSHELL\",\"PUNCTATE-FINE_LINEAR_BRANCHING\",\"VASCULAR-COARSE\",\"ROUND_AND_REGULAR-PUNCTATE\",\"SKIN-PUNCTATE-ROUND_AND_REGULAR\",\"SKIN-PUNCTATE\",\"COARSE-ROUND_AND_REGULAR-LUCENT_CENTERED\",\"PUNCTATE-ROUND_AND_REGULAR\",\"LARGE_RODLIKE\",\"AMORPHOUS-ROUND_AND_REGULAR\",\"PUNCTATE-LUCENT_CENTER\",\"SKIN\",\"VASCULAR-COARSE-LUCENT_CENTER-ROUND_AND_REGULAR-PUNCTATE\",\"COARSE-PLEOMORPHIC\",\"ROUND_AND_REGULAR-PUNCTATE-AMORPHOUS\",\"COARSE-LUCENT_CENTER\",\"MILK_OF_CALCIUM\",\"COARSE-ROUND_AND_REGULAR\",\"SKIN-COARSE-ROUND_AND_REGULAR\",\"ROUND_AND_REGULAR-AMORPHOUS\",\"PLEOMORPHIC-PLEOMORPHIC\"]},\"yaxis\":{\"anchor\":\"x\",\"domain\":[0.0,1.0],\"title\":{\"text\":\"count\"}},\"legend\":{\"title\":{\"text\":\"Count\"},\"tracegroupgap\":0},\"title\":{\"text\":\"Calcification Types Counts\"},\"barmode\":\"relative\"},                        {\"responsive\": true}                    ).then(function(){\n",
       "                            \n",
       "var gd = document.getElementById('d3a80960-8860-41bb-b97f-4a187a7bb59b');\n",
       "var x = new MutationObserver(function (mutations, observer) {{\n",
       "        var display = window.getComputedStyle(gd).display;\n",
       "        if (!display || display === 'none') {{\n",
       "            console.log([gd, 'removed!']);\n",
       "            Plotly.purge(gd);\n",
       "            observer.disconnect();\n",
       "        }}\n",
       "}});\n",
       "\n",
       "// Listen for the removal of the full notebook cells\n",
       "var notebookContainer = gd.closest('#notebook-container');\n",
       "if (notebookContainer) {{\n",
       "    x.observe(notebookContainer, {childList: true});\n",
       "}}\n",
       "\n",
       "// Listen for the clearing of the current output cell\n",
       "var outputEl = gd.closest('.output');\n",
       "if (outputEl) {{\n",
       "    x.observe(outputEl, {childList: true});\n",
       "}}\n",
       "\n",
       "                        })                };                });            </script>        </div>"
      ]
     },
     "metadata": {},
     "output_type": "display_data"
    }
   ],
   "source": [
    "import plotly.express as px\n",
    "\n",
    "bar1 = px.bar(data_frame=z, x='calc_type_counts', y='count', color='calc_type_counts', \n",
    "             title='Calcification Types Counts', labels={'index': 'Calcification Type', 'calc_type_counts': 'Count'})\n",
    "\n",
    "bar1.show()\n"
   ]
  },
  {
   "cell_type": "markdown",
   "id": "f3c33c45",
   "metadata": {
    "papermill": {
     "duration": 0.032157,
     "end_time": "2023-12-19T23:14:24.519614",
     "exception": false,
     "start_time": "2023-12-19T23:14:24.487457",
     "status": "completed"
    },
    "tags": []
   },
   "source": [
    "# Data Modeling"
   ]
  },
  {
   "cell_type": "code",
   "execution_count": 52,
   "id": "c64efa77",
   "metadata": {
    "execution": {
     "iopub.execute_input": "2023-12-19T23:14:24.586679Z",
     "iopub.status.busy": "2023-12-19T23:14:24.585886Z",
     "iopub.status.idle": "2023-12-19T23:14:24.590369Z",
     "shell.execute_reply": "2023-12-19T23:14:24.589545Z"
    },
    "papermill": {
     "duration": 0.039791,
     "end_time": "2023-12-19T23:14:24.592327",
     "exception": false,
     "start_time": "2023-12-19T23:14:24.552536",
     "status": "completed"
    },
    "tags": []
   },
   "outputs": [],
   "source": [
    "\n",
    "# Assuming you have image file paths in a list\n",
    "# image_paths = [\"../input/breast-histopathology-images/IDC_regular_ps50_idx5/10295/0/10295_idx5_x1351_y1101_class0.png\", ...]\n",
    "\n",
    "# Load images using OpenCV and store them in a list\n",
    "# images = [cv2.imread(image_path) for image_path in image_paths]\n",
    "\n",
    "# Convert the list of images to a NumPy array\n",
    "# X = np.array(images)\n",
    "\n",
    "# Convert X to a NumPy array with float data type\n",
    "# X = X.astype('float32')\n",
    "\n",
    "# Normalize the data (scale between 0 and 1)\n",
    "# X /= 255.0\n",
    "\n",
    "# Print the shape of X to verify it is a 4D array\n",
    "# print('Shape of X:', X.shape)\n"
   ]
  },
  {
   "cell_type": "code",
   "execution_count": 53,
   "id": "9225e045",
   "metadata": {
    "execution": {
     "iopub.execute_input": "2023-12-19T23:14:24.658749Z",
     "iopub.status.busy": "2023-12-19T23:14:24.658157Z",
     "iopub.status.idle": "2023-12-19T23:14:38.446369Z",
     "shell.execute_reply": "2023-12-19T23:14:38.445577Z"
    },
    "papermill": {
     "duration": 13.823938,
     "end_time": "2023-12-19T23:14:38.448650",
     "exception": false,
     "start_time": "2023-12-19T23:14:24.624712",
     "status": "completed"
    },
    "tags": []
   },
   "outputs": [],
   "source": [
    "from matplotlib.image import imread\n",
    "import cv2\n",
    "\n",
    "max_samples = 1000 \n",
    "some_non_img = random.sample(non_can_img, min(len(non_can_img), max_samples)) \n",
    "some_can_img = random.sample(can_img, min(len(can_img), max_samples)) \n",
    "\n",
    "non_img_arr = []\n",
    "can_img_arr = []\n",
    "\n",
    "for img in some_non_img: \n",
    "        \n",
    "    n_img = cv2.imread(img, cv2.IMREAD_COLOR) \n",
    "    n_img_size = cv2.resize(n_img, (50, 50), interpolation = cv2.INTER_LINEAR) \n",
    "    non_img_arr.append([n_img_size, 0])\n",
    "    \n",
    "for img in some_can_img: \n",
    "    \n",
    "    c_img = cv2.imread(img, cv2.IMREAD_COLOR)\n",
    "    c_img_size = cv2.resize(c_img, (50, 50), interpolation = cv2.INTER_LINEAR)\n",
    "    can_img_arr.append([c_img_size, 1])\n",
    "    \n",
    "breast_img_arr = non_img_arr + can_img_arr\n",
    "random.shuffle(breast_img_arr) "
   ]
  },
  {
   "cell_type": "code",
   "execution_count": 54,
   "id": "37f8a963",
   "metadata": {
    "execution": {
     "iopub.execute_input": "2023-12-19T23:14:38.517396Z",
     "iopub.status.busy": "2023-12-19T23:14:38.517061Z",
     "iopub.status.idle": "2023-12-19T23:14:38.528390Z",
     "shell.execute_reply": "2023-12-19T23:14:38.527351Z"
    },
    "papermill": {
     "duration": 0.04824,
     "end_time": "2023-12-19T23:14:38.530529",
     "exception": false,
     "start_time": "2023-12-19T23:14:38.482289",
     "status": "completed"
    },
    "tags": []
   },
   "outputs": [],
   "source": [
    "X = []\n",
    "y = []\n",
    "\n",
    "for feature, label in breast_img_arr: \n",
    "    X.append(feature)\n",
    "    y.append(label)\n",
    "\n",
    "\n",
    "X = np.array(X)\n",
    "y = np.array(y)"
   ]
  },
  {
   "cell_type": "code",
   "execution_count": 55,
   "id": "e093c9f4",
   "metadata": {
    "execution": {
     "iopub.execute_input": "2023-12-19T23:14:38.600711Z",
     "iopub.status.busy": "2023-12-19T23:14:38.599837Z",
     "iopub.status.idle": "2023-12-19T23:14:50.436022Z",
     "shell.execute_reply": "2023-12-19T23:14:50.434867Z"
    },
    "papermill": {
     "duration": 11.874432,
     "end_time": "2023-12-19T23:14:50.438248",
     "exception": false,
     "start_time": "2023-12-19T23:14:38.563816",
     "status": "completed"
    },
    "tags": []
   },
   "outputs": [
    {
     "name": "stdout",
     "output_type": "stream",
     "text": [
      "X_train shape : (1600, 50, 50, 3)\n",
      "X_test shape : (400, 50, 50, 3)\n",
      "y_train shape : (1600, 2)\n",
      "y_test shape : (400, 2)\n"
     ]
    }
   ],
   "source": [
    "from sklearn.model_selection import train_test_split\n",
    "from keras.utils import to_categorical\n",
    "\n",
    "\n",
    "\n",
    "X_train, X_test, y_train, y_test = train_test_split(X, y, test_size = 0.20, random_state = 42)\n",
    "\n",
    "rate = 0.5\n",
    "num = int(X.shape[0] * rate)\n",
    "\n",
    "y_train = to_categorical(y_train, 2)\n",
    "y_test = to_categorical(y_test, 2)\n",
    "\n",
    "\n",
    "print('X_train shape : {}' .format(X_train.shape))\n",
    "print('X_test shape : {}' .format(X_test.shape))\n",
    "print('y_train shape : {}' .format(y_train.shape))\n",
    "print('y_test shape : {}' .format(y_test.shape))"
   ]
  },
  {
   "cell_type": "code",
   "execution_count": 56,
   "id": "370bbb31",
   "metadata": {
    "execution": {
     "iopub.execute_input": "2023-12-19T23:14:50.508079Z",
     "iopub.status.busy": "2023-12-19T23:14:50.506995Z",
     "iopub.status.idle": "2023-12-19T23:15:03.788159Z",
     "shell.execute_reply": "2023-12-19T23:15:03.786745Z"
    },
    "papermill": {
     "duration": 13.318188,
     "end_time": "2023-12-19T23:15:03.790186",
     "exception": false,
     "start_time": "2023-12-19T23:14:50.471998",
     "status": "completed"
    },
    "tags": []
   },
   "outputs": [
    {
     "name": "stdout",
     "output_type": "stream",
     "text": [
      "Requirement already satisfied: tensorflow in /opt/conda/lib/python3.10/site-packages (2.13.0)\r\n",
      "Requirement already satisfied: absl-py>=1.0.0 in /opt/conda/lib/python3.10/site-packages (from tensorflow) (1.4.0)\r\n",
      "Requirement already satisfied: astunparse>=1.6.0 in /opt/conda/lib/python3.10/site-packages (from tensorflow) (1.6.3)\r\n",
      "Requirement already satisfied: flatbuffers>=23.1.21 in /opt/conda/lib/python3.10/site-packages (from tensorflow) (23.5.26)\r\n",
      "Requirement already satisfied: gast<=0.4.0,>=0.2.1 in /opt/conda/lib/python3.10/site-packages (from tensorflow) (0.4.0)\r\n",
      "Requirement already satisfied: google-pasta>=0.1.1 in /opt/conda/lib/python3.10/site-packages (from tensorflow) (0.2.0)\r\n",
      "Requirement already satisfied: grpcio<2.0,>=1.24.3 in /opt/conda/lib/python3.10/site-packages (from tensorflow) (1.51.1)\r\n",
      "Requirement already satisfied: h5py>=2.9.0 in /opt/conda/lib/python3.10/site-packages (from tensorflow) (3.9.0)\r\n",
      "Requirement already satisfied: keras<2.14,>=2.13.1 in /opt/conda/lib/python3.10/site-packages (from tensorflow) (2.13.1)\r\n",
      "Requirement already satisfied: libclang>=13.0.0 in /opt/conda/lib/python3.10/site-packages (from tensorflow) (16.0.6)\r\n",
      "Requirement already satisfied: numpy<=1.24.3,>=1.22 in /opt/conda/lib/python3.10/site-packages (from tensorflow) (1.24.3)\r\n",
      "Requirement already satisfied: opt-einsum>=2.3.2 in /opt/conda/lib/python3.10/site-packages (from tensorflow) (3.3.0)\r\n",
      "Requirement already satisfied: packaging in /opt/conda/lib/python3.10/site-packages (from tensorflow) (21.3)\r\n",
      "Requirement already satisfied: protobuf!=4.21.0,!=4.21.1,!=4.21.2,!=4.21.3,!=4.21.4,!=4.21.5,<5.0.0dev,>=3.20.3 in /opt/conda/lib/python3.10/site-packages (from tensorflow) (3.20.3)\r\n",
      "Requirement already satisfied: setuptools in /opt/conda/lib/python3.10/site-packages (from tensorflow) (68.1.2)\r\n",
      "Requirement already satisfied: six>=1.12.0 in /opt/conda/lib/python3.10/site-packages (from tensorflow) (1.16.0)\r\n",
      "Requirement already satisfied: tensorboard<2.14,>=2.13 in /opt/conda/lib/python3.10/site-packages (from tensorflow) (2.13.0)\r\n",
      "Requirement already satisfied: tensorflow-estimator<2.14,>=2.13.0 in /opt/conda/lib/python3.10/site-packages (from tensorflow) (2.13.0)\r\n",
      "Requirement already satisfied: termcolor>=1.1.0 in /opt/conda/lib/python3.10/site-packages (from tensorflow) (2.3.0)\r\n",
      "Requirement already satisfied: typing-extensions<4.6.0,>=3.6.6 in /opt/conda/lib/python3.10/site-packages (from tensorflow) (4.5.0)\r\n",
      "Requirement already satisfied: wrapt>=1.11.0 in /opt/conda/lib/python3.10/site-packages (from tensorflow) (1.15.0)\r\n",
      "Requirement already satisfied: tensorflow-io-gcs-filesystem>=0.23.1 in /opt/conda/lib/python3.10/site-packages (from tensorflow) (0.34.0)\r\n",
      "Requirement already satisfied: wheel<1.0,>=0.23.0 in /opt/conda/lib/python3.10/site-packages (from astunparse>=1.6.0->tensorflow) (0.41.2)\r\n",
      "Requirement already satisfied: google-auth<3,>=1.6.3 in /opt/conda/lib/python3.10/site-packages (from tensorboard<2.14,>=2.13->tensorflow) (2.22.0)\r\n",
      "Requirement already satisfied: google-auth-oauthlib<1.1,>=0.5 in /opt/conda/lib/python3.10/site-packages (from tensorboard<2.14,>=2.13->tensorflow) (1.0.0)\r\n",
      "Requirement already satisfied: markdown>=2.6.8 in /opt/conda/lib/python3.10/site-packages (from tensorboard<2.14,>=2.13->tensorflow) (3.4.4)\r\n",
      "Requirement already satisfied: requests<3,>=2.21.0 in /opt/conda/lib/python3.10/site-packages (from tensorboard<2.14,>=2.13->tensorflow) (2.31.0)\r\n",
      "Requirement already satisfied: tensorboard-data-server<0.8.0,>=0.7.0 in /opt/conda/lib/python3.10/site-packages (from tensorboard<2.14,>=2.13->tensorflow) (0.7.1)\r\n",
      "Requirement already satisfied: werkzeug>=1.0.1 in /opt/conda/lib/python3.10/site-packages (from tensorboard<2.14,>=2.13->tensorflow) (3.0.1)\r\n",
      "Requirement already satisfied: pyparsing!=3.0.5,>=2.0.2 in /opt/conda/lib/python3.10/site-packages (from packaging->tensorflow) (3.0.9)\r\n",
      "Requirement already satisfied: cachetools<6.0,>=2.0.0 in /opt/conda/lib/python3.10/site-packages (from google-auth<3,>=1.6.3->tensorboard<2.14,>=2.13->tensorflow) (4.2.4)\r\n",
      "Requirement already satisfied: pyasn1-modules>=0.2.1 in /opt/conda/lib/python3.10/site-packages (from google-auth<3,>=1.6.3->tensorboard<2.14,>=2.13->tensorflow) (0.2.7)\r\n",
      "Requirement already satisfied: rsa<5,>=3.1.4 in /opt/conda/lib/python3.10/site-packages (from google-auth<3,>=1.6.3->tensorboard<2.14,>=2.13->tensorflow) (4.9)\r\n",
      "Requirement already satisfied: urllib3<2.0 in /opt/conda/lib/python3.10/site-packages (from google-auth<3,>=1.6.3->tensorboard<2.14,>=2.13->tensorflow) (1.26.15)\r\n",
      "Requirement already satisfied: requests-oauthlib>=0.7.0 in /opt/conda/lib/python3.10/site-packages (from google-auth-oauthlib<1.1,>=0.5->tensorboard<2.14,>=2.13->tensorflow) (1.3.1)\r\n",
      "Requirement already satisfied: charset-normalizer<4,>=2 in /opt/conda/lib/python3.10/site-packages (from requests<3,>=2.21.0->tensorboard<2.14,>=2.13->tensorflow) (3.2.0)\r\n",
      "Requirement already satisfied: idna<4,>=2.5 in /opt/conda/lib/python3.10/site-packages (from requests<3,>=2.21.0->tensorboard<2.14,>=2.13->tensorflow) (3.4)\r\n",
      "Requirement already satisfied: certifi>=2017.4.17 in /opt/conda/lib/python3.10/site-packages (from requests<3,>=2.21.0->tensorboard<2.14,>=2.13->tensorflow) (2023.11.17)\r\n",
      "Requirement already satisfied: MarkupSafe>=2.1.1 in /opt/conda/lib/python3.10/site-packages (from werkzeug>=1.0.1->tensorboard<2.14,>=2.13->tensorflow) (2.1.3)\r\n",
      "Requirement already satisfied: pyasn1<0.5.0,>=0.4.6 in /opt/conda/lib/python3.10/site-packages (from pyasn1-modules>=0.2.1->google-auth<3,>=1.6.3->tensorboard<2.14,>=2.13->tensorflow) (0.4.8)\r\n",
      "Requirement already satisfied: oauthlib>=3.0.0 in /opt/conda/lib/python3.10/site-packages (from requests-oauthlib>=0.7.0->google-auth-oauthlib<1.1,>=0.5->tensorboard<2.14,>=2.13->tensorflow) (3.2.2)\r\n",
      "Note: you may need to restart the kernel to use updated packages.\n"
     ]
    }
   ],
   "source": [
    "pip install tensorflow\n"
   ]
  },
  {
   "cell_type": "code",
   "execution_count": 57,
   "id": "6c737ac7",
   "metadata": {
    "execution": {
     "iopub.execute_input": "2023-12-19T23:15:03.862320Z",
     "iopub.status.busy": "2023-12-19T23:15:03.861861Z",
     "iopub.status.idle": "2023-12-19T23:15:06.981834Z",
     "shell.execute_reply": "2023-12-19T23:15:06.980799Z"
    },
    "papermill": {
     "duration": 3.159637,
     "end_time": "2023-12-19T23:15:06.984207",
     "exception": false,
     "start_time": "2023-12-19T23:15:03.824570",
     "status": "completed"
    },
    "tags": []
   },
   "outputs": [],
   "source": [
    "import tensorflow as tf \n",
    "tf.random.set_seed(100)\n",
    "model = tf.keras.Sequential([\n",
    "tf.keras.layers.Conv2D(32, (3, 3), padding = 'same', activation = 'relu', input_shape = (50, 50, 3)),\n",
    "tf.keras.layers.MaxPooling2D(strides = 2),\n",
    "tf.keras.layers.Conv2D(64, (3, 3), padding = 'same', activation = 'relu'),\n",
    "tf.keras.layers.MaxPooling2D((3, 3),strides = 2),\n",
    "tf.keras.layers.Conv2D(128, (3, 3), padding = 'same', activation = 'relu'),\n",
    "tf.keras.layers.MaxPooling2D((3, 3),strides =2),\n",
    "tf.keras.layers.Conv2D(128, (3, 3), padding = 'same', activation = 'relu'),\n",
    "tf.keras.layers.MaxPooling2D((3, 3),strides =2),\n",
    "tf.keras.layers.Flatten(),\n",
    "tf.keras.layers.Dense(128, activation = 'relu'),\n",
    "tf.keras.layers.Dense(2, activation = 'softmax')\n",
    "]) "
   ]
  },
  {
   "cell_type": "code",
   "execution_count": null,
   "id": "55a22a16",
   "metadata": {
    "papermill": {
     "duration": 0.034612,
     "end_time": "2023-12-19T23:15:07.052929",
     "exception": false,
     "start_time": "2023-12-19T23:15:07.018317",
     "status": "completed"
    },
    "tags": []
   },
   "outputs": [],
   "source": []
  },
  {
   "cell_type": "code",
   "execution_count": 58,
   "id": "e0f16ba7",
   "metadata": {
    "execution": {
     "iopub.execute_input": "2023-12-19T23:15:07.124631Z",
     "iopub.status.busy": "2023-12-19T23:15:07.124242Z",
     "iopub.status.idle": "2023-12-19T23:15:07.160868Z",
     "shell.execute_reply": "2023-12-19T23:15:07.159855Z"
    },
    "papermill": {
     "duration": 0.085133,
     "end_time": "2023-12-19T23:15:07.173348",
     "exception": false,
     "start_time": "2023-12-19T23:15:07.088215",
     "status": "completed"
    },
    "tags": []
   },
   "outputs": [
    {
     "name": "stdout",
     "output_type": "stream",
     "text": [
      "Model: \"sequential\"\n",
      "_________________________________________________________________\n",
      " Layer (type)                Output Shape              Param #   \n",
      "=================================================================\n",
      " conv2d (Conv2D)             (None, 50, 50, 32)        896       \n",
      "                                                                 \n",
      " max_pooling2d (MaxPooling2  (None, 25, 25, 32)        0         \n",
      " D)                                                              \n",
      "                                                                 \n",
      " conv2d_1 (Conv2D)           (None, 25, 25, 64)        18496     \n",
      "                                                                 \n",
      " max_pooling2d_1 (MaxPoolin  (None, 12, 12, 64)        0         \n",
      " g2D)                                                            \n",
      "                                                                 \n",
      " conv2d_2 (Conv2D)           (None, 12, 12, 128)       73856     \n",
      "                                                                 \n",
      " max_pooling2d_2 (MaxPoolin  (None, 5, 5, 128)         0         \n",
      " g2D)                                                            \n",
      "                                                                 \n",
      " conv2d_3 (Conv2D)           (None, 5, 5, 128)         147584    \n",
      "                                                                 \n",
      " max_pooling2d_3 (MaxPoolin  (None, 2, 2, 128)         0         \n",
      " g2D)                                                            \n",
      "                                                                 \n",
      " flatten (Flatten)           (None, 512)               0         \n",
      "                                                                 \n",
      " dense (Dense)               (None, 128)               65664     \n",
      "                                                                 \n",
      " dense_1 (Dense)             (None, 2)                 258       \n",
      "                                                                 \n",
      "=================================================================\n",
      "Total params: 306754 (1.17 MB)\n",
      "Trainable params: 306754 (1.17 MB)\n",
      "Non-trainable params: 0 (0.00 Byte)\n",
      "_________________________________________________________________\n"
     ]
    }
   ],
   "source": [
    "model.summary()"
   ]
  },
  {
   "cell_type": "code",
   "execution_count": 59,
   "id": "6a56e87d",
   "metadata": {
    "execution": {
     "iopub.execute_input": "2023-12-19T23:15:07.249137Z",
     "iopub.status.busy": "2023-12-19T23:15:07.248775Z",
     "iopub.status.idle": "2023-12-19T23:15:21.404785Z",
     "shell.execute_reply": "2023-12-19T23:15:21.403730Z"
    },
    "papermill": {
     "duration": 14.196176,
     "end_time": "2023-12-19T23:15:21.406996",
     "exception": false,
     "start_time": "2023-12-19T23:15:07.210820",
     "status": "completed"
    },
    "tags": []
   },
   "outputs": [
    {
     "name": "stdout",
     "output_type": "stream",
     "text": [
      "Epoch 1/25\n",
      "22/22 [==============================] - 10s 27ms/step - loss: 7.7429 - accuracy: 0.5256 - val_loss: 5.2794 - val_accuracy: 0.5500\n",
      "Epoch 2/25\n",
      "22/22 [==============================] - 0s 9ms/step - loss: 14.0988 - accuracy: 0.6181 - val_loss: 39.5765 - val_accuracy: 0.5475\n",
      "Epoch 3/25\n",
      "22/22 [==============================] - 0s 8ms/step - loss: 6.6402 - accuracy: 0.5569 - val_loss: 13.8827 - val_accuracy: 0.5000\n",
      "Epoch 4/25\n",
      "22/22 [==============================] - 0s 8ms/step - loss: 11.0401 - accuracy: 0.5506 - val_loss: 41.9079 - val_accuracy: 0.4650\n",
      "Epoch 5/25\n",
      "22/22 [==============================] - 0s 8ms/step - loss: 12.1029 - accuracy: 0.5612 - val_loss: 19.3252 - val_accuracy: 0.7325\n",
      "Epoch 6/25\n",
      "22/22 [==============================] - 0s 8ms/step - loss: 5.2295 - accuracy: 0.7362 - val_loss: 13.3863 - val_accuracy: 0.7350\n",
      "Epoch 7/25\n",
      "22/22 [==============================] - 0s 9ms/step - loss: 2.0672 - accuracy: 0.7481 - val_loss: 3.9875 - val_accuracy: 0.7900\n",
      "Epoch 8/25\n",
      "22/22 [==============================] - 0s 8ms/step - loss: 5.1717 - accuracy: 0.7469 - val_loss: 16.3527 - val_accuracy: 0.6425\n",
      "Epoch 9/25\n",
      "22/22 [==============================] - 0s 8ms/step - loss: 1.9618 - accuracy: 0.7256 - val_loss: 4.1556 - val_accuracy: 0.7325\n",
      "Epoch 10/25\n",
      "22/22 [==============================] - 0s 8ms/step - loss: 1.8458 - accuracy: 0.7500 - val_loss: 5.2183 - val_accuracy: 0.8175\n",
      "Epoch 11/25\n",
      "22/22 [==============================] - 0s 9ms/step - loss: 3.6341 - accuracy: 0.7725 - val_loss: 6.3848 - val_accuracy: 0.7375\n",
      "Epoch 12/25\n",
      "22/22 [==============================] - 0s 9ms/step - loss: 4.0475 - accuracy: 0.7469 - val_loss: 12.6912 - val_accuracy: 0.4775\n",
      "Epoch 13/25\n",
      "22/22 [==============================] - 0s 8ms/step - loss: 2.3352 - accuracy: 0.6850 - val_loss: 5.8181 - val_accuracy: 0.7350\n",
      "Epoch 14/25\n",
      "22/22 [==============================] - 0s 8ms/step - loss: 1.7155 - accuracy: 0.7600 - val_loss: 2.9875 - val_accuracy: 0.7025\n",
      "Epoch 15/25\n",
      "22/22 [==============================] - 0s 8ms/step - loss: 3.7828 - accuracy: 0.7456 - val_loss: 8.5907 - val_accuracy: 0.7400\n",
      "Epoch 16/25\n",
      "22/22 [==============================] - 0s 8ms/step - loss: 1.8183 - accuracy: 0.7494 - val_loss: 4.3436 - val_accuracy: 0.7375\n",
      "Epoch 17/25\n",
      "22/22 [==============================] - 0s 8ms/step - loss: 1.4580 - accuracy: 0.7756 - val_loss: 3.7746 - val_accuracy: 0.7650\n",
      "Epoch 18/25\n",
      "22/22 [==============================] - 0s 8ms/step - loss: 1.6032 - accuracy: 0.7756 - val_loss: 2.1945 - val_accuracy: 0.7650\n",
      "Epoch 19/25\n",
      "22/22 [==============================] - 0s 8ms/step - loss: 3.9329 - accuracy: 0.7738 - val_loss: 11.1338 - val_accuracy: 0.6350\n",
      "Epoch 20/25\n",
      "22/22 [==============================] - 0s 8ms/step - loss: 0.8994 - accuracy: 0.7225 - val_loss: 2.1765 - val_accuracy: 0.7975\n",
      "Epoch 21/25\n",
      "22/22 [==============================] - 0s 9ms/step - loss: 1.1980 - accuracy: 0.7775 - val_loss: 2.6579 - val_accuracy: 0.7650\n",
      "Epoch 22/25\n",
      "22/22 [==============================] - 0s 8ms/step - loss: 2.2125 - accuracy: 0.7556 - val_loss: 10.1926 - val_accuracy: 0.7700\n",
      "Epoch 23/25\n",
      "22/22 [==============================] - 0s 9ms/step - loss: 0.8622 - accuracy: 0.7869 - val_loss: 1.2504 - val_accuracy: 0.8300\n",
      "Epoch 24/25\n",
      "22/22 [==============================] - 0s 9ms/step - loss: 1.2188 - accuracy: 0.7919 - val_loss: 3.1007 - val_accuracy: 0.8150\n",
      "Epoch 25/25\n",
      "22/22 [==============================] - 0s 9ms/step - loss: 1.8230 - accuracy: 0.7862 - val_loss: 3.4336 - val_accuracy: 0.7775\n"
     ]
    }
   ],
   "source": [
    "model.compile(optimizer=tf.keras.optimizers.Adam(learning_rate=0.001),loss='binary_crossentropy',metrics=['accuracy'])\n",
    "\n",
    "history = model.fit(X_train, y_train, validation_data = (X_test, y_test), epochs = 25 , batch_size = 75)"
   ]
  },
  {
   "cell_type": "code",
   "execution_count": 60,
   "id": "4bdfad31",
   "metadata": {
    "execution": {
     "iopub.execute_input": "2023-12-19T23:15:21.505037Z",
     "iopub.status.busy": "2023-12-19T23:15:21.504089Z",
     "iopub.status.idle": "2023-12-19T23:15:21.872307Z",
     "shell.execute_reply": "2023-12-19T23:15:21.871347Z"
    },
    "papermill": {
     "duration": 0.419116,
     "end_time": "2023-12-19T23:15:21.874472",
     "exception": false,
     "start_time": "2023-12-19T23:15:21.455356",
     "status": "completed"
    },
    "tags": []
   },
   "outputs": [
    {
     "name": "stdout",
     "output_type": "stream",
     "text": [
      "13/13 [==============================] - 0s 9ms/step - loss: 1.2694 - accuracy: 0.5250\n"
     ]
    },
    {
     "data": {
      "text/plain": [
       "[1.2694021463394165, 0.5249999761581421]"
      ]
     },
     "execution_count": 60,
     "metadata": {},
     "output_type": "execute_result"
    }
   ],
   "source": [
    "model.evaluate(X_test,y_test)"
   ]
  },
  {
   "cell_type": "markdown",
   "id": "f6a2d481",
   "metadata": {
    "papermill": {
     "duration": 0.046746,
     "end_time": "2023-12-19T23:15:21.969973",
     "exception": false,
     "start_time": "2023-12-19T23:15:21.923227",
     "status": "completed"
    },
    "tags": []
   },
   "source": [
    "Şimdi de modelin test verisi üzerindeki tahminlerini kullanarak bir karışıklık matrisi (confusion matrix) oluşturalım. Bu matrisi de ısı haritası şeklinde görselleştirelim."
   ]
  },
  {
   "cell_type": "code",
   "execution_count": 61,
   "id": "d57824a6",
   "metadata": {
    "execution": {
     "iopub.execute_input": "2023-12-19T23:15:22.065419Z",
     "iopub.status.busy": "2023-12-19T23:15:22.064559Z",
     "iopub.status.idle": "2023-12-19T23:15:22.589890Z",
     "shell.execute_reply": "2023-12-19T23:15:22.588747Z"
    },
    "papermill": {
     "duration": 0.575729,
     "end_time": "2023-12-19T23:15:22.592048",
     "exception": false,
     "start_time": "2023-12-19T23:15:22.016319",
     "status": "completed"
    },
    "tags": []
   },
   "outputs": [
    {
     "name": "stdout",
     "output_type": "stream",
     "text": [
      "13/13 [==============================] - 0s 2ms/step\n"
     ]
    },
    {
     "data": {
      "image/png": "[encoded data removed]",
      "text/plain": [
       "<Figure size 800x800 with 2 Axes>"
      ]
     },
     "metadata": {},
     "output_type": "display_data"
    }
   ],
   "source": [
    "from sklearn.metrics import confusion_matrix\n",
    "Y_pred = model.predict(X_test)\n",
    "Y_pred_classes = np.argmax(Y_pred,axis = 1) \n",
    "Y_true = np.argmax(y_test,axis = 1) \n",
    "\n",
    "confusion_mtx = confusion_matrix(Y_true, Y_pred_classes) \n",
    "f,ax = plt.subplots(figsize=(8, 8))\n",
    "sns.heatmap(confusion_mtx, annot=True, linewidths=0.01,cmap=\"BuPu\",linecolor=\"gray\", fmt= '.1f',ax=ax)\n",
    "plt.xlabel(\"Predicted Label\")\n",
    "plt.ylabel(\"True Label\")\n",
    "plt.title(\"Confusion Matrix\")\n",
    "plt.show()"
   ]
  },
  {
   "cell_type": "code",
   "execution_count": 62,
   "id": "0152173b",
   "metadata": {
    "execution": {
     "iopub.execute_input": "2023-12-19T23:15:22.781924Z",
     "iopub.status.busy": "2023-12-19T23:15:22.781534Z",
     "iopub.status.idle": "2023-12-19T23:15:23.018062Z",
     "shell.execute_reply": "2023-12-19T23:15:23.017122Z"
    },
    "papermill": {
     "duration": 0.286325,
     "end_time": "2023-12-19T23:15:23.020433",
     "exception": false,
     "start_time": "2023-12-19T23:15:22.734108",
     "status": "completed"
    },
    "tags": []
   },
   "outputs": [
    {
     "data": {
      "image/png": "[encoded data removed]",
      "text/plain": [
       "<Figure size 640x480 with 1 Axes>"
      ]
     },
     "metadata": {},
     "output_type": "display_data"
    }
   ],
   "source": [
    "plt.plot(history.history['accuracy'])\n",
    "plt.plot(history.history['val_accuracy'])\n",
    "plt.title('Model Accuracy')\n",
    "plt.ylabel('accuracy')\n",
    "plt.xlabel('epoch')\n",
    "plt.legend(['train', 'test'], loc='upper left')\n",
    "plt.show()"
   ]
  },
  {
   "cell_type": "code",
   "execution_count": 63,
   "id": "9b26f53a",
   "metadata": {
    "execution": {
     "iopub.execute_input": "2023-12-19T23:15:23.228270Z",
     "iopub.status.busy": "2023-12-19T23:15:23.227891Z",
     "iopub.status.idle": "2023-12-19T23:15:23.517203Z",
     "shell.execute_reply": "2023-12-19T23:15:23.516189Z"
    },
    "papermill": {
     "duration": 0.343238,
     "end_time": "2023-12-19T23:15:23.519678",
     "exception": false,
     "start_time": "2023-12-19T23:15:23.176440",
     "status": "completed"
    },
    "tags": []
   },
   "outputs": [
    {
     "data": {
      "image/png": "[encoded data removed]",
      "text/plain": [
       "<Figure size 640x480 with 1 Axes>"
      ]
     },
     "metadata": {},
     "output_type": "display_data"
    }
   ],
   "source": [
    "plt.plot(history.history['loss'])\n",
    "plt.plot(history.history['val_loss'])\n",
    "plt.title('Model Loss')\n",
    "plt.ylabel('loss')\n",
    "plt.xlabel('epoch')\n",
    "plt.legend(['train', 'test'], loc='upper left')\n",
    "plt.show()"
   ]
  },
  {
   "cell_type": "code",
   "execution_count": 64,
   "id": "4ae6708e",
   "metadata": {
    "execution": {
     "iopub.execute_input": "2023-12-19T23:15:23.620614Z",
     "iopub.status.busy": "2023-12-19T23:15:23.619826Z",
     "iopub.status.idle": "2023-12-19T23:15:23.729591Z",
     "shell.execute_reply": "2023-12-19T23:15:23.728594Z"
    },
    "papermill": {
     "duration": 0.163074,
     "end_time": "2023-12-19T23:15:23.732374",
     "exception": false,
     "start_time": "2023-12-19T23:15:23.569300",
     "status": "completed"
    },
    "tags": []
   },
   "outputs": [
    {
     "name": "stdout",
     "output_type": "stream",
     "text": [
      "13/13 [==============================] - 0s 2ms/step\n"
     ]
    },
    {
     "data": {
      "text/plain": [
       "array([[9.99941707e-01, 5.83199035e-05],\n",
       "       [9.99999523e-01, 4.31621686e-07],\n",
       "       [9.97699559e-01, 2.30044383e-03],\n",
       "       [9.85867918e-01, 1.41320424e-02],\n",
       "       [9.99131143e-01, 8.68851086e-04],\n",
       "       [8.24154913e-01, 1.75845087e-01],\n",
       "       [7.33767509e-01, 2.66232431e-01],\n",
       "       [9.96964037e-01, 3.03594978e-03],\n",
       "       [9.99755442e-01, 2.44605908e-04],\n",
       "       [6.51138544e-01, 3.48861456e-01],\n",
       "       [7.68827856e-01, 2.31172115e-01],\n",
       "       [9.99958158e-01, 4.17898882e-05],\n",
       "       [9.70030129e-01, 2.99698804e-02],\n",
       "       [6.19039059e-01, 3.80961001e-01],\n",
       "       [1.00000000e+00, 1.53705244e-08],\n",
       "       [5.87570846e-01, 4.12429154e-01],\n",
       "       [9.86400127e-01, 1.35999024e-02],\n",
       "       [8.45648766e-01, 1.54351294e-01],\n",
       "       [9.79089439e-01, 2.09105611e-02],\n",
       "       [9.99993205e-01, 6.81539768e-06],\n",
       "       [9.99627471e-01, 3.72531504e-04],\n",
       "       [9.99209762e-01, 7.90199148e-04],\n",
       "       [9.99875426e-01, 1.24604529e-04],\n",
       "       [9.88975286e-01, 1.10247070e-02],\n",
       "       [9.99966979e-01, 3.30267685e-05],\n",
       "       [1.00000000e+00, 1.72467391e-08],\n",
       "       [9.46604669e-01, 5.33953644e-02],\n",
       "       [1.00000000e+00, 5.30614201e-08],\n",
       "       [9.97344434e-01, 2.65552825e-03],\n",
       "       [9.99993086e-01, 6.90438719e-06],\n",
       "       [9.99999642e-01, 4.14634314e-07],\n",
       "       [6.60438955e-01, 3.39561045e-01],\n",
       "       [9.99992609e-01, 7.39564075e-06],\n",
       "       [9.99996781e-01, 3.21330413e-06],\n",
       "       [9.63590205e-01, 3.64098176e-02],\n",
       "       [7.96906471e-01, 2.03093529e-01],\n",
       "       [8.36903811e-01, 1.63096219e-01],\n",
       "       [1.00000000e+00, 5.31289368e-09],\n",
       "       [1.00000000e+00, 1.08465281e-09],\n",
       "       [9.19633090e-01, 8.03668499e-02],\n",
       "       [9.16521013e-01, 8.34789798e-02],\n",
       "       [9.99324679e-01, 6.75381918e-04],\n",
       "       [9.99815166e-01, 1.84817502e-04],\n",
       "       [8.74489069e-01, 1.25510991e-01],\n",
       "       [9.98967290e-01, 1.03276374e-03],\n",
       "       [9.99914289e-01, 8.57220293e-05],\n",
       "       [1.00000000e+00, 1.72384085e-09],\n",
       "       [1.00000000e+00, 9.42784516e-15],\n",
       "       [9.99997735e-01, 2.28455724e-06],\n",
       "       [7.31042147e-01, 2.68957794e-01],\n",
       "       [9.99681711e-01, 3.18253995e-04],\n",
       "       [5.97559035e-01, 4.02440965e-01],\n",
       "       [9.99971747e-01, 2.82866840e-05],\n",
       "       [9.88234878e-01, 1.17651289e-02],\n",
       "       [9.99990344e-01, 9.63551611e-06],\n",
       "       [9.99989033e-01, 1.09715756e-05],\n",
       "       [9.99202430e-01, 7.97554909e-04],\n",
       "       [9.99997377e-01, 2.60147499e-06],\n",
       "       [9.99745190e-01, 2.54752958e-04],\n",
       "       [9.42092121e-01, 5.79078645e-02],\n",
       "       [9.91346657e-01, 8.65331851e-03],\n",
       "       [8.68314564e-01, 1.31685451e-01],\n",
       "       [7.97291458e-01, 2.02708513e-01],\n",
       "       [9.98533607e-01, 1.46637729e-03],\n",
       "       [9.99998450e-01, 1.51516394e-06],\n",
       "       [7.03362107e-01, 2.96637893e-01],\n",
       "       [9.99999881e-01, 1.26720991e-07],\n",
       "       [8.26044083e-01, 1.73955977e-01],\n",
       "       [9.99999166e-01, 7.97497535e-07],\n",
       "       [9.99996543e-01, 3.48179287e-06],\n",
       "       [8.12522292e-01, 1.87477723e-01],\n",
       "       [1.00000000e+00, 2.54770711e-08],\n",
       "       [9.10765171e-01, 8.92348811e-02],\n",
       "       [8.56618404e-01, 1.43381611e-01],\n",
       "       [9.99994278e-01, 5.71658620e-06],\n",
       "       [7.02585816e-01, 2.97414154e-01],\n",
       "       [9.99999285e-01, 7.71181590e-07],\n",
       "       [5.42223454e-01, 4.57776576e-01],\n",
       "       [9.31774557e-01, 6.82253838e-02],\n",
       "       [9.77479041e-01, 2.25209817e-02],\n",
       "       [5.38659751e-01, 4.61340189e-01],\n",
       "       [7.77107656e-01, 2.22892374e-01],\n",
       "       [6.24847829e-01, 3.75152230e-01],\n",
       "       [7.06672549e-01, 2.93327451e-01],\n",
       "       [1.00000000e+00, 1.15995625e-11],\n",
       "       [9.99979377e-01, 2.05913493e-05],\n",
       "       [9.99999523e-01, 4.64957282e-07],\n",
       "       [9.66327429e-01, 3.36726196e-02],\n",
       "       [8.59088182e-01, 1.40911773e-01],\n",
       "       [9.84649241e-01, 1.53507032e-02],\n",
       "       [9.99993563e-01, 6.42635132e-06],\n",
       "       [9.93007064e-01, 6.99296640e-03],\n",
       "       [7.91361153e-01, 2.08638817e-01],\n",
       "       [9.98225510e-01, 1.77452480e-03],\n",
       "       [1.00000000e+00, 2.15992735e-08],\n",
       "       [5.29498518e-01, 4.70501453e-01],\n",
       "       [8.92142892e-01, 1.07857138e-01],\n",
       "       [9.63258088e-01, 3.67419831e-02],\n",
       "       [9.99175370e-01, 8.24574090e-04],\n",
       "       [8.18330526e-01, 1.81669518e-01],\n",
       "       [5.38450181e-01, 4.61549819e-01],\n",
       "       [9.99999285e-01, 6.83769372e-07],\n",
       "       [9.99946117e-01, 5.38604327e-05],\n",
       "       [9.99970675e-01, 2.93079356e-05],\n",
       "       [6.00692630e-01, 3.99307370e-01],\n",
       "       [9.79970574e-01, 2.00293642e-02],\n",
       "       [1.00000000e+00, 4.77229671e-12],\n",
       "       [1.00000000e+00, 3.48662567e-25],\n",
       "       [9.99943137e-01, 5.68167015e-05],\n",
       "       [1.00000000e+00, 1.93735611e-10],\n",
       "       [8.74156713e-01, 1.25843272e-01],\n",
       "       [9.99977827e-01, 2.22074377e-05],\n",
       "       [9.99981761e-01, 1.81791947e-05],\n",
       "       [9.99769032e-01, 2.30983918e-04],\n",
       "       [9.60043311e-01, 3.99566703e-02],\n",
       "       [9.37692642e-01, 6.23072945e-02],\n",
       "       [6.62037671e-01, 3.37962270e-01],\n",
       "       [6.05481982e-01, 3.94518048e-01],\n",
       "       [1.00000000e+00, 1.02554747e-15],\n",
       "       [1.00000000e+00, 7.74055753e-09],\n",
       "       [8.13936174e-01, 1.86063766e-01],\n",
       "       [9.99642372e-01, 3.57626181e-04],\n",
       "       [9.86756444e-01, 1.32435830e-02],\n",
       "       [9.99988437e-01, 1.16212877e-05],\n",
       "       [9.99999046e-01, 9.96148742e-07],\n",
       "       [9.54666436e-01, 4.53335270e-02],\n",
       "       [9.99807060e-01, 1.92957275e-04],\n",
       "       [7.75840580e-01, 2.24159405e-01],\n",
       "       [7.93185651e-01, 2.06814304e-01],\n",
       "       [9.99992847e-01, 7.20623984e-06],\n",
       "       [9.99860883e-01, 1.39061915e-04],\n",
       "       [9.42914009e-01, 5.70860580e-02],\n",
       "       [7.72558451e-01, 2.27441534e-01],\n",
       "       [8.44840586e-01, 1.55159429e-01],\n",
       "       [1.00000000e+00, 2.10112099e-20],\n",
       "       [9.94959116e-01, 5.04088495e-03],\n",
       "       [5.66907704e-01, 4.33092296e-01],\n",
       "       [9.41638768e-01, 5.83611652e-02],\n",
       "       [9.98774827e-01, 1.22511690e-03],\n",
       "       [1.00000000e+00, 1.87066207e-09],\n",
       "       [8.38164091e-01, 1.61835909e-01],\n",
       "       [9.12704408e-01, 8.72955844e-02],\n",
       "       [8.64260554e-01, 1.35739416e-01],\n",
       "       [8.79951835e-01, 1.20048188e-01],\n",
       "       [9.97523487e-01, 2.47646845e-03],\n",
       "       [9.99999166e-01, 7.88086197e-07],\n",
       "       [9.71480191e-01, 2.85198111e-02],\n",
       "       [9.99912381e-01, 8.75608457e-05],\n",
       "       [9.99992013e-01, 8.02458908e-06],\n",
       "       [9.50565696e-01, 4.94342856e-02],\n",
       "       [8.05775583e-01, 1.94224462e-01],\n",
       "       [9.99963403e-01, 3.65507549e-05],\n",
       "       [6.62353337e-01, 3.37646723e-01],\n",
       "       [9.35735226e-01, 6.42647296e-02],\n",
       "       [9.99996543e-01, 3.40588281e-06],\n",
       "       [9.04679775e-01, 9.53202024e-02],\n",
       "       [9.99992847e-01, 7.16474005e-06],\n",
       "       [9.91664290e-01, 8.33568815e-03],\n",
       "       [1.00000000e+00, 1.20199410e-13],\n",
       "       [1.00000000e+00, 2.67214167e-10],\n",
       "       [5.50290406e-01, 4.49709564e-01],\n",
       "       [9.96095121e-01, 3.90489982e-03],\n",
       "       [6.07930839e-01, 3.92069101e-01],\n",
       "       [9.99981642e-01, 1.83972006e-05],\n",
       "       [8.93515229e-01, 1.06484786e-01],\n",
       "       [9.99995708e-01, 4.25020198e-06],\n",
       "       [8.97083700e-01, 1.02916367e-01],\n",
       "       [9.90240097e-01, 9.75987781e-03],\n",
       "       [9.19470489e-01, 8.05294886e-02],\n",
       "       [9.99781907e-01, 2.18151574e-04],\n",
       "       [9.91290212e-01, 8.70977901e-03],\n",
       "       [9.70441401e-01, 2.95585468e-02],\n",
       "       [8.13256800e-01, 1.86743245e-01],\n",
       "       [1.00000000e+00, 1.85587351e-10],\n",
       "       [9.19918001e-01, 8.00820217e-02],\n",
       "       [1.00000000e+00, 5.47699983e-08],\n",
       "       [9.10139263e-01, 8.98607597e-02],\n",
       "       [9.97885883e-01, 2.11407617e-03],\n",
       "       [9.52584207e-01, 4.74158265e-02],\n",
       "       [9.99999642e-01, 3.08144450e-07],\n",
       "       [9.54519868e-01, 4.54800799e-02],\n",
       "       [9.99487519e-01, 5.12410712e-04],\n",
       "       [9.99999881e-01, 1.29023434e-07],\n",
       "       [4.95030731e-01, 5.04969239e-01],\n",
       "       [6.55017197e-01, 3.44982803e-01],\n",
       "       [8.40216398e-01, 1.59783632e-01],\n",
       "       [9.99991536e-01, 8.51621098e-06],\n",
       "       [9.96307850e-01, 3.69212823e-03],\n",
       "       [1.00000000e+00, 2.21039365e-08],\n",
       "       [9.94917631e-01, 5.08236559e-03],\n",
       "       [7.69915104e-01, 2.30084851e-01],\n",
       "       [6.33286059e-01, 3.66713941e-01],\n",
       "       [9.71725404e-01, 2.82746125e-02],\n",
       "       [5.32251954e-01, 4.67748076e-01],\n",
       "       [1.00000000e+00, 1.39731615e-10],\n",
       "       [9.99996424e-01, 3.57399335e-06],\n",
       "       [9.32159841e-01, 6.78401813e-02],\n",
       "       [9.85377491e-01, 1.46224974e-02],\n",
       "       [9.99999881e-01, 6.97545630e-08],\n",
       "       [1.00000000e+00, 5.01660153e-08],\n",
       "       [1.00000000e+00, 8.05498246e-14],\n",
       "       [8.09550405e-01, 1.90449655e-01],\n",
       "       [9.99726355e-01, 2.73583893e-04],\n",
       "       [9.99041736e-01, 9.58279066e-04],\n",
       "       [1.00000000e+00, 4.32607526e-11],\n",
       "       [1.00000000e+00, 2.84571460e-08],\n",
       "       [9.97977436e-01, 2.02254602e-03],\n",
       "       [9.99997139e-01, 2.92030336e-06],\n",
       "       [9.99898076e-01, 1.01927886e-04],\n",
       "       [9.99982476e-01, 1.75217629e-05],\n",
       "       [9.98324811e-01, 1.67520228e-03],\n",
       "       [9.99999881e-01, 6.98173821e-08],\n",
       "       [9.99990106e-01, 9.92607875e-06],\n",
       "       [9.99971867e-01, 2.80895893e-05],\n",
       "       [9.99999046e-01, 9.42018175e-07],\n",
       "       [9.91749704e-01, 8.25031940e-03],\n",
       "       [9.10761893e-01, 8.92380551e-02],\n",
       "       [9.99999881e-01, 6.89996469e-08],\n",
       "       [9.99739707e-01, 2.60275760e-04],\n",
       "       [9.99994636e-01, 5.33459297e-06],\n",
       "       [9.74361122e-01, 2.56388951e-02],\n",
       "       [9.99973893e-01, 2.60579272e-05],\n",
       "       [9.58307862e-01, 4.16921973e-02],\n",
       "       [1.00000000e+00, 2.57980346e-20],\n",
       "       [9.99999881e-01, 8.73172752e-08],\n",
       "       [9.99626637e-01, 3.73328570e-04],\n",
       "       [9.97502148e-01, 2.49789562e-03],\n",
       "       [1.00000000e+00, 2.05163140e-08],\n",
       "       [9.99505281e-01, 4.94699634e-04],\n",
       "       [9.90160942e-01, 9.83904116e-03],\n",
       "       [9.99845028e-01, 1.54946756e-04],\n",
       "       [5.99758387e-01, 4.00241584e-01],\n",
       "       [9.99873161e-01, 1.26786952e-04],\n",
       "       [5.58391094e-01, 4.41608846e-01],\n",
       "       [9.94341612e-01, 5.65841375e-03],\n",
       "       [9.25474763e-01, 7.45252296e-02],\n",
       "       [8.71936500e-01, 1.28063530e-01],\n",
       "       [1.00000000e+00, 8.86188437e-29],\n",
       "       [9.99999642e-01, 4.08127789e-07],\n",
       "       [7.62334764e-01, 2.37665206e-01],\n",
       "       [1.00000000e+00, 6.08668393e-10],\n",
       "       [9.99585450e-01, 4.14507464e-04],\n",
       "       [9.30211902e-01, 6.97881579e-02],\n",
       "       [9.99999881e-01, 8.92574405e-08],\n",
       "       [9.22306895e-01, 7.76930824e-02],\n",
       "       [9.97755587e-01, 2.24439544e-03],\n",
       "       [9.98999655e-01, 1.00039481e-03],\n",
       "       [9.48017180e-01, 5.19827902e-02],\n",
       "       [7.48527348e-01, 2.51472712e-01],\n",
       "       [9.99997497e-01, 2.55718692e-06],\n",
       "       [9.95146930e-01, 4.85310704e-03],\n",
       "       [9.85698283e-01, 1.43016893e-02],\n",
       "       [9.99999762e-01, 2.12086363e-07],\n",
       "       [6.36259198e-01, 3.63740772e-01],\n",
       "       [9.44799542e-01, 5.52003793e-02],\n",
       "       [9.99497294e-01, 5.02682815e-04],\n",
       "       [9.99992847e-01, 7.09601909e-06],\n",
       "       [9.99973536e-01, 2.64278406e-05],\n",
       "       [9.98475254e-01, 1.52479741e-03],\n",
       "       [9.99976039e-01, 2.40088539e-05],\n",
       "       [8.46255720e-01, 1.53744265e-01],\n",
       "       [1.00000000e+00, 1.43375830e-13],\n",
       "       [9.99967575e-01, 3.23897220e-05],\n",
       "       [9.99658465e-01, 3.41564213e-04],\n",
       "       [9.96620655e-01, 3.37930443e-03],\n",
       "       [9.96011138e-01, 3.98881733e-03],\n",
       "       [8.61095130e-01, 1.38904810e-01],\n",
       "       [1.00000000e+00, 2.89600050e-13],\n",
       "       [7.28608489e-01, 2.71391511e-01],\n",
       "       [9.99887109e-01, 1.12819755e-04],\n",
       "       [8.20370853e-01, 1.79629132e-01],\n",
       "       [1.00000000e+00, 1.06174892e-15],\n",
       "       [8.37340534e-01, 1.62659481e-01],\n",
       "       [9.99726832e-01, 2.73130951e-04],\n",
       "       [6.87132597e-01, 3.12867433e-01],\n",
       "       [9.99850154e-01, 1.49801970e-04],\n",
       "       [9.99730647e-01, 2.69347394e-04],\n",
       "       [9.99927878e-01, 7.20816024e-05],\n",
       "       [9.99998808e-01, 1.14491104e-06],\n",
       "       [9.99999762e-01, 1.94184423e-07],\n",
       "       [7.52656758e-01, 2.47343242e-01],\n",
       "       [9.99997735e-01, 2.22984022e-06],\n",
       "       [9.99997735e-01, 2.30046248e-06],\n",
       "       [1.00000000e+00, 1.10785985e-08],\n",
       "       [9.99950767e-01, 4.92415274e-05],\n",
       "       [7.62067676e-01, 2.37932310e-01],\n",
       "       [9.99940395e-01, 5.95893616e-05],\n",
       "       [9.99887824e-01, 1.12142523e-04],\n",
       "       [9.99999523e-01, 4.72440576e-07],\n",
       "       [9.99914646e-01, 8.53641686e-05],\n",
       "       [7.98086345e-01, 2.01913700e-01],\n",
       "       [9.99584973e-01, 4.15057119e-04],\n",
       "       [6.40284419e-01, 3.59715551e-01],\n",
       "       [9.33397412e-01, 6.66025355e-02],\n",
       "       [6.49108648e-01, 3.50891292e-01],\n",
       "       [9.99999762e-01, 2.91392212e-07],\n",
       "       [9.99999881e-01, 1.03572638e-07],\n",
       "       [9.99759734e-01, 2.40306981e-04],\n",
       "       [1.00000000e+00, 6.62275920e-12],\n",
       "       [9.59829807e-01, 4.01702672e-02],\n",
       "       [6.64687216e-01, 3.35312814e-01],\n",
       "       [6.39983177e-01, 3.60016823e-01],\n",
       "       [9.99911547e-01, 8.84670226e-05],\n",
       "       [6.57017291e-01, 3.42982739e-01],\n",
       "       [9.35908198e-01, 6.40918165e-02],\n",
       "       [7.30067551e-01, 2.69932449e-01],\n",
       "       [1.00000000e+00, 1.51664086e-08],\n",
       "       [9.81526256e-01, 1.84737165e-02],\n",
       "       [9.98278856e-01, 1.72116642e-03],\n",
       "       [6.12055957e-01, 3.87944013e-01],\n",
       "       [9.99997854e-01, 2.17087609e-06],\n",
       "       [9.99763310e-01, 2.36697990e-04],\n",
       "       [8.53002727e-01, 1.46997258e-01],\n",
       "       [9.99998212e-01, 1.78944299e-06],\n",
       "       [9.72904265e-01, 2.70957500e-02],\n",
       "       [8.66575599e-01, 1.33424371e-01],\n",
       "       [9.70523834e-01, 2.94761732e-02],\n",
       "       [9.68624175e-01, 3.13757733e-02],\n",
       "       [9.96037483e-01, 3.96246975e-03],\n",
       "       [1.00000000e+00, 8.58709281e-09],\n",
       "       [9.58888948e-01, 4.11110744e-02],\n",
       "       [9.00077283e-01, 9.99226943e-02],\n",
       "       [9.99994516e-01, 5.44628119e-06],\n",
       "       [6.70473754e-01, 3.29526216e-01],\n",
       "       [9.99996066e-01, 3.93698929e-06],\n",
       "       [1.00000000e+00, 2.15714313e-09],\n",
       "       [9.99974966e-01, 2.50149933e-05],\n",
       "       [1.00000000e+00, 1.05138227e-08],\n",
       "       [9.27507937e-01, 7.24921077e-02],\n",
       "       [9.97233093e-01, 2.76696705e-03],\n",
       "       [9.99999881e-01, 7.30379028e-08],\n",
       "       [7.57464290e-01, 2.42535681e-01],\n",
       "       [9.90543425e-01, 9.45659168e-03],\n",
       "       [9.60409224e-01, 3.95907275e-02],\n",
       "       [9.99999881e-01, 1.39788725e-07],\n",
       "       [7.78230727e-01, 2.21769333e-01],\n",
       "       [7.54740059e-01, 2.45259956e-01],\n",
       "       [8.41586113e-01, 1.58413857e-01],\n",
       "       [9.57209527e-01, 4.27905060e-02],\n",
       "       [9.99979138e-01, 2.08907113e-05],\n",
       "       [5.50129712e-01, 4.49870318e-01],\n",
       "       [9.43356574e-01, 5.66434041e-02],\n",
       "       [7.88125813e-01, 2.11874187e-01],\n",
       "       [6.77839041e-01, 3.22160929e-01],\n",
       "       [9.99999881e-01, 1.26910507e-07],\n",
       "       [1.00000000e+00, 1.67036096e-09],\n",
       "       [9.18844640e-01, 8.11553150e-02],\n",
       "       [9.44355607e-01, 5.56443520e-02],\n",
       "       [9.99919057e-01, 8.09674821e-05],\n",
       "       [7.93277800e-01, 2.06722230e-01],\n",
       "       [1.00000000e+00, 4.36381384e-08],\n",
       "       [5.30664444e-01, 4.69335556e-01],\n",
       "       [8.16756368e-01, 1.83243647e-01],\n",
       "       [9.99999881e-01, 6.08843109e-08],\n",
       "       [9.99965310e-01, 3.47079549e-05],\n",
       "       [9.99984741e-01, 1.52404782e-05],\n",
       "       [9.98874366e-01, 1.12563849e-03],\n",
       "       [8.62704813e-01, 1.37295187e-01],\n",
       "       [9.98917580e-01, 1.08243886e-03],\n",
       "       [9.70333278e-01, 2.96667349e-02],\n",
       "       [9.99526620e-01, 4.73429041e-04],\n",
       "       [8.86065960e-01, 1.13934010e-01],\n",
       "       [9.38050032e-01, 6.19499870e-02],\n",
       "       [1.00000000e+00, 2.64075706e-11],\n",
       "       [9.94359195e-01, 5.64077450e-03],\n",
       "       [6.94169283e-01, 3.05830777e-01],\n",
       "       [9.99999762e-01, 2.05741799e-07],\n",
       "       [1.00000000e+00, 5.55182202e-12],\n",
       "       [6.42927587e-01, 3.57072413e-01],\n",
       "       [9.32878315e-01, 6.71216771e-02],\n",
       "       [9.94382083e-01, 5.61798504e-03],\n",
       "       [1.00000000e+00, 1.53630268e-11],\n",
       "       [9.94700193e-01, 5.29980799e-03],\n",
       "       [5.92423201e-01, 4.07576770e-01],\n",
       "       [9.98184621e-01, 1.81533792e-03],\n",
       "       [1.00000000e+00, 3.81799925e-13],\n",
       "       [8.03264976e-01, 1.96735010e-01],\n",
       "       [7.99958706e-01, 2.00041249e-01],\n",
       "       [9.99889255e-01, 1.10773733e-04],\n",
       "       [9.99318600e-01, 6.81468169e-04],\n",
       "       [9.99644041e-01, 3.55910248e-04],\n",
       "       [9.59378302e-01, 4.06217277e-02],\n",
       "       [9.99996424e-01, 3.51965105e-06],\n",
       "       [8.32158864e-01, 1.67841151e-01],\n",
       "       [9.31621313e-01, 6.83787093e-02],\n",
       "       [9.99976754e-01, 2.32045095e-05],\n",
       "       [5.47535539e-01, 4.52464461e-01],\n",
       "       [6.83440804e-01, 3.16559166e-01],\n",
       "       [7.45851755e-01, 2.54148245e-01],\n",
       "       [8.07504356e-01, 1.92495644e-01],\n",
       "       [9.97104228e-01, 2.89579644e-03],\n",
       "       [9.98707414e-01, 1.29259157e-03],\n",
       "       [9.99783218e-01, 2.16779750e-04],\n",
       "       [7.48272479e-01, 2.51727521e-01],\n",
       "       [9.68968093e-01, 3.10318638e-02],\n",
       "       [9.99999881e-01, 6.06733224e-08],\n",
       "       [9.99998808e-01, 1.22740380e-06],\n",
       "       [1.00000000e+00, 4.21439594e-09],\n",
       "       [9.36293066e-01, 6.37069345e-02],\n",
       "       [6.69520199e-01, 3.30479831e-01]], dtype=float32)"
      ]
     },
     "execution_count": 64,
     "metadata": {},
     "output_type": "execute_result"
    }
   ],
   "source": [
    "prediction = model.predict(X_test)\n",
    "prediction "
   ]
  },
  {
   "cell_type": "markdown",
   "id": "e2e75733",
   "metadata": {
    "papermill": {
     "duration": 0.049012,
     "end_time": "2023-12-19T23:15:23.832691",
     "exception": false,
     "start_time": "2023-12-19T23:15:23.783679",
     "status": "completed"
    },
    "tags": []
   },
   "source": [
    "Test verisi içinden belirli bir indeksteki görüntüyü bu fonksiyon aracılığıyla gösterelim."
   ]
  },
  {
   "cell_type": "code",
   "execution_count": 65,
   "id": "e1ceb0f1",
   "metadata": {
    "execution": {
     "iopub.execute_input": "2023-12-19T23:15:23.935327Z",
     "iopub.status.busy": "2023-12-19T23:15:23.934423Z",
     "iopub.status.idle": "2023-12-19T23:15:24.212090Z",
     "shell.execute_reply": "2023-12-19T23:15:24.211134Z"
    },
    "papermill": {
     "duration": 0.33259,
     "end_time": "2023-12-19T23:15:24.214284",
     "exception": false,
     "start_time": "2023-12-19T23:15:23.881694",
     "status": "completed"
    },
    "tags": []
   },
   "outputs": [
    {
     "data": {
      "image/png": "[encoded data removed]",
      "text/plain": [
       "<Figure size 640x480 with 1 Axes>"
      ]
     },
     "metadata": {},
     "output_type": "display_data"
    }
   ],
   "source": [
    "def img_plot(arr,index=0):\n",
    "    plt.title('Test Image')\n",
    "    plt.imshow(arr[index])\n",
    "    \n",
    "index = 90\n",
    "img_plot(X_test, index)"
   ]
  },
  {
   "cell_type": "code",
   "execution_count": 66,
   "id": "3de74190",
   "metadata": {
    "execution": {
     "iopub.execute_input": "2023-12-19T23:15:24.421767Z",
     "iopub.status.busy": "2023-12-19T23:15:24.421047Z",
     "iopub.status.idle": "2023-12-19T23:15:24.543607Z",
     "shell.execute_reply": "2023-12-19T23:15:24.542563Z"
    },
    "papermill": {
     "duration": 0.180303,
     "end_time": "2023-12-19T23:15:24.545996",
     "exception": false,
     "start_time": "2023-12-19T23:15:24.365693",
     "status": "completed"
    },
    "tags": []
   },
   "outputs": [
    {
     "name": "stdout",
     "output_type": "stream",
     "text": [
      "1/1 [==============================] - 0s 74ms/step\n",
      "Predicted Value using  cnn model 0\n",
      "True Value 0\n"
     ]
    }
   ],
   "source": [
    "input = X_test[index:index+1]\n",
    "pred = model.predict(input)[0].argmax()\n",
    "label = y_test[index].argmax()\n",
    "print('Predicted Value using  cnn model',pred)\n",
    "print(\"True Value\",label)"
   ]
  },
  {
   "cell_type": "code",
   "execution_count": 67,
   "id": "c1f88b84",
   "metadata": {
    "execution": {
     "iopub.execute_input": "2023-12-19T23:15:24.652644Z",
     "iopub.status.busy": "2023-12-19T23:15:24.652250Z",
     "iopub.status.idle": "2023-12-19T23:15:24.988704Z",
     "shell.execute_reply": "2023-12-19T23:15:24.987762Z"
    },
    "papermill": {
     "duration": 0.39123,
     "end_time": "2023-12-19T23:15:24.990849",
     "exception": false,
     "start_time": "2023-12-19T23:15:24.599619",
     "status": "completed"
    },
    "tags": []
   },
   "outputs": [
    {
     "name": "stdout",
     "output_type": "stream",
     "text": [
      "1/1 [==============================] - 0s 20ms/step\n",
      "Predicted Diagnosis: Non-Cancerous\n",
      "Calcification Type: No Calcification\n",
      "True Diagnosis: Non-Cancerous\n"
     ]
    },
    {
     "data": {
      "image/png": "[encoded data removed]",
      "text/plain": [
       "<Figure size 640x480 with 1 Axes>"
      ]
     },
     "metadata": {},
     "output_type": "display_data"
    }
   ],
   "source": [
    "# Define a mapping of class indices to human-readable labels\n",
    "class_labels = {\n",
    "    0: 'Non-Cancerous',\n",
    "    1: 'Cancerous',\n",
    "}\n",
    "\n",
    "# Define a mapping of calcification types\n",
    "calcification_types = {\n",
    "    0: 'No Calcification',\n",
    "    1: 'PLEOMORPHIC',\n",
    "    2: 'AMORPHOUS',\n",
    "    3: 'PUNCTATE',\n",
    "    4: 'LUCENT_CENTER',\n",
    "    5: 'VASCULAR',\n",
    "    6: 'FINE_LINEAR_BRANCHING',\n",
    "    7: 'COARSE',\n",
    "    8: 'ROUND_AND_REGULAR-LUCENT_CENTER',\n",
    "    9: 'PLEOMORPHIC-FINE_LINEAR_BRANCHING',\n",
    "    10: 'ROUND_AND_REGULAR-LUCENT_CENTER-PUNCTATE',\n",
    "    11: 'ROUND_AND_REGULAR-EGGSHELL',\n",
    "    12: 'PUNCTATE-PLEOMORPHIC',\n",
    "    13: 'DYSTROPHIC',\n",
    "    14: 'LUCENT_CENTERED',\n",
    "    15: 'ROUND_AND_REGULAR-LUCENT_CENTER-DYSTROPHIC',\n",
    "    16: 'ROUND_AND_REGULAR',\n",
    "    17: 'ROUND_AND_REGULAR-LUCENT_CENTERED',\n",
    "    18: 'AMORPHOUS-PLEOMORPHIC',\n",
    "    19: 'LARGE_RODLIKE-ROUND_AND_REGULAR',\n",
    "    20: 'PUNCTATE-AMORPHOUS',\n",
    "    21: 'COARSE-ROUND_AND_REGULAR-LUCENT_CENTER',\n",
    "    22: 'VASCULAR-COARSE-LUCENT_CENTERED',\n",
    "    23: 'LUCENT_CENTER-PUNCTATE',\n",
    "    24: 'ROUND_AND_REGULAR-PLEOMORPHIC',\n",
    "    25: 'EGGSHELL',\n",
    "    26: 'PUNCTATE-FINE_LINEAR_BRANCHING',\n",
    "    27: 'VASCULAR-COARSE',\n",
    "    28: 'ROUND_AND_REGULAR-PUNCTATE',\n",
    "    29: 'SKIN-PUNCTATE-ROUND_AND_REGULAR',\n",
    "    30: 'SKIN-PUNCTATE',\n",
    "    31: 'COARSE-ROUND_AND_REGULAR-LUCENT_CENTERED',\n",
    "    32: 'PUNCTATE-ROUND_AND_REGULAR',\n",
    "    33: 'LARGE_RODLIKE',\n",
    "    34: 'AMORPHOUS-ROUND_AND_REGULAR',\n",
    "    35: 'PUNCTATE-LUCENT_CENTER',\n",
    "    36: 'SKIN',\n",
    "    37: 'VASCULAR-COARSE-LUCENT_CENTER-ROUND_AND_REGULA',\n",
    "    38: 'COARSE-PLEOMORPHIC',\n",
    "    39: 'ROUND_AND_REGULAR-PUNCTATE-AMORPHOUS',\n",
    "    40: 'COARSE-LUCENT_CENTER',\n",
    "    41: 'MILK_OF_CALCIUM',\n",
    "    42: 'COARSE-ROUND_AND_REGULAR',\n",
    "    43: 'SKIN-COARSE-ROUND_AND_REGULAR',\n",
    "    44: 'ROUND_AND_REGULAR-AMORPHOUS',\n",
    "    45: 'PLEOMORPHIC-PLEOMORPHIC'\n",
    "}\n",
    "\n",
    "# Define a function for plotting an image from an array\n",
    "def img_plot(arr, index=0):\n",
    "    # Set the title for the plot\n",
    "    plt.title('Test Image')\n",
    "    \n",
    "    # Display the image at the specified index in the array\n",
    "    plt.imshow(arr[index])\n",
    "\n",
    "# Set the index value to 90\n",
    "index = 90\n",
    "\n",
    "# Plot an image from the X_test array using the img_plot function\n",
    "img_plot(X_test, index)\n",
    "\n",
    "# Extract a single image from X_test based on the specified index\n",
    "input = X_test[index:index+1]\n",
    "\n",
    "# Make a prediction using the CNN model and get the class with the highest probability\n",
    "predicted_class_index = model.predict(input)[0].argmax()\n",
    "\n",
    "# Get the true label from the y_test array\n",
    "true_class_index = y_test[index].argmax()\n",
    "\n",
    "# Get the predicted and true labels\n",
    "predicted_label = class_labels[predicted_class_index]\n",
    "true_label = class_labels[true_class_index]\n",
    "\n",
    "# Get the calcification type based on the predicted class index (modify as needed)\n",
    "calcification_type = calcification_types[predicted_class_index]\n",
    "\n",
    "# Print the prediction result with calcification type\n",
    "print('Predicted Diagnosis:', predicted_label)\n",
    "print('Calcification Type:', calcification_type)\n",
    "print('True Diagnosis:', true_label)"
   ]
  }
 ],
 "metadata": {
  "kaggle": {
   "accelerator": "gpu",
   "dataSources": [
    {
     "datasetId": 7415,
     "sourceId": 10564,
     "sourceType": "datasetVersion"
    },
    {
     "datasetId": 1115384,
     "sourceId": 1873742,
     "sourceType": "datasetVersion"
    }
   ],
   "dockerImageVersionId": 30627,
   "isGpuEnabled": true,
   "isInternetEnabled": true,
   "language": "python",
   "sourceType": "notebook"
  },
  "kernelspec": {
   "display_name": "Python 3",
   "language": "python",
   "name": "python3"
  },
  "language_info": {
   "codemirror_mode": {
    "name": "ipython",
    "version": 3
   },
   "file_extension": ".py",
   "mimetype": "text/x-python",
   "name": "python",
   "nbconvert_exporter": "python",
   "pygments_lexer": "ipython3",
   "version": "3.10.12"
  },
  "papermill": {
   "default_parameters": {},
   "duration": 370.767734,
   "end_time": "2023-12-19T23:15:28.455316",
   "environment_variables": {},
   "exception": null,
   "input_path": "__notebook__.ipynb",
   "output_path": "__notebook__.ipynb",
   "parameters": {},
   "start_time": "2023-12-19T23:09:17.687582",
   "version": "2.4.0"
  }
 },
 "nbformat": 4,
 "nbformat_minor": 5
}
